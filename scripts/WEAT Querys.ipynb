{
 "cells": [
  {
   "cell_type": "markdown",
   "metadata": {},
   "source": [
    "# Source: https://github.com/dccuchile/wefe/blob/master/examples/WEFE_rankings.ipynb"
   ]
  },
  {
   "cell_type": "code",
   "execution_count": 1,
   "metadata": {},
   "outputs": [
    {
     "name": "stderr",
     "output_type": "stream",
     "text": [
      "C:\\Users\\Andreas\\anaconda3\\lib\\site-packages\\numpy\\_distributor_init.py:30: UserWarning: loaded more than 1 DLL from .libs:\n",
      "C:\\Users\\Andreas\\anaconda3\\lib\\site-packages\\numpy\\.libs\\libopenblas.FB5AE2TYXYH2IJRDKGDGQ3XBKLKTF43H.gfortran-win_amd64.dll\n",
      "C:\\Users\\Andreas\\anaconda3\\lib\\site-packages\\numpy\\.libs\\libopenblas.noijjg62emaszi6nyurl6jbkm4evbgm7.gfortran-win_amd64.dll\n",
      "C:\\Users\\Andreas\\anaconda3\\lib\\site-packages\\numpy\\.libs\\libopenblas.PYQHXLVVQ7VESDPUVUADXEVJOBGHJPAY.gfortran-win_amd64.dll\n",
      "  warnings.warn(\"loaded more than 1 DLL from .libs:\"\n"
     ]
    }
   ],
   "source": [
    "from wefe.datasets import (\n",
    "    load_weat,\n",
    "    fetch_eds,\n",
    "    fetch_debias_multiclass,\n",
    "    fetch_debiaswe,\n",
    "    load_bingliu,\n",
    ")\n",
    "\n",
    "from wefe.query import Query"
   ]
  },
  {
   "cell_type": "code",
   "execution_count": 2,
   "metadata": {},
   "outputs": [],
   "source": [
    "WEAT_wordsets = load_weat()\n",
    "\n",
    "RND_wordsets = fetch_eds()\n",
    "\n",
    "sentiments_wordsets = load_bingliu()\n",
    "debias_multiclass_wordsets = fetch_debias_multiclass()"
   ]
  },
  {
   "cell_type": "code",
   "execution_count": 3,
   "metadata": {},
   "outputs": [],
   "source": [
    "gender_1 = Query(\n",
    "\n",
    "\n",
    "    [RND_wordsets[\"male_terms\"], RND_wordsets[\"female_terms\"]],\n",
    "    [WEAT_wordsets[\"career\"], WEAT_wordsets[\"family\"]],\n",
    "    [\"Male terms\", \"Female terms\"],\n",
    "    [\"Career\", \"Family\"],\n",
    ")\n",
    "\n",
    "gender_2 = Query(\n",
    "    [RND_wordsets[\"male_terms\"], RND_wordsets[\"female_terms\"]],\n",
    "    [WEAT_wordsets[\"math\"], WEAT_wordsets[\"arts\"]],\n",
    "    [\"Male terms\", \"Female terms\"],\n",
    "    [\"Math\", \"Arts\"],\n",
    ")\n",
    "\n",
    "gender_3 = Query(\n",
    "    [RND_wordsets[\"male_terms\"], RND_wordsets[\"female_terms\"]],\n",
    "    [WEAT_wordsets[\"science\"], WEAT_wordsets[\"arts\"]],\n",
    "    [\"Male terms\", \"Female terms\"],\n",
    "    [\"Science\", \"Arts\"],\n",
    ")\n",
    "\n",
    "gender_4 = Query(\n",
    "    [RND_wordsets[\"male_terms\"], RND_wordsets[\"female_terms\"]],\n",
    "    [RND_wordsets[\"adjectives_intelligence\"], RND_wordsets[\"adjectives_appearance\"]],\n",
    "    [\"Male terms\", \"Female terms\"],\n",
    "    [\"Intelligence\", \"Appearence\"],\n",
    ")\n",
    "\n",
    "gender_5 = Query(\n",
    "    [RND_wordsets[\"male_terms\"], RND_wordsets[\"female_terms\"]],\n",
    "    [RND_wordsets[\"adjectives_intelligence\"], RND_wordsets[\"adjectives_sensitive\"]],\n",
    "    [\"Male terms\", \"Female terms\"],\n",
    "    [\"Intelligence\", \"Sensitive\"],\n",
    ")\n",
    "gender_6 = Query(\n",
    "    [RND_wordsets[\"male_terms\"], RND_wordsets[\"female_terms\"]],\n",
    "    [WEAT_wordsets[\"pleasant_5\"], WEAT_wordsets[\"unpleasant_5\"]],\n",
    "    [\"Male terms\", \"Female terms\"],\n",
    "    [\"Pleasant\", \"Unpleasant\"],\n",
    ")\n",
    "\n",
    "gender_sent_1 = Query(\n",
    "    [RND_wordsets[\"male_terms\"], RND_wordsets[\"female_terms\"]],\n",
    "    [sentiments_wordsets[\"positive_words\"], sentiments_wordsets[\"negative_words\"]],\n",
    "    [\"Male terms\", \"Female terms\"],\n",
    "    [\"Positive words\", \"Negative words\"],\n",
    ")\n",
    "\n",
    "gender_role_1 = Query(\n",
    "    [RND_wordsets[\"male_terms\"], RND_wordsets[\"female_terms\"]],\n",
    "    [\n",
    "        debias_multiclass_wordsets[\"male_roles\"],\n",
    "        debias_multiclass_wordsets[\"female_roles\"],\n",
    "    ],\n",
    "    [\"Male terms\", \"Female terms\"],\n",
    "    [\"Man Roles\", \"Woman Roles\"],\n",
    ")\n"
   ]
  },
  {
   "cell_type": "markdown",
   "metadata": {},
   "source": [
    "# Gender related queries provided by wefe and used within the thesis"
   ]
  },
  {
   "cell_type": "code",
   "execution_count": 22,
   "metadata": {
    "scrolled": true
   },
   "outputs": [
    {
     "name": "stdout",
     "output_type": "stream",
     "text": [
      "Male terms and Female terms wrt Career and Family\n",
      "Attribute sets:\n",
      "['Career', 'Family']\n",
      "['executive', 'management', 'professional', 'corporation', 'salary', 'office', 'business', 'career']\n",
      "['home', 'parents', 'children', 'family', 'cousins', 'marriage', 'wedding', 'relatives']\n",
      "Target sets:\n",
      "['Male terms', 'Female terms']\n",
      "['he', 'son', 'his', 'him', 'father', 'man', 'boy', 'himself', 'male', 'brother', 'sons', 'fathers', 'men', 'boys', 'males', 'brothers', 'uncle', 'uncles', 'nephew', 'nephews']\n",
      "['she', 'daughter', 'hers', 'her', 'mother', 'woman', 'girl', 'herself', 'female', 'sister', 'daughters', 'mothers', 'women', 'girls', 'females', 'sisters', 'aunt', 'aunts', 'niece', 'nieces']\n"
     ]
    }
   ],
   "source": [
    "print(\"Query: Male terms and Female terms wrt Career and Family\")\n",
    "print(\"----------------------------\")\n",
    "print(\"Attribute sets:\")\n",
    "print(gender_1.attribute_sets_names)\n",
    "print(gender_1.attribute_sets[0])\n",
    "print(gender_1.attribute_sets[1])\n",
    "print(\"----------------------------\")\n",
    "print(\"Target sets:\")\n",
    "print(gender_1.target_sets_names)\n",
    "print(gender_1.target_sets[0])\n",
    "print(gender_1.target_sets[1])\n"
   ]
  },
  {
   "cell_type": "code",
   "execution_count": 25,
   "metadata": {},
   "outputs": [
    {
     "name": "stdout",
     "output_type": "stream",
     "text": [
      "Query: Male terms and Female terms wrt Math and Arts\n",
      "----------------------------\n",
      "Attribute sets:\n",
      "['Math', 'Arts']\n",
      "['math', 'algebra', 'geometry', 'calculus', 'equations', 'computation', 'numbers', 'addition']\n",
      "['poetry', 'art', 'dance', 'literature', 'novel', 'symphony', 'drama', 'sculpture']\n",
      "----------------------------\n",
      "Target sets:\n",
      "['Male terms', 'Female terms']\n",
      "['he', 'son', 'his', 'him', 'father', 'man', 'boy', 'himself', 'male', 'brother', 'sons', 'fathers', 'men', 'boys', 'males', 'brothers', 'uncle', 'uncles', 'nephew', 'nephews']\n",
      "['she', 'daughter', 'hers', 'her', 'mother', 'woman', 'girl', 'herself', 'female', 'sister', 'daughters', 'mothers', 'women', 'girls', 'females', 'sisters', 'aunt', 'aunts', 'niece', 'nieces']\n"
     ]
    }
   ],
   "source": [
    "print(\"Query: Male terms and Female terms wrt Math and Arts\")\n",
    "print(\"----------------------------\")\n",
    "print(\"Attribute sets:\")\n",
    "print(gender_2.attribute_sets_names)\n",
    "print(gender_2.attribute_sets[0])\n",
    "print(gender_2.attribute_sets[1])\n",
    "print(\"----------------------------\")\n",
    "print(\"Target sets:\")\n",
    "print(gender_2.target_sets_names)\n",
    "print(gender_2.target_sets[0])\n",
    "print(gender_2.target_sets[1])"
   ]
  },
  {
   "cell_type": "code",
   "execution_count": 26,
   "metadata": {},
   "outputs": [
    {
     "name": "stdout",
     "output_type": "stream",
     "text": [
      "Query: Male terms and Female terms wrt Science and Arts\n",
      "----------------------------\n",
      "Attribute sets:\n",
      "['Science', 'Arts']\n",
      "['science', 'technology', 'physics', 'chemistry', 'Einstein', 'NASA', 'experiment', 'astronomy']\n",
      "['poetry', 'art', 'dance', 'literature', 'novel', 'symphony', 'drama', 'sculpture']\n",
      "----------------------------\n",
      "Target sets:\n",
      "['Male terms', 'Female terms']\n",
      "['he', 'son', 'his', 'him', 'father', 'man', 'boy', 'himself', 'male', 'brother', 'sons', 'fathers', 'men', 'boys', 'males', 'brothers', 'uncle', 'uncles', 'nephew', 'nephews']\n",
      "['she', 'daughter', 'hers', 'her', 'mother', 'woman', 'girl', 'herself', 'female', 'sister', 'daughters', 'mothers', 'women', 'girls', 'females', 'sisters', 'aunt', 'aunts', 'niece', 'nieces']\n"
     ]
    }
   ],
   "source": [
    "print(\"Query: Male terms and Female terms wrt Science and Arts\")\n",
    "print(\"----------------------------\")\n",
    "print(\"Attribute sets:\")\n",
    "print(gender_3.attribute_sets_names)\n",
    "print(gender_3.attribute_sets[0])\n",
    "print(gender_3.attribute_sets[1])\n",
    "print(\"----------------------------\")\n",
    "print(\"Target sets:\")\n",
    "print(gender_3.target_sets_names)\n",
    "print(gender_3.target_sets[0])\n",
    "print(gender_3.target_sets[1])"
   ]
  },
  {
   "cell_type": "code",
   "execution_count": 27,
   "metadata": {},
   "outputs": [
    {
     "name": "stdout",
     "output_type": "stream",
     "text": [
      "Query: Male terms and Female terms wrt Intelligence and Appearence\n",
      "----------------------------\n",
      "Attribute sets:\n",
      "['Intelligence', 'Appearence']\n",
      "['precocious', 'resourceful', 'inquisitive', 'sagacious', 'inventive', 'astute', 'adaptable', 'reflective', 'discerning', 'intuitive', 'inquiring', 'judicious', 'analytical', 'luminous', 'venerable', 'imaginative', 'shrewd', 'thoughtful', 'sage', 'smart', 'ingenious', 'clever', 'brilliant', 'logical', 'intelligent', 'apt', 'genius', 'wise']\n",
      "['alluring', 'voluptuous', 'blushing', 'homely', 'plump', 'sensual', 'gorgeous', 'slim', 'bald', 'athletic', 'fashionable', 'stout', 'ugly', 'muscular', 'slender', 'feeble', 'handsome', 'healthy', 'attractive', 'fat', 'weak', 'thin', 'pretty', 'beautiful', 'strong']\n",
      "----------------------------\n",
      "Target sets:\n",
      "['Male terms', 'Female terms']\n",
      "['he', 'son', 'his', 'him', 'father', 'man', 'boy', 'himself', 'male', 'brother', 'sons', 'fathers', 'men', 'boys', 'males', 'brothers', 'uncle', 'uncles', 'nephew', 'nephews']\n",
      "['she', 'daughter', 'hers', 'her', 'mother', 'woman', 'girl', 'herself', 'female', 'sister', 'daughters', 'mothers', 'women', 'girls', 'females', 'sisters', 'aunt', 'aunts', 'niece', 'nieces']\n"
     ]
    }
   ],
   "source": [
    "print(\"Query: Male terms and Female terms wrt Intelligence and Appearence\")\n",
    "print(\"----------------------------\")\n",
    "print(\"Attribute sets:\")\n",
    "print(gender_4.attribute_sets_names)\n",
    "print(gender_4.attribute_sets[0])\n",
    "print(gender_4.attribute_sets[1])\n",
    "print(\"----------------------------\")\n",
    "print(\"Target sets:\")\n",
    "print(gender_4.target_sets_names)\n",
    "print(gender_4.target_sets[0])\n",
    "print(gender_4.target_sets[1])"
   ]
  },
  {
   "cell_type": "code",
   "execution_count": 28,
   "metadata": {},
   "outputs": [
    {
     "name": "stdout",
     "output_type": "stream",
     "text": [
      "Query: Male terms and Female terms wrt Intelligence and Sensitive\n",
      "----------------------------\n",
      "Attribute sets:\n",
      "['Intelligence', 'Sensitive']\n",
      "['precocious', 'resourceful', 'inquisitive', 'sagacious', 'inventive', 'astute', 'adaptable', 'reflective', 'discerning', 'intuitive', 'inquiring', 'judicious', 'analytical', 'luminous', 'venerable', 'imaginative', 'shrewd', 'thoughtful', 'sage', 'smart', 'ingenious', 'clever', 'brilliant', 'logical', 'intelligent', 'apt', 'genius', 'wise']\n",
      "['inhibited', 'complacent', 'sensitive', 'mellow', 'solemn', 'studious', 'intelligent', 'brilliant', 'rational', 'serious', 'contemplative', 'cowardly', 'timid', 'shy', 'passive', 'delicate', 'gentle', 'soft', 'quiet', 'working']\n",
      "----------------------------\n",
      "Target sets:\n",
      "['Male terms', 'Female terms']\n",
      "['he', 'son', 'his', 'him', 'father', 'man', 'boy', 'himself', 'male', 'brother', 'sons', 'fathers', 'men', 'boys', 'males', 'brothers', 'uncle', 'uncles', 'nephew', 'nephews']\n",
      "['she', 'daughter', 'hers', 'her', 'mother', 'woman', 'girl', 'herself', 'female', 'sister', 'daughters', 'mothers', 'women', 'girls', 'females', 'sisters', 'aunt', 'aunts', 'niece', 'nieces']\n"
     ]
    }
   ],
   "source": [
    "print(\"Query: Male terms and Female terms wrt Intelligence and Sensitive\")\n",
    "print(\"----------------------------\")\n",
    "print(\"Attribute sets:\")\n",
    "print(gender_5.attribute_sets_names)\n",
    "print(gender_5.attribute_sets[0])\n",
    "print(gender_5.attribute_sets[1])\n",
    "print(\"----------------------------\")\n",
    "print(\"Target sets:\")\n",
    "print(gender_5.target_sets_names)\n",
    "print(gender_5.target_sets[0])\n",
    "print(gender_5.target_sets[1])"
   ]
  },
  {
   "cell_type": "code",
   "execution_count": 29,
   "metadata": {},
   "outputs": [
    {
     "name": "stdout",
     "output_type": "stream",
     "text": [
      "Query: Male terms and Female terms wrt Pleasant and Unpleasant\n",
      "----------------------------\n",
      "Attribute sets:\n",
      "['Pleasant', 'Unpleasant']\n",
      "['caress', 'freedom', 'health', 'love', 'peace', 'cheer', 'friend', 'heaven', 'loyal', 'pleasure', 'diamond', 'gentle', 'honest', 'lucky', 'rainbow', 'diploma', 'gift', 'honor', 'miracle', 'sunrise', 'family', 'happy', 'laughter', 'paradise', 'vacation']\n",
      "['abuse', 'crash', 'filth', 'murder', 'sickness', 'accident', 'death', 'grief', 'poison', 'stink', 'assault', 'disaster', 'hatred', 'pollute', 'tragedy', 'divorce', 'jail', 'poverty', 'ugly', 'cancer', 'kill', 'rotten', 'vomit', 'agony', 'prison']\n",
      "----------------------------\n",
      "Target sets:\n",
      "['Male terms', 'Female terms']\n",
      "['he', 'son', 'his', 'him', 'father', 'man', 'boy', 'himself', 'male', 'brother', 'sons', 'fathers', 'men', 'boys', 'males', 'brothers', 'uncle', 'uncles', 'nephew', 'nephews']\n",
      "['she', 'daughter', 'hers', 'her', 'mother', 'woman', 'girl', 'herself', 'female', 'sister', 'daughters', 'mothers', 'women', 'girls', 'females', 'sisters', 'aunt', 'aunts', 'niece', 'nieces']\n"
     ]
    }
   ],
   "source": [
    "print(\"Query: Male terms and Female terms wrt Pleasant and Unpleasant\")\n",
    "print(\"----------------------------\")\n",
    "print(\"Attribute sets:\")\n",
    "print(gender_6.attribute_sets_names)\n",
    "print(gender_6.attribute_sets[0])\n",
    "print(gender_6.attribute_sets[1])\n",
    "print(\"----------------------------\")\n",
    "print(\"Target sets:\")\n",
    "print(gender_6.target_sets_names)\n",
    "print(gender_6.target_sets[0])\n",
    "print(gender_6.target_sets[1])"
   ]
  },
  {
   "cell_type": "code",
   "execution_count": 40,
   "metadata": {
    "scrolled": true
   },
   "outputs": [
    {
     "name": "stdout",
     "output_type": "stream",
     "text": [
      "Query: Male terms and Female terms wrt Positive words and Negative words\n",
      "----------------------------\n",
      "Attribute sets:\n",
      "['Positive words', 'Negative words']\n",
      "['a+', 'abound', 'abounds', 'abundance', 'abundant', 'accessable', 'accessible', 'acclaim', 'acclaimed', 'acclamation'] ... (1.996 more following)\n",
      "['2-faced', '2-faces', 'abnormal', 'abolish', 'abominable', 'abominably', 'abominate', 'abomination', 'abort', 'aborted'] ... (4773 more following)\n",
      "----------------------------\n",
      "Target sets:\n",
      "['Male terms', 'Female terms']\n",
      "['he', 'son', 'his', 'him', 'father', 'man', 'boy', 'himself', 'male', 'brother', 'sons', 'fathers', 'men', 'boys', 'males', 'brothers', 'uncle', 'uncles', 'nephew', 'nephews']\n",
      "['she', 'daughter', 'hers', 'her', 'mother', 'woman', 'girl', 'herself', 'female', 'sister', 'daughters', 'mothers', 'women', 'girls', 'females', 'sisters', 'aunt', 'aunts', 'niece', 'nieces']\n"
     ]
    }
   ],
   "source": [
    "print(\"Query: Male terms and Female terms wrt Positive words and Negative words\")\n",
    "print(\"----------------------------\")\n",
    "print(\"Attribute sets:\")\n",
    "print(gender_sent_1.attribute_sets_names)\n",
    "print(gender_sent_1.attribute_sets[0][:10], \"... (1.996 more following)\")\n",
    "print(gender_sent_1.attribute_sets[1][:10], \"... (4773 more following)\")\n",
    "print(\"----------------------------\")\n",
    "print(\"Target sets:\")\n",
    "print(gender_sent_1.target_sets_names)\n",
    "print(gender_sent_1.target_sets[0])\n",
    "print(gender_sent_1.target_sets[1])"
   ]
  },
  {
   "cell_type": "code",
   "execution_count": 43,
   "metadata": {},
   "outputs": [
    {
     "name": "stdout",
     "output_type": "stream",
     "text": [
      "Query: Male terms and Female terms wrt Man Roles and Woman Roles\n",
      "----------------------------\n",
      "Attribute sets:\n",
      "['Man Roles', 'Woman Roles']\n",
      "['manager', 'executive', 'doctor', 'lawyer', 'programmer', 'scientist', 'soldier', 'supervisor', 'rancher', 'janitor', 'firefighter', 'officer']\n",
      "['secretary', 'nurse', 'clerk', 'artist', 'homemaker', 'dancer', 'singer', 'librarian', 'maid', 'hairdresser', 'stylist', 'receptionist', 'counselor']\n",
      "----------------------------\n",
      "Target sets:\n",
      "['Male terms', 'Female terms']\n",
      "['he', 'son', 'his', 'him', 'father', 'man', 'boy', 'himself', 'male', 'brother', 'sons', 'fathers', 'men', 'boys', 'males', 'brothers', 'uncle', 'uncles', 'nephew', 'nephews']\n",
      "['she', 'daughter', 'hers', 'her', 'mother', 'woman', 'girl', 'herself', 'female', 'sister', 'daughters', 'mothers', 'women', 'girls', 'females', 'sisters', 'aunt', 'aunts', 'niece', 'nieces']\n"
     ]
    }
   ],
   "source": [
    "print(\"Query: Male terms and Female terms wrt Man Roles and Woman Roles\")\n",
    "print(\"----------------------------\")\n",
    "print(\"Attribute sets:\")\n",
    "print(gender_role_1.attribute_sets_names)\n",
    "print(gender_role_1.attribute_sets[0])\n",
    "print(gender_role_1.attribute_sets[1])\n",
    "print(\"----------------------------\")\n",
    "print(\"Target sets:\")\n",
    "print(gender_role_1.target_sets_names)\n",
    "print(gender_role_1.target_sets[0])\n",
    "print(gender_role_1.target_sets[1])"
   ]
  }
 ],
 "metadata": {
  "kernelspec": {
   "display_name": "myenv",
   "language": "python",
   "name": "myenv"
  },
  "language_info": {
   "codemirror_mode": {
    "name": "ipython",
    "version": 3
   },
   "file_extension": ".py",
   "mimetype": "text/x-python",
   "name": "python",
   "nbconvert_exporter": "python",
   "pygments_lexer": "ipython3",
   "version": "3.8.5"
  }
 },
 "nbformat": 4,
 "nbformat_minor": 4
}
