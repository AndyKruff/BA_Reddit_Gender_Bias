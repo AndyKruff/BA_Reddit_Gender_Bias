{
 "cells": [
  {
   "cell_type": "code",
   "execution_count": 1,
   "metadata": {},
   "outputs": [
    {
     "name": "stderr",
     "output_type": "stream",
     "text": [
      "C:\\Users\\Andreas\\anaconda3\\lib\\site-packages\\numpy\\_distributor_init.py:30: UserWarning: loaded more than 1 DLL from .libs:\n",
      "C:\\Users\\Andreas\\anaconda3\\lib\\site-packages\\numpy\\.libs\\libopenblas.FB5AE2TYXYH2IJRDKGDGQ3XBKLKTF43H.gfortran-win_amd64.dll\n",
      "C:\\Users\\Andreas\\anaconda3\\lib\\site-packages\\numpy\\.libs\\libopenblas.noijjg62emaszi6nyurl6jbkm4evbgm7.gfortran-win_amd64.dll\n",
      "C:\\Users\\Andreas\\anaconda3\\lib\\site-packages\\numpy\\.libs\\libopenblas.PYQHXLVVQ7VESDPUVUADXEVJOBGHJPAY.gfortran-win_amd64.dll\n",
      "  warnings.warn(\"loaded more than 1 DLL from .libs:\"\n"
     ]
    }
   ],
   "source": [
    "from gensim.models import FastText"
   ]
  },
  {
   "cell_type": "code",
   "execution_count": 2,
   "metadata": {},
   "outputs": [],
   "source": [
    "import pandas as pd\n",
    "import numpy as np\n",
    "from functools import reduce\n",
    "import gensim.downloader as api\n",
    "import os\n",
    "\n",
    "from wefe.datasets import (\n",
    "    load_weat,\n",
    "    fetch_eds,\n",
    "    fetch_debias_multiclass,\n",
    "    fetch_debiaswe,\n",
    "    load_bingliu,\n",
    ")\n",
    "from wefe.query import Query\n",
    "from wefe.word_embedding_model import WordEmbeddingModel\n",
    "from wefe.metrics import WEAT, RNSB, RND\n",
    "\n",
    "\n",
    "from wefe.utils import (\n",
    "    run_queries,\n",
    "    plot_queries_results,\n",
    "    create_ranking,\n",
    "    plot_ranking,\n",
    "    calculate_ranking_correlations,\n",
    "    plot_ranking_correlations,\n",
    ")\n",
    "from plotly.subplots import make_subplots"
   ]
  },
  {
   "cell_type": "code",
   "execution_count": 3,
   "metadata": {},
   "outputs": [],
   "source": [
    "user_roles = [\"Contributor\",\"Ignored\", \"Lurker\",\"casual_commentator\"]"
   ]
  },
  {
   "cell_type": "code",
   "execution_count": 4,
   "metadata": {},
   "outputs": [],
   "source": [
    "model_list = []"
   ]
  },
  {
   "cell_type": "code",
   "execution_count": 5,
   "metadata": {},
   "outputs": [],
   "source": [
    "for i in user_roles:\n",
    "    model_weat = FastText.load(f\"../models/user_level/fasttext_{i}_weat.bin\")\n",
    "    model_list.append(WordEmbeddingModel(model_weat.wv, i))\n",
    "    "
   ]
  },
  {
   "cell_type": "code",
   "execution_count": 6,
   "metadata": {},
   "outputs": [],
   "source": [
    "WEAT_wordsets = load_weat()\n",
    "\n",
    "RND_wordsets = fetch_eds()\n",
    "\n",
    "sentiments_wordsets = load_bingliu()\n",
    "debias_multiclass_wordsets = fetch_debias_multiclass()"
   ]
  },
  {
   "cell_type": "code",
   "execution_count": 11,
   "metadata": {},
   "outputs": [],
   "source": [
    "gender_1 = Query(\n",
    "\n",
    "\n",
    "    [RND_wordsets[\"male_terms\"], RND_wordsets[\"female_terms\"]],\n",
    "    [WEAT_wordsets[\"career\"], WEAT_wordsets[\"family\"]],\n",
    "    [\"Male terms\", \"Female terms\"],\n",
    "    [\"Career\", \"Family\"],\n",
    ")\n",
    "\n",
    "gender_2 = Query(\n",
    "    [RND_wordsets[\"male_terms\"], RND_wordsets[\"female_terms\"]],\n",
    "    [WEAT_wordsets[\"math\"], WEAT_wordsets[\"arts\"]],\n",
    "    [\"Male terms\", \"Female terms\"],\n",
    "    [\"Math\", \"Arts\"],\n",
    ")\n",
    "\n",
    "gender_3 = Query(\n",
    "    [RND_wordsets[\"male_terms\"], RND_wordsets[\"female_terms\"]],\n",
    "    [WEAT_wordsets[\"science\"], WEAT_wordsets[\"arts\"]],\n",
    "    [\"Male terms\", \"Female terms\"],\n",
    "    [\"Science\", \"Arts\"],\n",
    ")\n",
    "\n",
    "gender_4 = Query(\n",
    "    [RND_wordsets[\"male_terms\"], RND_wordsets[\"female_terms\"]],\n",
    "    [RND_wordsets[\"adjectives_intelligence\"], RND_wordsets[\"adjectives_appearance\"]],\n",
    "    [\"Male terms\", \"Female terms\"],\n",
    "    [\"Intelligence\", \"Appearence\"],\n",
    ")\n",
    "\n",
    "gender_5 = Query(\n",
    "    [RND_wordsets[\"male_terms\"], RND_wordsets[\"female_terms\"]],\n",
    "    [RND_wordsets[\"adjectives_intelligence\"], RND_wordsets[\"adjectives_sensitive\"]],\n",
    "    [\"Male terms\", \"Female terms\"],\n",
    "    [\"Intelligence\", \"Sensitive\"],\n",
    ")\n",
    "\n",
    "gender_6 = Query(\n",
    "    [RND_wordsets[\"male_terms\"], RND_wordsets[\"female_terms\"]],\n",
    "    [WEAT_wordsets[\"pleasant_5\"], WEAT_wordsets[\"unpleasant_5\"]],\n",
    "    [\"Male terms\", \"Female terms\"],\n",
    "    [\"Pleasant\", \"Unpleasant\"],\n",
    ")\n",
    "\n",
    "gender_sent_1 = Query(\n",
    "    [RND_wordsets[\"male_terms\"], RND_wordsets[\"female_terms\"]],\n",
    "    [sentiments_wordsets[\"positive_words\"], sentiments_wordsets[\"negative_words\"]],\n",
    "    [\"Male terms\", \"Female terms\"],\n",
    "    [\"Positive words\", \"Negative words\"],\n",
    ")\n",
    "\n",
    "gender_role_1 = Query(\n",
    "    [RND_wordsets[\"male_terms\"], RND_wordsets[\"female_terms\"]],\n",
    "    [\n",
    "        debias_multiclass_wordsets[\"male_roles\"],\n",
    "        debias_multiclass_wordsets[\"female_roles\"],\n",
    "    ],\n",
    "    [\"Male terms\", \"Female terms\"],\n",
    "    [\"Man Roles\", \"Woman Roles\"],\n",
    ")\n",
    "\n",
    "gender_queries = [\n",
    "    gender_1,\n",
    "    gender_2,\n",
    "    gender_4,\n",
    "    gender_5,\n",
    "    gender_6,\n",
    "    gender_role_1,\n",
    "]"
   ]
  },
  {
   "cell_type": "code",
   "execution_count": 12,
   "metadata": {},
   "outputs": [],
   "source": [
    "\n",
    "weat = WEAT()\n",
    "WEAT_gender_results = run_queries(\n",
    "    WEAT,\n",
    "    gender_queries,\n",
    "    model_list,\n",
    "    queries_set_name=\"Gender Queries\",\n",
    ")"
   ]
  },
  {
   "cell_type": "code",
   "execution_count": 13,
   "metadata": {},
   "outputs": [
    {
     "data": {
      "text/html": [
       "<div>\n",
       "<style scoped>\n",
       "    .dataframe tbody tr th:only-of-type {\n",
       "        vertical-align: middle;\n",
       "    }\n",
       "\n",
       "    .dataframe tbody tr th {\n",
       "        vertical-align: top;\n",
       "    }\n",
       "\n",
       "    .dataframe thead th {\n",
       "        text-align: right;\n",
       "    }\n",
       "</style>\n",
       "<table border=\"1\" class=\"dataframe\">\n",
       "  <thead>\n",
       "    <tr style=\"text-align: right;\">\n",
       "      <th>query_name</th>\n",
       "      <th>Male terms and Female terms wrt Career and Family</th>\n",
       "      <th>Male terms and Female terms wrt Math and Arts</th>\n",
       "      <th>Male terms and Female terms wrt Intelligence and Appearence</th>\n",
       "      <th>Male terms and Female terms wrt Intelligence and Sensitive</th>\n",
       "      <th>Male terms and Female terms wrt Pleasant and Unpleasant</th>\n",
       "      <th>Male terms and Female terms wrt Man Roles and Woman Roles</th>\n",
       "    </tr>\n",
       "    <tr>\n",
       "      <th>model_name</th>\n",
       "      <th></th>\n",
       "      <th></th>\n",
       "      <th></th>\n",
       "      <th></th>\n",
       "      <th></th>\n",
       "      <th></th>\n",
       "    </tr>\n",
       "  </thead>\n",
       "  <tbody>\n",
       "    <tr>\n",
       "      <th>Contributor</th>\n",
       "      <td>0.313657</td>\n",
       "      <td>0.333040</td>\n",
       "      <td>0.993125</td>\n",
       "      <td>0.511374</td>\n",
       "      <td>-0.332014</td>\n",
       "      <td>1.011895</td>\n",
       "    </tr>\n",
       "    <tr>\n",
       "      <th>Ignored</th>\n",
       "      <td>0.552233</td>\n",
       "      <td>-0.236338</td>\n",
       "      <td>0.928308</td>\n",
       "      <td>0.348876</td>\n",
       "      <td>-0.571809</td>\n",
       "      <td>1.273441</td>\n",
       "    </tr>\n",
       "    <tr>\n",
       "      <th>Lurker</th>\n",
       "      <td>0.794969</td>\n",
       "      <td>0.237817</td>\n",
       "      <td>0.715879</td>\n",
       "      <td>-0.070766</td>\n",
       "      <td>-0.242454</td>\n",
       "      <td>1.373173</td>\n",
       "    </tr>\n",
       "    <tr>\n",
       "      <th>casual_commentator</th>\n",
       "      <td>0.603280</td>\n",
       "      <td>0.732765</td>\n",
       "      <td>1.401874</td>\n",
       "      <td>0.228397</td>\n",
       "      <td>0.055104</td>\n",
       "      <td>1.736170</td>\n",
       "    </tr>\n",
       "  </tbody>\n",
       "</table>\n",
       "</div>"
      ],
      "text/plain": [
       "query_name          Male terms and Female terms wrt Career and Family  \\\n",
       "model_name                                                              \n",
       "Contributor                                                  0.313657   \n",
       "Ignored                                                      0.552233   \n",
       "Lurker                                                       0.794969   \n",
       "casual_commentator                                           0.603280   \n",
       "\n",
       "query_name          Male terms and Female terms wrt Math and Arts  \\\n",
       "model_name                                                          \n",
       "Contributor                                              0.333040   \n",
       "Ignored                                                 -0.236338   \n",
       "Lurker                                                   0.237817   \n",
       "casual_commentator                                       0.732765   \n",
       "\n",
       "query_name          Male terms and Female terms wrt Intelligence and Appearence  \\\n",
       "model_name                                                                        \n",
       "Contributor                                                  0.993125             \n",
       "Ignored                                                      0.928308             \n",
       "Lurker                                                       0.715879             \n",
       "casual_commentator                                           1.401874             \n",
       "\n",
       "query_name          Male terms and Female terms wrt Intelligence and Sensitive  \\\n",
       "model_name                                                                       \n",
       "Contributor                                                  0.511374            \n",
       "Ignored                                                      0.348876            \n",
       "Lurker                                                      -0.070766            \n",
       "casual_commentator                                           0.228397            \n",
       "\n",
       "query_name          Male terms and Female terms wrt Pleasant and Unpleasant  \\\n",
       "model_name                                                                    \n",
       "Contributor                                                 -0.332014         \n",
       "Ignored                                                     -0.571809         \n",
       "Lurker                                                      -0.242454         \n",
       "casual_commentator                                           0.055104         \n",
       "\n",
       "query_name          Male terms and Female terms wrt Man Roles and Woman Roles  \n",
       "model_name                                                                     \n",
       "Contributor                                                  1.011895          \n",
       "Ignored                                                      1.273441          \n",
       "Lurker                                                       1.373173          \n",
       "casual_commentator                                           1.736170          "
      ]
     },
     "execution_count": 13,
     "metadata": {},
     "output_type": "execute_result"
    }
   ],
   "source": [
    "WEAT_gender_results"
   ]
  },
  {
   "cell_type": "code",
   "execution_count": 14,
   "metadata": {},
   "outputs": [
    {
     "data": {
      "application/vnd.plotly.v1+json": {
       "config": {
        "plotlyServerURL": "https://plot.ly"
       },
       "data": [
        {
         "alignmentgroup": "True",
         "hovertemplate": "Word Embedding Model=Contributor<br>query_name=%{x}<br>value=%{y}<extra></extra>",
         "legendgroup": "Contributor",
         "marker": {
          "color": "#636efa",
          "pattern": {
           "shape": ""
          }
         },
         "name": "Contributor",
         "offsetgroup": "Contributor",
         "orientation": "v",
         "showlegend": true,
         "textposition": "auto",
         "type": "bar",
         "x": [
          "Male terms and Female terms wrt<br> Career and Family",
          "Male terms and Female terms wrt<br> Math and Arts",
          "Male terms and Female terms wrt<br> Intelligence and Appearence",
          "Male terms and Female terms wrt<br> Intelligence and Sensitive",
          "Male terms and Female terms wrt<br> Pleasant and Unpleasant",
          "Male terms and Female terms wrt<br> Man Roles and Woman Roles"
         ],
         "xaxis": "x",
         "y": [
          0.31365652542029077,
          0.3330396972596643,
          0.9931250223171498,
          0.5113737646889472,
          -0.3320136654376984,
          1.0118950368979802
         ],
         "yaxis": "y"
        },
        {
         "alignmentgroup": "True",
         "hovertemplate": "Word Embedding Model=Ignored<br>query_name=%{x}<br>value=%{y}<extra></extra>",
         "legendgroup": "Ignored",
         "marker": {
          "color": "#EF553B",
          "pattern": {
           "shape": ""
          }
         },
         "name": "Ignored",
         "offsetgroup": "Ignored",
         "orientation": "v",
         "showlegend": true,
         "textposition": "auto",
         "type": "bar",
         "x": [
          "Male terms and Female terms wrt<br> Career and Family",
          "Male terms and Female terms wrt<br> Math and Arts",
          "Male terms and Female terms wrt<br> Intelligence and Appearence",
          "Male terms and Female terms wrt<br> Intelligence and Sensitive",
          "Male terms and Female terms wrt<br> Pleasant and Unpleasant",
          "Male terms and Female terms wrt<br> Man Roles and Woman Roles"
         ],
         "xaxis": "x",
         "y": [
          0.5522329629664977,
          -0.23633828652756572,
          0.9283084118953691,
          0.3488761893688487,
          -0.5718093833327291,
          1.2734406439539714
         ],
         "yaxis": "y"
        },
        {
         "alignmentgroup": "True",
         "hovertemplate": "Word Embedding Model=Lurker<br>query_name=%{x}<br>value=%{y}<extra></extra>",
         "legendgroup": "Lurker",
         "marker": {
          "color": "#00cc96",
          "pattern": {
           "shape": ""
          }
         },
         "name": "Lurker",
         "offsetgroup": "Lurker",
         "orientation": "v",
         "showlegend": true,
         "textposition": "auto",
         "type": "bar",
         "x": [
          "Male terms and Female terms wrt<br> Career and Family",
          "Male terms and Female terms wrt<br> Math and Arts",
          "Male terms and Female terms wrt<br> Intelligence and Appearence",
          "Male terms and Female terms wrt<br> Intelligence and Sensitive",
          "Male terms and Female terms wrt<br> Pleasant and Unpleasant",
          "Male terms and Female terms wrt<br> Man Roles and Woman Roles"
         ],
         "xaxis": "x",
         "y": [
          0.794969405712826,
          0.23781696893274784,
          0.7158789895421693,
          -0.07076602995927839,
          -0.24245393931865683,
          1.3731725768018994
         ],
         "yaxis": "y"
        },
        {
         "alignmentgroup": "True",
         "hovertemplate": "Word Embedding Model=casual_commentator<br>query_name=%{x}<br>value=%{y}<extra></extra>",
         "legendgroup": "casual_commentator",
         "marker": {
          "color": "#ab63fa",
          "pattern": {
           "shape": ""
          }
         },
         "name": "casual_commentator",
         "offsetgroup": "casual_commentator",
         "orientation": "v",
         "showlegend": true,
         "textposition": "auto",
         "type": "bar",
         "x": [
          "Male terms and Female terms wrt<br> Career and Family",
          "Male terms and Female terms wrt<br> Math and Arts",
          "Male terms and Female terms wrt<br> Intelligence and Appearence",
          "Male terms and Female terms wrt<br> Intelligence and Sensitive",
          "Male terms and Female terms wrt<br> Pleasant and Unpleasant",
          "Male terms and Female terms wrt<br> Man Roles and Woman Roles"
         ],
         "xaxis": "x",
         "y": [
          0.6032795927021652,
          0.7327653206884861,
          1.4018735626884382,
          0.22839695423698197,
          0.055103886350989395,
          1.7361701962370903
         ],
         "yaxis": "y"
        }
       ],
       "layout": {
        "barmode": "group",
        "legend": {
         "title": {
          "text": "Word Embedding Model"
         },
         "tracegroupgap": 0
        },
        "margin": {
         "t": 60
        },
        "template": {
         "data": {
          "bar": [
           {
            "error_x": {
             "color": "#2a3f5f"
            },
            "error_y": {
             "color": "#2a3f5f"
            },
            "marker": {
             "line": {
              "color": "#E5ECF6",
              "width": 0.5
             },
             "pattern": {
              "fillmode": "overlay",
              "size": 10,
              "solidity": 0.2
             }
            },
            "type": "bar"
           }
          ],
          "barpolar": [
           {
            "marker": {
             "line": {
              "color": "#E5ECF6",
              "width": 0.5
             },
             "pattern": {
              "fillmode": "overlay",
              "size": 10,
              "solidity": 0.2
             }
            },
            "type": "barpolar"
           }
          ],
          "carpet": [
           {
            "aaxis": {
             "endlinecolor": "#2a3f5f",
             "gridcolor": "white",
             "linecolor": "white",
             "minorgridcolor": "white",
             "startlinecolor": "#2a3f5f"
            },
            "baxis": {
             "endlinecolor": "#2a3f5f",
             "gridcolor": "white",
             "linecolor": "white",
             "minorgridcolor": "white",
             "startlinecolor": "#2a3f5f"
            },
            "type": "carpet"
           }
          ],
          "choropleth": [
           {
            "colorbar": {
             "outlinewidth": 0,
             "ticks": ""
            },
            "type": "choropleth"
           }
          ],
          "contour": [
           {
            "colorbar": {
             "outlinewidth": 0,
             "ticks": ""
            },
            "colorscale": [
             [
              0,
              "#0d0887"
             ],
             [
              0.1111111111111111,
              "#46039f"
             ],
             [
              0.2222222222222222,
              "#7201a8"
             ],
             [
              0.3333333333333333,
              "#9c179e"
             ],
             [
              0.4444444444444444,
              "#bd3786"
             ],
             [
              0.5555555555555556,
              "#d8576b"
             ],
             [
              0.6666666666666666,
              "#ed7953"
             ],
             [
              0.7777777777777778,
              "#fb9f3a"
             ],
             [
              0.8888888888888888,
              "#fdca26"
             ],
             [
              1,
              "#f0f921"
             ]
            ],
            "type": "contour"
           }
          ],
          "contourcarpet": [
           {
            "colorbar": {
             "outlinewidth": 0,
             "ticks": ""
            },
            "type": "contourcarpet"
           }
          ],
          "heatmap": [
           {
            "colorbar": {
             "outlinewidth": 0,
             "ticks": ""
            },
            "colorscale": [
             [
              0,
              "#0d0887"
             ],
             [
              0.1111111111111111,
              "#46039f"
             ],
             [
              0.2222222222222222,
              "#7201a8"
             ],
             [
              0.3333333333333333,
              "#9c179e"
             ],
             [
              0.4444444444444444,
              "#bd3786"
             ],
             [
              0.5555555555555556,
              "#d8576b"
             ],
             [
              0.6666666666666666,
              "#ed7953"
             ],
             [
              0.7777777777777778,
              "#fb9f3a"
             ],
             [
              0.8888888888888888,
              "#fdca26"
             ],
             [
              1,
              "#f0f921"
             ]
            ],
            "type": "heatmap"
           }
          ],
          "heatmapgl": [
           {
            "colorbar": {
             "outlinewidth": 0,
             "ticks": ""
            },
            "colorscale": [
             [
              0,
              "#0d0887"
             ],
             [
              0.1111111111111111,
              "#46039f"
             ],
             [
              0.2222222222222222,
              "#7201a8"
             ],
             [
              0.3333333333333333,
              "#9c179e"
             ],
             [
              0.4444444444444444,
              "#bd3786"
             ],
             [
              0.5555555555555556,
              "#d8576b"
             ],
             [
              0.6666666666666666,
              "#ed7953"
             ],
             [
              0.7777777777777778,
              "#fb9f3a"
             ],
             [
              0.8888888888888888,
              "#fdca26"
             ],
             [
              1,
              "#f0f921"
             ]
            ],
            "type": "heatmapgl"
           }
          ],
          "histogram": [
           {
            "marker": {
             "pattern": {
              "fillmode": "overlay",
              "size": 10,
              "solidity": 0.2
             }
            },
            "type": "histogram"
           }
          ],
          "histogram2d": [
           {
            "colorbar": {
             "outlinewidth": 0,
             "ticks": ""
            },
            "colorscale": [
             [
              0,
              "#0d0887"
             ],
             [
              0.1111111111111111,
              "#46039f"
             ],
             [
              0.2222222222222222,
              "#7201a8"
             ],
             [
              0.3333333333333333,
              "#9c179e"
             ],
             [
              0.4444444444444444,
              "#bd3786"
             ],
             [
              0.5555555555555556,
              "#d8576b"
             ],
             [
              0.6666666666666666,
              "#ed7953"
             ],
             [
              0.7777777777777778,
              "#fb9f3a"
             ],
             [
              0.8888888888888888,
              "#fdca26"
             ],
             [
              1,
              "#f0f921"
             ]
            ],
            "type": "histogram2d"
           }
          ],
          "histogram2dcontour": [
           {
            "colorbar": {
             "outlinewidth": 0,
             "ticks": ""
            },
            "colorscale": [
             [
              0,
              "#0d0887"
             ],
             [
              0.1111111111111111,
              "#46039f"
             ],
             [
              0.2222222222222222,
              "#7201a8"
             ],
             [
              0.3333333333333333,
              "#9c179e"
             ],
             [
              0.4444444444444444,
              "#bd3786"
             ],
             [
              0.5555555555555556,
              "#d8576b"
             ],
             [
              0.6666666666666666,
              "#ed7953"
             ],
             [
              0.7777777777777778,
              "#fb9f3a"
             ],
             [
              0.8888888888888888,
              "#fdca26"
             ],
             [
              1,
              "#f0f921"
             ]
            ],
            "type": "histogram2dcontour"
           }
          ],
          "mesh3d": [
           {
            "colorbar": {
             "outlinewidth": 0,
             "ticks": ""
            },
            "type": "mesh3d"
           }
          ],
          "parcoords": [
           {
            "line": {
             "colorbar": {
              "outlinewidth": 0,
              "ticks": ""
             }
            },
            "type": "parcoords"
           }
          ],
          "pie": [
           {
            "automargin": true,
            "type": "pie"
           }
          ],
          "scatter": [
           {
            "fillpattern": {
             "fillmode": "overlay",
             "size": 10,
             "solidity": 0.2
            },
            "type": "scatter"
           }
          ],
          "scatter3d": [
           {
            "line": {
             "colorbar": {
              "outlinewidth": 0,
              "ticks": ""
             }
            },
            "marker": {
             "colorbar": {
              "outlinewidth": 0,
              "ticks": ""
             }
            },
            "type": "scatter3d"
           }
          ],
          "scattercarpet": [
           {
            "marker": {
             "colorbar": {
              "outlinewidth": 0,
              "ticks": ""
             }
            },
            "type": "scattercarpet"
           }
          ],
          "scattergeo": [
           {
            "marker": {
             "colorbar": {
              "outlinewidth": 0,
              "ticks": ""
             }
            },
            "type": "scattergeo"
           }
          ],
          "scattergl": [
           {
            "marker": {
             "colorbar": {
              "outlinewidth": 0,
              "ticks": ""
             }
            },
            "type": "scattergl"
           }
          ],
          "scattermapbox": [
           {
            "marker": {
             "colorbar": {
              "outlinewidth": 0,
              "ticks": ""
             }
            },
            "type": "scattermapbox"
           }
          ],
          "scatterpolar": [
           {
            "marker": {
             "colorbar": {
              "outlinewidth": 0,
              "ticks": ""
             }
            },
            "type": "scatterpolar"
           }
          ],
          "scatterpolargl": [
           {
            "marker": {
             "colorbar": {
              "outlinewidth": 0,
              "ticks": ""
             }
            },
            "type": "scatterpolargl"
           }
          ],
          "scatterternary": [
           {
            "marker": {
             "colorbar": {
              "outlinewidth": 0,
              "ticks": ""
             }
            },
            "type": "scatterternary"
           }
          ],
          "surface": [
           {
            "colorbar": {
             "outlinewidth": 0,
             "ticks": ""
            },
            "colorscale": [
             [
              0,
              "#0d0887"
             ],
             [
              0.1111111111111111,
              "#46039f"
             ],
             [
              0.2222222222222222,
              "#7201a8"
             ],
             [
              0.3333333333333333,
              "#9c179e"
             ],
             [
              0.4444444444444444,
              "#bd3786"
             ],
             [
              0.5555555555555556,
              "#d8576b"
             ],
             [
              0.6666666666666666,
              "#ed7953"
             ],
             [
              0.7777777777777778,
              "#fb9f3a"
             ],
             [
              0.8888888888888888,
              "#fdca26"
             ],
             [
              1,
              "#f0f921"
             ]
            ],
            "type": "surface"
           }
          ],
          "table": [
           {
            "cells": {
             "fill": {
              "color": "#EBF0F8"
             },
             "line": {
              "color": "white"
             }
            },
            "header": {
             "fill": {
              "color": "#C8D4E3"
             },
             "line": {
              "color": "white"
             }
            },
            "type": "table"
           }
          ]
         },
         "layout": {
          "annotationdefaults": {
           "arrowcolor": "#2a3f5f",
           "arrowhead": 0,
           "arrowwidth": 1
          },
          "autotypenumbers": "strict",
          "coloraxis": {
           "colorbar": {
            "outlinewidth": 0,
            "ticks": ""
           }
          },
          "colorscale": {
           "diverging": [
            [
             0,
             "#8e0152"
            ],
            [
             0.1,
             "#c51b7d"
            ],
            [
             0.2,
             "#de77ae"
            ],
            [
             0.3,
             "#f1b6da"
            ],
            [
             0.4,
             "#fde0ef"
            ],
            [
             0.5,
             "#f7f7f7"
            ],
            [
             0.6,
             "#e6f5d0"
            ],
            [
             0.7,
             "#b8e186"
            ],
            [
             0.8,
             "#7fbc41"
            ],
            [
             0.9,
             "#4d9221"
            ],
            [
             1,
             "#276419"
            ]
           ],
           "sequential": [
            [
             0,
             "#0d0887"
            ],
            [
             0.1111111111111111,
             "#46039f"
            ],
            [
             0.2222222222222222,
             "#7201a8"
            ],
            [
             0.3333333333333333,
             "#9c179e"
            ],
            [
             0.4444444444444444,
             "#bd3786"
            ],
            [
             0.5555555555555556,
             "#d8576b"
            ],
            [
             0.6666666666666666,
             "#ed7953"
            ],
            [
             0.7777777777777778,
             "#fb9f3a"
            ],
            [
             0.8888888888888888,
             "#fdca26"
            ],
            [
             1,
             "#f0f921"
            ]
           ],
           "sequentialminus": [
            [
             0,
             "#0d0887"
            ],
            [
             0.1111111111111111,
             "#46039f"
            ],
            [
             0.2222222222222222,
             "#7201a8"
            ],
            [
             0.3333333333333333,
             "#9c179e"
            ],
            [
             0.4444444444444444,
             "#bd3786"
            ],
            [
             0.5555555555555556,
             "#d8576b"
            ],
            [
             0.6666666666666666,
             "#ed7953"
            ],
            [
             0.7777777777777778,
             "#fb9f3a"
            ],
            [
             0.8888888888888888,
             "#fdca26"
            ],
            [
             1,
             "#f0f921"
            ]
           ]
          },
          "colorway": [
           "#636efa",
           "#EF553B",
           "#00cc96",
           "#ab63fa",
           "#FFA15A",
           "#19d3f3",
           "#FF6692",
           "#B6E880",
           "#FF97FF",
           "#FECB52"
          ],
          "font": {
           "color": "#2a3f5f"
          },
          "geo": {
           "bgcolor": "white",
           "lakecolor": "white",
           "landcolor": "#E5ECF6",
           "showlakes": true,
           "showland": true,
           "subunitcolor": "white"
          },
          "hoverlabel": {
           "align": "left"
          },
          "hovermode": "closest",
          "mapbox": {
           "style": "light"
          },
          "paper_bgcolor": "white",
          "plot_bgcolor": "#E5ECF6",
          "polar": {
           "angularaxis": {
            "gridcolor": "white",
            "linecolor": "white",
            "ticks": ""
           },
           "bgcolor": "#E5ECF6",
           "radialaxis": {
            "gridcolor": "white",
            "linecolor": "white",
            "ticks": ""
           }
          },
          "scene": {
           "xaxis": {
            "backgroundcolor": "#E5ECF6",
            "gridcolor": "white",
            "gridwidth": 2,
            "linecolor": "white",
            "showbackground": true,
            "ticks": "",
            "zerolinecolor": "white"
           },
           "yaxis": {
            "backgroundcolor": "#E5ECF6",
            "gridcolor": "white",
            "gridwidth": 2,
            "linecolor": "white",
            "showbackground": true,
            "ticks": "",
            "zerolinecolor": "white"
           },
           "zaxis": {
            "backgroundcolor": "#E5ECF6",
            "gridcolor": "white",
            "gridwidth": 2,
            "linecolor": "white",
            "showbackground": true,
            "ticks": "",
            "zerolinecolor": "white"
           }
          },
          "shapedefaults": {
           "line": {
            "color": "#2a3f5f"
           }
          },
          "ternary": {
           "aaxis": {
            "gridcolor": "white",
            "linecolor": "white",
            "ticks": ""
           },
           "baxis": {
            "gridcolor": "white",
            "linecolor": "white",
            "ticks": ""
           },
           "bgcolor": "#E5ECF6",
           "caxis": {
            "gridcolor": "white",
            "linecolor": "white",
            "ticks": ""
           }
          },
          "title": {
           "x": 0.05
          },
          "xaxis": {
           "automargin": true,
           "gridcolor": "white",
           "linecolor": "white",
           "ticks": "",
           "title": {
            "standoff": 15
           },
           "zerolinecolor": "white",
           "zerolinewidth": 2
          },
          "yaxis": {
           "automargin": true,
           "gridcolor": "white",
           "linecolor": "white",
           "ticks": "",
           "title": {
            "standoff": 15
           },
           "zerolinecolor": "white",
           "zerolinewidth": 2
          }
         }
        },
        "xaxis": {
         "anchor": "y",
         "domain": [
          0,
          1
         ],
         "title": {
          "text": "Query"
         }
        },
        "yaxis": {
         "anchor": "x",
         "domain": [
          0,
          1
         ],
         "title": {
          "text": "Bias measure"
         }
        }
       }
      },
      "text/html": [
       "<div>                            <div id=\"c6d8e865-b158-4604-9292-4c578fc49835\" class=\"plotly-graph-div\" style=\"height:525px; width:100%;\"></div>            <script type=\"text/javascript\">                require([\"plotly\"], function(Plotly) {                    window.PLOTLYENV=window.PLOTLYENV || {};                                    if (document.getElementById(\"c6d8e865-b158-4604-9292-4c578fc49835\")) {                    Plotly.newPlot(                        \"c6d8e865-b158-4604-9292-4c578fc49835\",                        [{\"alignmentgroup\":\"True\",\"hovertemplate\":\"Word Embedding Model=Contributor<br>query_name=%{x}<br>value=%{y}<extra></extra>\",\"legendgroup\":\"Contributor\",\"marker\":{\"color\":\"#636efa\",\"pattern\":{\"shape\":\"\"}},\"name\":\"Contributor\",\"offsetgroup\":\"Contributor\",\"orientation\":\"v\",\"showlegend\":true,\"textposition\":\"auto\",\"x\":[\"Male terms and Female terms wrt<br> Career and Family\",\"Male terms and Female terms wrt<br> Math and Arts\",\"Male terms and Female terms wrt<br> Intelligence and Appearence\",\"Male terms and Female terms wrt<br> Intelligence and Sensitive\",\"Male terms and Female terms wrt<br> Pleasant and Unpleasant\",\"Male terms and Female terms wrt<br> Man Roles and Woman Roles\"],\"xaxis\":\"x\",\"y\":[0.31365652542029077,0.3330396972596643,0.9931250223171498,0.5113737646889472,-0.3320136654376984,1.0118950368979802],\"yaxis\":\"y\",\"type\":\"bar\"},{\"alignmentgroup\":\"True\",\"hovertemplate\":\"Word Embedding Model=Ignored<br>query_name=%{x}<br>value=%{y}<extra></extra>\",\"legendgroup\":\"Ignored\",\"marker\":{\"color\":\"#EF553B\",\"pattern\":{\"shape\":\"\"}},\"name\":\"Ignored\",\"offsetgroup\":\"Ignored\",\"orientation\":\"v\",\"showlegend\":true,\"textposition\":\"auto\",\"x\":[\"Male terms and Female terms wrt<br> Career and Family\",\"Male terms and Female terms wrt<br> Math and Arts\",\"Male terms and Female terms wrt<br> Intelligence and Appearence\",\"Male terms and Female terms wrt<br> Intelligence and Sensitive\",\"Male terms and Female terms wrt<br> Pleasant and Unpleasant\",\"Male terms and Female terms wrt<br> Man Roles and Woman Roles\"],\"xaxis\":\"x\",\"y\":[0.5522329629664977,-0.23633828652756572,0.9283084118953691,0.3488761893688487,-0.5718093833327291,1.2734406439539714],\"yaxis\":\"y\",\"type\":\"bar\"},{\"alignmentgroup\":\"True\",\"hovertemplate\":\"Word Embedding Model=Lurker<br>query_name=%{x}<br>value=%{y}<extra></extra>\",\"legendgroup\":\"Lurker\",\"marker\":{\"color\":\"#00cc96\",\"pattern\":{\"shape\":\"\"}},\"name\":\"Lurker\",\"offsetgroup\":\"Lurker\",\"orientation\":\"v\",\"showlegend\":true,\"textposition\":\"auto\",\"x\":[\"Male terms and Female terms wrt<br> Career and Family\",\"Male terms and Female terms wrt<br> Math and Arts\",\"Male terms and Female terms wrt<br> Intelligence and Appearence\",\"Male terms and Female terms wrt<br> Intelligence and Sensitive\",\"Male terms and Female terms wrt<br> Pleasant and Unpleasant\",\"Male terms and Female terms wrt<br> Man Roles and Woman Roles\"],\"xaxis\":\"x\",\"y\":[0.794969405712826,0.23781696893274784,0.7158789895421693,-0.07076602995927839,-0.24245393931865683,1.3731725768018994],\"yaxis\":\"y\",\"type\":\"bar\"},{\"alignmentgroup\":\"True\",\"hovertemplate\":\"Word Embedding Model=casual_commentator<br>query_name=%{x}<br>value=%{y}<extra></extra>\",\"legendgroup\":\"casual_commentator\",\"marker\":{\"color\":\"#ab63fa\",\"pattern\":{\"shape\":\"\"}},\"name\":\"casual_commentator\",\"offsetgroup\":\"casual_commentator\",\"orientation\":\"v\",\"showlegend\":true,\"textposition\":\"auto\",\"x\":[\"Male terms and Female terms wrt<br> Career and Family\",\"Male terms and Female terms wrt<br> Math and Arts\",\"Male terms and Female terms wrt<br> Intelligence and Appearence\",\"Male terms and Female terms wrt<br> Intelligence and Sensitive\",\"Male terms and Female terms wrt<br> Pleasant and Unpleasant\",\"Male terms and Female terms wrt<br> Man Roles and Woman Roles\"],\"xaxis\":\"x\",\"y\":[0.6032795927021652,0.7327653206884861,1.4018735626884382,0.22839695423698197,0.055103886350989395,1.7361701962370903],\"yaxis\":\"y\",\"type\":\"bar\"}],                        {\"template\":{\"data\":{\"histogram2dcontour\":[{\"type\":\"histogram2dcontour\",\"colorbar\":{\"outlinewidth\":0,\"ticks\":\"\"},\"colorscale\":[[0.0,\"#0d0887\"],[0.1111111111111111,\"#46039f\"],[0.2222222222222222,\"#7201a8\"],[0.3333333333333333,\"#9c179e\"],[0.4444444444444444,\"#bd3786\"],[0.5555555555555556,\"#d8576b\"],[0.6666666666666666,\"#ed7953\"],[0.7777777777777778,\"#fb9f3a\"],[0.8888888888888888,\"#fdca26\"],[1.0,\"#f0f921\"]]}],\"choropleth\":[{\"type\":\"choropleth\",\"colorbar\":{\"outlinewidth\":0,\"ticks\":\"\"}}],\"histogram2d\":[{\"type\":\"histogram2d\",\"colorbar\":{\"outlinewidth\":0,\"ticks\":\"\"},\"colorscale\":[[0.0,\"#0d0887\"],[0.1111111111111111,\"#46039f\"],[0.2222222222222222,\"#7201a8\"],[0.3333333333333333,\"#9c179e\"],[0.4444444444444444,\"#bd3786\"],[0.5555555555555556,\"#d8576b\"],[0.6666666666666666,\"#ed7953\"],[0.7777777777777778,\"#fb9f3a\"],[0.8888888888888888,\"#fdca26\"],[1.0,\"#f0f921\"]]}],\"heatmap\":[{\"type\":\"heatmap\",\"colorbar\":{\"outlinewidth\":0,\"ticks\":\"\"},\"colorscale\":[[0.0,\"#0d0887\"],[0.1111111111111111,\"#46039f\"],[0.2222222222222222,\"#7201a8\"],[0.3333333333333333,\"#9c179e\"],[0.4444444444444444,\"#bd3786\"],[0.5555555555555556,\"#d8576b\"],[0.6666666666666666,\"#ed7953\"],[0.7777777777777778,\"#fb9f3a\"],[0.8888888888888888,\"#fdca26\"],[1.0,\"#f0f921\"]]}],\"heatmapgl\":[{\"type\":\"heatmapgl\",\"colorbar\":{\"outlinewidth\":0,\"ticks\":\"\"},\"colorscale\":[[0.0,\"#0d0887\"],[0.1111111111111111,\"#46039f\"],[0.2222222222222222,\"#7201a8\"],[0.3333333333333333,\"#9c179e\"],[0.4444444444444444,\"#bd3786\"],[0.5555555555555556,\"#d8576b\"],[0.6666666666666666,\"#ed7953\"],[0.7777777777777778,\"#fb9f3a\"],[0.8888888888888888,\"#fdca26\"],[1.0,\"#f0f921\"]]}],\"contourcarpet\":[{\"type\":\"contourcarpet\",\"colorbar\":{\"outlinewidth\":0,\"ticks\":\"\"}}],\"contour\":[{\"type\":\"contour\",\"colorbar\":{\"outlinewidth\":0,\"ticks\":\"\"},\"colorscale\":[[0.0,\"#0d0887\"],[0.1111111111111111,\"#46039f\"],[0.2222222222222222,\"#7201a8\"],[0.3333333333333333,\"#9c179e\"],[0.4444444444444444,\"#bd3786\"],[0.5555555555555556,\"#d8576b\"],[0.6666666666666666,\"#ed7953\"],[0.7777777777777778,\"#fb9f3a\"],[0.8888888888888888,\"#fdca26\"],[1.0,\"#f0f921\"]]}],\"surface\":[{\"type\":\"surface\",\"colorbar\":{\"outlinewidth\":0,\"ticks\":\"\"},\"colorscale\":[[0.0,\"#0d0887\"],[0.1111111111111111,\"#46039f\"],[0.2222222222222222,\"#7201a8\"],[0.3333333333333333,\"#9c179e\"],[0.4444444444444444,\"#bd3786\"],[0.5555555555555556,\"#d8576b\"],[0.6666666666666666,\"#ed7953\"],[0.7777777777777778,\"#fb9f3a\"],[0.8888888888888888,\"#fdca26\"],[1.0,\"#f0f921\"]]}],\"mesh3d\":[{\"type\":\"mesh3d\",\"colorbar\":{\"outlinewidth\":0,\"ticks\":\"\"}}],\"scatter\":[{\"fillpattern\":{\"fillmode\":\"overlay\",\"size\":10,\"solidity\":0.2},\"type\":\"scatter\"}],\"parcoords\":[{\"type\":\"parcoords\",\"line\":{\"colorbar\":{\"outlinewidth\":0,\"ticks\":\"\"}}}],\"scatterpolargl\":[{\"type\":\"scatterpolargl\",\"marker\":{\"colorbar\":{\"outlinewidth\":0,\"ticks\":\"\"}}}],\"bar\":[{\"error_x\":{\"color\":\"#2a3f5f\"},\"error_y\":{\"color\":\"#2a3f5f\"},\"marker\":{\"line\":{\"color\":\"#E5ECF6\",\"width\":0.5},\"pattern\":{\"fillmode\":\"overlay\",\"size\":10,\"solidity\":0.2}},\"type\":\"bar\"}],\"scattergeo\":[{\"type\":\"scattergeo\",\"marker\":{\"colorbar\":{\"outlinewidth\":0,\"ticks\":\"\"}}}],\"scatterpolar\":[{\"type\":\"scatterpolar\",\"marker\":{\"colorbar\":{\"outlinewidth\":0,\"ticks\":\"\"}}}],\"histogram\":[{\"marker\":{\"pattern\":{\"fillmode\":\"overlay\",\"size\":10,\"solidity\":0.2}},\"type\":\"histogram\"}],\"scattergl\":[{\"type\":\"scattergl\",\"marker\":{\"colorbar\":{\"outlinewidth\":0,\"ticks\":\"\"}}}],\"scatter3d\":[{\"type\":\"scatter3d\",\"line\":{\"colorbar\":{\"outlinewidth\":0,\"ticks\":\"\"}},\"marker\":{\"colorbar\":{\"outlinewidth\":0,\"ticks\":\"\"}}}],\"scattermapbox\":[{\"type\":\"scattermapbox\",\"marker\":{\"colorbar\":{\"outlinewidth\":0,\"ticks\":\"\"}}}],\"scatterternary\":[{\"type\":\"scatterternary\",\"marker\":{\"colorbar\":{\"outlinewidth\":0,\"ticks\":\"\"}}}],\"scattercarpet\":[{\"type\":\"scattercarpet\",\"marker\":{\"colorbar\":{\"outlinewidth\":0,\"ticks\":\"\"}}}],\"carpet\":[{\"aaxis\":{\"endlinecolor\":\"#2a3f5f\",\"gridcolor\":\"white\",\"linecolor\":\"white\",\"minorgridcolor\":\"white\",\"startlinecolor\":\"#2a3f5f\"},\"baxis\":{\"endlinecolor\":\"#2a3f5f\",\"gridcolor\":\"white\",\"linecolor\":\"white\",\"minorgridcolor\":\"white\",\"startlinecolor\":\"#2a3f5f\"},\"type\":\"carpet\"}],\"table\":[{\"cells\":{\"fill\":{\"color\":\"#EBF0F8\"},\"line\":{\"color\":\"white\"}},\"header\":{\"fill\":{\"color\":\"#C8D4E3\"},\"line\":{\"color\":\"white\"}},\"type\":\"table\"}],\"barpolar\":[{\"marker\":{\"line\":{\"color\":\"#E5ECF6\",\"width\":0.5},\"pattern\":{\"fillmode\":\"overlay\",\"size\":10,\"solidity\":0.2}},\"type\":\"barpolar\"}],\"pie\":[{\"automargin\":true,\"type\":\"pie\"}]},\"layout\":{\"autotypenumbers\":\"strict\",\"colorway\":[\"#636efa\",\"#EF553B\",\"#00cc96\",\"#ab63fa\",\"#FFA15A\",\"#19d3f3\",\"#FF6692\",\"#B6E880\",\"#FF97FF\",\"#FECB52\"],\"font\":{\"color\":\"#2a3f5f\"},\"hovermode\":\"closest\",\"hoverlabel\":{\"align\":\"left\"},\"paper_bgcolor\":\"white\",\"plot_bgcolor\":\"#E5ECF6\",\"polar\":{\"bgcolor\":\"#E5ECF6\",\"angularaxis\":{\"gridcolor\":\"white\",\"linecolor\":\"white\",\"ticks\":\"\"},\"radialaxis\":{\"gridcolor\":\"white\",\"linecolor\":\"white\",\"ticks\":\"\"}},\"ternary\":{\"bgcolor\":\"#E5ECF6\",\"aaxis\":{\"gridcolor\":\"white\",\"linecolor\":\"white\",\"ticks\":\"\"},\"baxis\":{\"gridcolor\":\"white\",\"linecolor\":\"white\",\"ticks\":\"\"},\"caxis\":{\"gridcolor\":\"white\",\"linecolor\":\"white\",\"ticks\":\"\"}},\"coloraxis\":{\"colorbar\":{\"outlinewidth\":0,\"ticks\":\"\"}},\"colorscale\":{\"sequential\":[[0.0,\"#0d0887\"],[0.1111111111111111,\"#46039f\"],[0.2222222222222222,\"#7201a8\"],[0.3333333333333333,\"#9c179e\"],[0.4444444444444444,\"#bd3786\"],[0.5555555555555556,\"#d8576b\"],[0.6666666666666666,\"#ed7953\"],[0.7777777777777778,\"#fb9f3a\"],[0.8888888888888888,\"#fdca26\"],[1.0,\"#f0f921\"]],\"sequentialminus\":[[0.0,\"#0d0887\"],[0.1111111111111111,\"#46039f\"],[0.2222222222222222,\"#7201a8\"],[0.3333333333333333,\"#9c179e\"],[0.4444444444444444,\"#bd3786\"],[0.5555555555555556,\"#d8576b\"],[0.6666666666666666,\"#ed7953\"],[0.7777777777777778,\"#fb9f3a\"],[0.8888888888888888,\"#fdca26\"],[1.0,\"#f0f921\"]],\"diverging\":[[0,\"#8e0152\"],[0.1,\"#c51b7d\"],[0.2,\"#de77ae\"],[0.3,\"#f1b6da\"],[0.4,\"#fde0ef\"],[0.5,\"#f7f7f7\"],[0.6,\"#e6f5d0\"],[0.7,\"#b8e186\"],[0.8,\"#7fbc41\"],[0.9,\"#4d9221\"],[1,\"#276419\"]]},\"xaxis\":{\"gridcolor\":\"white\",\"linecolor\":\"white\",\"ticks\":\"\",\"title\":{\"standoff\":15},\"zerolinecolor\":\"white\",\"automargin\":true,\"zerolinewidth\":2},\"yaxis\":{\"gridcolor\":\"white\",\"linecolor\":\"white\",\"ticks\":\"\",\"title\":{\"standoff\":15},\"zerolinecolor\":\"white\",\"automargin\":true,\"zerolinewidth\":2},\"scene\":{\"xaxis\":{\"backgroundcolor\":\"#E5ECF6\",\"gridcolor\":\"white\",\"linecolor\":\"white\",\"showbackground\":true,\"ticks\":\"\",\"zerolinecolor\":\"white\",\"gridwidth\":2},\"yaxis\":{\"backgroundcolor\":\"#E5ECF6\",\"gridcolor\":\"white\",\"linecolor\":\"white\",\"showbackground\":true,\"ticks\":\"\",\"zerolinecolor\":\"white\",\"gridwidth\":2},\"zaxis\":{\"backgroundcolor\":\"#E5ECF6\",\"gridcolor\":\"white\",\"linecolor\":\"white\",\"showbackground\":true,\"ticks\":\"\",\"zerolinecolor\":\"white\",\"gridwidth\":2}},\"shapedefaults\":{\"line\":{\"color\":\"#2a3f5f\"}},\"annotationdefaults\":{\"arrowcolor\":\"#2a3f5f\",\"arrowhead\":0,\"arrowwidth\":1},\"geo\":{\"bgcolor\":\"white\",\"landcolor\":\"#E5ECF6\",\"subunitcolor\":\"white\",\"showland\":true,\"showlakes\":true,\"lakecolor\":\"white\"},\"title\":{\"x\":0.05},\"mapbox\":{\"style\":\"light\"}}},\"xaxis\":{\"anchor\":\"y\",\"domain\":[0.0,1.0],\"title\":{\"text\":\"Query\"}},\"yaxis\":{\"anchor\":\"x\",\"domain\":[0.0,1.0],\"title\":{\"text\":\"Bias measure\"}},\"legend\":{\"title\":{\"text\":\"Word Embedding Model\"},\"tracegroupgap\":0},\"margin\":{\"t\":60},\"barmode\":\"group\"},                        {\"responsive\": true}                    ).then(function(){\n",
       "                            \n",
       "var gd = document.getElementById('c6d8e865-b158-4604-9292-4c578fc49835');\n",
       "var x = new MutationObserver(function (mutations, observer) {{\n",
       "        var display = window.getComputedStyle(gd).display;\n",
       "        if (!display || display === 'none') {{\n",
       "            console.log([gd, 'removed!']);\n",
       "            Plotly.purge(gd);\n",
       "            observer.disconnect();\n",
       "        }}\n",
       "}});\n",
       "\n",
       "// Listen for the removal of the full notebook cells\n",
       "var notebookContainer = gd.closest('#notebook-container');\n",
       "if (notebookContainer) {{\n",
       "    x.observe(notebookContainer, {childList: true});\n",
       "}}\n",
       "\n",
       "// Listen for the clearing of the current output cell\n",
       "var outputEl = gd.closest('.output');\n",
       "if (outputEl) {{\n",
       "    x.observe(outputEl, {childList: true});\n",
       "}}\n",
       "\n",
       "                        })                };                });            </script>        </div>"
      ]
     },
     "metadata": {},
     "output_type": "display_data"
    }
   ],
   "source": [
    "from wefe.utils import plot_queries_results, run_queries\n",
    "\n",
    "# Plot the results\n",
    "plot_queries_results(WEAT_gender_results).show()"
   ]
  },
  {
   "cell_type": "markdown",
   "metadata": {},
   "source": [
    "Casual_commentator {'query_name': 'Male terms and Female terms wrt Intelligence and Appearence', 'result': 1.1594277792760672, 'weat': 1.1594277792760672, 'effect_size': 0.9432641098126465, 'p_value': 0.0025997400259974}\n",
    "--------------------\n",
    "Ignored {'query_name': 'Male terms and Female terms wrt Intelligence and Sensitive', 'result': 0.2738418133356251, 'weat': 0.2738418133356251, 'effect_size': 0.6418170252503934, 'p_value': 0.0451954804519548}\n",
    "--------------------\n",
    "\n",
    "Contributor {'query_name': 'Male terms and Female terms wrt Man Roles and Woman Roles', 'result': 0.9264312056967843, 'weat': 0.9264312056967843, 'effect_size': 0.8921462876694218, 'p_value': 0.0098990100989901}\n",
    "--------------------\n",
    "\n",
    "Ignored {'query_name': 'Male terms and Female terms wrt Man Roles and Woman Roles', 'result': 1.1060456784728627, 'weat': 1.1060456784728627, 'effect_size': 1.0060452282576957, 'p_value': 0.0013998600139986002}\n",
    "--------------------\n",
    "Lurker {'query_name': 'Male terms and Female terms wrt Man Roles and Woman Roles', 'result': 1.4897731808850017, 'weat': 1.4897731808850017, 'effect_size': 1.300541896029712, 'p_value': 9.999000099990002e-05}\n",
    "--------------------\n",
    "Casual_commentator {'query_name': 'Male terms and Female terms wrt Man Roles and Woman Roles', 'result': 1.6032094629720237, 'weat': 1.6032094629720237, 'effect_size': 1.3351823990471836, 'p_value': 9.999000099990002e-05}\n",
    "--------------------\n",
    "\n"
   ]
  },
  {
   "cell_type": "markdown",
   "metadata": {},
   "source": [
    "Contributor {'query_name': 'Male terms and Female terms wrt Career and Family', 'result': 0.28283597103187064, 'weat': 0.28283597103187064, 'effect_size': 0.28628371535403746, 'p_value': 0.644035596440356}\n",
    "--------------------\n",
    "Ignored {'query_name': 'Male terms and Female terms wrt Career and Family', 'result': 0.7820710316300392, 'weat': 0.7820710316300392, 'effect_size': 0.4359432472520813, 'p_value': 0.1628837116288371}\n",
    "--------------------\n",
    "Lurker {'query_name': 'Male terms and Female terms wrt Career and Family', 'result': 0.9682587691183597, 'weat': 0.9682587691183597, 'effect_size': 0.45220956220476805, 'p_value': 0.14828517148285172}\n",
    "--------------------\n",
    "Casual_commentator {'query_name': 'Male terms and Female terms wrt Career and Family', 'result': 0.5893237395212054, 'weat': 0.5893237395212054, 'effect_size': 0.293695023906791, 'p_value': 0.35566443355664434}\n",
    "--------------------\n",
    "\n",
    "\n",
    "\n",
    "\n",
    "Contributor {'query_name': 'Male terms and Female terms wrt Math and Arts', 'result': 0.0036303741591316996, 'weat': 0.0036303741591316996, 'effect_size': 0.07084060401355263, 'p_value': 0.9923007699230078}\n",
    "--------------------\n",
    "\n",
    "Ignored {'query_name': 'Male terms and Female terms wrt Math and Arts', 'result': 0.12984326282250022, 'weat': 0.12984326282250022, 'effect_size': 0.09119575208738287, 'p_value': 0.7767223277672233}\n",
    "--------------------\n",
    "Lurker {'query_name': 'Male terms and Female terms wrt Math and Arts', 'result': 0.1008137435419485, 'weat': 0.1008137435419485, 'effect_size': 0.0788671440097107, 'p_value': 0.8006199380061993}\n",
    "--------------------\n",
    "Casual_commentator {'query_name': 'Male terms and Female terms wrt Math and Arts', 'result': 0.2981752138584852, 'weat': 0.2981752138584852, 'effect_size': 0.22405711528414413, 'p_value': 0.4781521847815218}\n",
    "--------------------\n",
    "\n",
    "\n",
    "Contributor {'query_name': 'Male terms and Female terms wrt Intelligence and Appearence', 'result': 0.7982098547169671, 'weat': 0.7982098547169671, 'effect_size': 0.6472470411474974, 'p_value': 0.050094990500949906}\n",
    "--------------------\n",
    "Ignored {'query_name': 'Male terms and Female terms wrt Intelligence and Appearence', 'result': 0.8485972336479103, 'weat': 0.8485972336479103, 'effect_size': 0.631026094811215, 'p_value': 0.04509549045095491}\n",
    "--------------------\n",
    "Lurker {'query_name': 'Male terms and Female terms wrt Intelligence and Appearence', 'result': 0.6292148592083582, 'weat': 0.6292148592083582, 'effect_size': 0.4773960989124654, 'p_value': 0.12668733126687332}\n",
    "--------------------\n",
    "Casual_commentator {'query_name': 'Male terms and Female terms wrt Intelligence and Appearence', 'result': 1.1594277792760672, 'weat': 1.1594277792760672, 'effect_size': 0.9432641098126465, 'p_value': 0.0025997400259974}\n",
    "--------------------\n",
    "\n",
    "\n",
    "\n",
    "Contributor {'query_name': 'Male terms and Female terms wrt Intelligence and Sensitive', 'result': 0.3333340182700859, 'weat': 0.3333340182700859, 'effect_size': 0.5933457503001762, 'p_value': 0.09199080091990801}\n",
    "--------------------\n",
    "Ignored {'query_name': 'Male terms and Female terms wrt Intelligence and Sensitive', 'result': 0.2738418133356251, 'weat': 0.2738418133356251, 'effect_size': 0.6418170252503934, 'p_value': 0.0451954804519548}\n",
    "--------------------\n",
    "Lurker {'query_name': 'Male terms and Female terms wrt Intelligence and Sensitive', 'result': 0.12556006369580128, 'weat': 0.12556006369580128, 'effect_size': 0.20881822677359393, 'p_value': 0.506049395060494}\n",
    "--------------------\n",
    "Casual_commentator {'query_name': 'Male terms and Female terms wrt Intelligence and Sensitive', 'result': -0.08747649668142798, 'weat': -0.08747649668142798, 'effect_size': -0.21050937174247136, 'p_value': 1.0}\n",
    "--------------------\n",
    "\n",
    "\n",
    "\n",
    "Contributor {'query_name': 'Male terms and Female terms wrt Man Roles and Woman Roles', 'result': 0.9264312056967843, 'weat': 0.9264312056967843, 'effect_size': 0.8921462876694218, 'p_value': 0.0098990100989901}\n",
    "--------------------\n",
    "Ignored {'query_name': 'Male terms and Female terms wrt Man Roles and Woman Roles', 'result': 1.1060456784728627, 'weat': 1.1060456784728627, 'effect_size': 1.0060452282576957, 'p_value': 0.0013998600139986002}\n",
    "--------------------\n",
    "Lurker {'query_name': 'Male terms and Female terms wrt Man Roles and Woman Roles', 'result': 1.4897731808850017, 'weat': 1.4897731808850017, 'effect_size': 1.300541896029712, 'p_value': 9.999000099990002e-05}\n",
    "--------------------\n",
    "Casual_commentator {'query_name': 'Male terms and Female terms wrt Man Roles and Woman Roles', 'result': 1.6032094629720237, 'weat': 1.6032094629720237, 'effect_size': 1.3351823990471836, 'p_value': 9.999000099990002e-05}\n",
    "--------------------"
   ]
  },
  {
   "cell_type": "code",
   "execution_count": 12,
   "metadata": {},
   "outputs": [],
   "source": [
    "weat = WEAT()\n",
    "\n",
    "result = weat.run_query(gender_queries[4], model_list[3],calculate_p_value=True,p_value_test_type=\"two-sided\")\n"
   ]
  },
  {
   "cell_type": "code",
   "execution_count": 13,
   "metadata": {},
   "outputs": [
    {
     "data": {
      "text/plain": [
       "{'query_name': 'Male terms and Female terms wrt Man Roles and Woman Roles',\n",
       " 'result': 1.6032094629720237,\n",
       " 'weat': 1.6032094629720237,\n",
       " 'effect_size': 1.3351823990471836,\n",
       " 'p_value': 9.999000099990002e-05}"
      ]
     },
     "execution_count": 13,
     "metadata": {},
     "output_type": "execute_result"
    }
   ],
   "source": [
    "result"
   ]
  },
  {
   "cell_type": "code",
   "execution_count": 14,
   "metadata": {},
   "outputs": [],
   "source": [
    "result = weat.run_query(gender_queries[4], model_list[3],calculate_p_value=True,p_value_test_type=\"two-sided\",normalize=True)\n"
   ]
  },
  {
   "cell_type": "code",
   "execution_count": 15,
   "metadata": {},
   "outputs": [
    {
     "data": {
      "text/plain": [
       "{'query_name': 'Male terms and Female terms wrt Man Roles and Woman Roles',\n",
       " 'result': 1.6032095605459735,\n",
       " 'weat': 1.6032095605459735,\n",
       " 'effect_size': 1.335182401873625,\n",
       " 'p_value': 9.999000099990002e-05}"
      ]
     },
     "execution_count": 15,
     "metadata": {},
     "output_type": "execute_result"
    }
   ],
   "source": [
    "result"
   ]
  },
  {
   "cell_type": "code",
   "execution_count": null,
   "metadata": {},
   "outputs": [],
   "source": []
  },
  {
   "cell_type": "markdown",
   "metadata": {},
   "source": [
    "Contributor\n",
    "\n",
    "Contributor {'query_name': 'Male terms and Female terms wrt Intelligence and Appearence', 'result': 0.9931250223171498, 'weat': 0.9931250223171498, 'effect_size': 0.8018163016571519, 'p_value': 0.0160983901609839}\n",
    "--------------------\n",
    "Contributor {'query_name': 'Male terms and Female terms wrt Intelligence and Sensitive', 'result': 0.5113737646889472, 'weat': 0.5113737646889472, 'effect_size': 0.7824637353392603, 'p_value': 0.024697530246975304}\n",
    "--------------------\n",
    "Contributor {'query_name': 'Male terms and Female terms wrt Man Roles and Woman Roles', 'result': 1.0118950368979802, 'weat': 1.0118950368979802, 'effect_size': 0.976835849145505, 'p_value': 0.0065993400659934}\n",
    "--------------------"
   ]
  },
  {
   "cell_type": "markdown",
   "metadata": {},
   "source": [
    "Ignored \n",
    "\n",
    "Ignored {'query_name': 'Male terms and Female terms wrt Intelligence and Appearence', 'result': 0.9283084118953691, 'weat': 0.9283084118953691, 'effect_size': 0.7091371385532843, 'p_value': 0.026797320267973202}\n",
    "--------------------\n",
    "Ignored {'query_name': 'Male terms and Female terms wrt Intelligence and Sensitive', 'result': 0.3488761893688487, 'weat': 0.3488761893688487, 'effect_size': 0.7750190457441655, 'p_value': 0.013598640135986401}\n",
    "--------------------\n",
    "Ignored {'query_name': 'Male terms and Female terms wrt Man Roles and Woman Roles', 'result': 1.2734406439539714, 'weat': 1.2734406439539714, 'effect_size': 1.156335428993345, 'p_value': 9.999000099990002e-05}\n",
    "--------------------"
   ]
  },
  {
   "cell_type": "markdown",
   "metadata": {},
   "source": [
    "Lurker\n",
    "\n",
    "Lurker {'query_name': 'Male terms and Female terms wrt Man Roles and Woman Roles', 'result': 1.3731725768018994, 'weat': 1.3731725768018994, 'effect_size': 1.319190771055105, 'p_value': 9.999000099990002e-05}\n",
    "----------------------"
   ]
  },
  {
   "cell_type": "markdown",
   "metadata": {},
   "source": [
    "Casual Commentator\n",
    "\n",
    "casual_commentator {'query_name': 'Male terms and Female terms wrt Intelligence and Appearence', 'result': 1.4018735626884382, 'weat': 1.4018735626884382, 'effect_size': 0.9760793895000138, 'p_value': 0.0013998600139986002}\n",
    "--------------------\n",
    "casual_commentator {'query_name': 'Male terms and Female terms wrt Man Roles and Woman Roles', 'result': 1.7361701962370903, 'weat': 1.7361701962370903, 'effect_size': 1.3359612651750201, 'p_value': 9.999000099990002e-05}\n",
    "--------------------"
   ]
  },
  {
   "cell_type": "code",
   "execution_count": 17,
   "metadata": {},
   "outputs": [
    {
     "name": "stdout",
     "output_type": "stream",
     "text": [
      "Contributor {'query_name': 'Male terms and Female terms wrt Career and Family', 'result': 0.31365652542029077, 'weat': 0.31365652542029077, 'effect_size': 0.29959936686303107, 'p_value': 0.6622337766223377}\n",
      "--------------------\n",
      "Contributor {'query_name': 'Male terms and Female terms wrt Math and Arts', 'result': 0.3330396972596643, 'weat': 0.3330396972596643, 'effect_size': 0.4007563354859419, 'p_value': 0.35366463353664634}\n",
      "--------------------\n",
      "Contributor {'query_name': 'Male terms and Female terms wrt Intelligence and Appearence', 'result': 0.9931250223171498, 'weat': 0.9931250223171498, 'effect_size': 0.8018163016571519, 'p_value': 0.0160983901609839}\n",
      "--------------------\n",
      "Contributor {'query_name': 'Male terms and Female terms wrt Intelligence and Sensitive', 'result': 0.5113737646889472, 'weat': 0.5113737646889472, 'effect_size': 0.7824637353392603, 'p_value': 0.024697530246975304}\n",
      "--------------------\n",
      "Contributor {'query_name': 'Male terms and Female terms wrt Pleasant and Unpleasant', 'result': -0.3320136654376984, 'weat': -0.3320136654376984, 'effect_size': -0.6174279176549076, 'p_value': 1.0}\n",
      "--------------------\n",
      "Contributor {'query_name': 'Male terms and Female terms wrt Man Roles and Woman Roles', 'result': 1.0118950368979802, 'weat': 1.0118950368979802, 'effect_size': 0.976835849145505, 'p_value': 0.0065993400659934}\n",
      "--------------------\n",
      "Ignored {'query_name': 'Male terms and Female terms wrt Career and Family', 'result': 0.5522329629664977, 'weat': 0.5522329629664977, 'effect_size': 0.2935274069605527, 'p_value': 0.35126487351264873}\n",
      "--------------------\n",
      "Ignored {'query_name': 'Male terms and Female terms wrt Math and Arts', 'result': -0.23633828652756572, 'weat': -0.23633828652756572, 'effect_size': -0.17265929161552848, 'p_value': 1.0}\n",
      "--------------------\n",
      "Ignored {'query_name': 'Male terms and Female terms wrt Intelligence and Appearence', 'result': 0.9283084118953691, 'weat': 0.9283084118953691, 'effect_size': 0.7091371385532843, 'p_value': 0.026797320267973202}\n",
      "--------------------\n",
      "Ignored {'query_name': 'Male terms and Female terms wrt Intelligence and Sensitive', 'result': 0.3488761893688487, 'weat': 0.3488761893688487, 'effect_size': 0.7750190457441655, 'p_value': 0.013598640135986401}\n",
      "--------------------\n",
      "Ignored {'query_name': 'Male terms and Female terms wrt Pleasant and Unpleasant', 'result': -0.5718093833327291, 'weat': -0.5718093833327291, 'effect_size': -0.6838801643346418, 'p_value': 1.0}\n",
      "--------------------\n",
      "Ignored {'query_name': 'Male terms and Female terms wrt Man Roles and Woman Roles', 'result': 1.2734406439539714, 'weat': 1.2734406439539714, 'effect_size': 1.156335428993345, 'p_value': 9.999000099990002e-05}\n",
      "--------------------\n",
      "Lurker {'query_name': 'Male terms and Female terms wrt Career and Family', 'result': 0.794969405712826, 'weat': 0.794969405712826, 'effect_size': 0.40662994477823594, 'p_value': 0.1962803719628037}\n",
      "--------------------\n",
      "Lurker {'query_name': 'Male terms and Female terms wrt Math and Arts', 'result': 0.23781696893274784, 'weat': 0.23781696893274784, 'effect_size': 0.19528996935561496, 'p_value': 0.5427457254274572}\n",
      "--------------------\n",
      "Lurker {'query_name': 'Male terms and Female terms wrt Intelligence and Appearence', 'result': 0.7158789895421693, 'weat': 0.7158789895421693, 'effect_size': 0.5698672269181568, 'p_value': 0.0730926907309269}\n",
      "--------------------\n",
      "Lurker {'query_name': 'Male terms and Female terms wrt Intelligence and Sensitive', 'result': -0.07076602995927839, 'weat': -0.07076602995927839, 'effect_size': -0.1173009538053226, 'p_value': 1.0}\n",
      "--------------------\n",
      "Lurker {'query_name': 'Male terms and Female terms wrt Pleasant and Unpleasant', 'result': -0.24245393931865683, 'weat': -0.24245393931865683, 'effect_size': -0.26582397710899824, 'p_value': 1.0}\n",
      "--------------------\n",
      "Lurker {'query_name': 'Male terms and Female terms wrt Man Roles and Woman Roles', 'result': 1.3731725768018994, 'weat': 1.3731725768018994, 'effect_size': 1.319190771055105, 'p_value': 9.999000099990002e-05}\n",
      "--------------------\n",
      "casual_commentator {'query_name': 'Male terms and Female terms wrt Career and Family', 'result': 0.6032795927021652, 'weat': 0.6032795927021652, 'effect_size': 0.3130700421961455, 'p_value': 0.3244675532446755}\n",
      "--------------------\n",
      "casual_commentator {'query_name': 'Male terms and Female terms wrt Math and Arts', 'result': 0.7327653206884861, 'weat': 0.7327653206884861, 'effect_size': 0.43706888860366744, 'p_value': 0.1728827117288271}\n",
      "--------------------\n",
      "casual_commentator {'query_name': 'Male terms and Female terms wrt Intelligence and Appearence', 'result': 1.4018735626884382, 'weat': 1.4018735626884382, 'effect_size': 0.9760793895000138, 'p_value': 0.0013998600139986002}\n",
      "--------------------\n",
      "casual_commentator {'query_name': 'Male terms and Female terms wrt Intelligence and Sensitive', 'result': 0.22839695423698197, 'weat': 0.22839695423698197, 'effect_size': 0.45953420293079655, 'p_value': 0.147985201479852}\n",
      "--------------------\n",
      "casual_commentator {'query_name': 'Male terms and Female terms wrt Pleasant and Unpleasant', 'result': 0.055103886350989395, 'weat': 0.055103886350989395, 'effect_size': 0.06417194928235744, 'p_value': 0.8476152384761524}\n",
      "--------------------\n",
      "casual_commentator {'query_name': 'Male terms and Female terms wrt Man Roles and Woman Roles', 'result': 1.7361701962370903, 'weat': 1.7361701962370903, 'effect_size': 1.3359612651750201, 'p_value': 9.999000099990002e-05}\n",
      "--------------------\n"
     ]
    }
   ],
   "source": [
    "weat = WEAT()\n",
    "\n",
    "for i in range(len(user_roles)):\n",
    "    for j in gender_queries:\n",
    "        result = weat.run_query(j, model_list[i],calculate_p_value=True,p_value_test_type=\"two-sided\")\n",
    "        print(user_roles[i] ,result)\n",
    "        print(\"--------------------\")"
   ]
  },
  {
   "cell_type": "markdown",
   "metadata": {},
   "source": [
    "Ignored {'query_name': 'Male terms and Female terms wrt Intelligence and Appearence', 'result': 0.8485972336479103, 'weat': 0.8485972336479103, 'effect_size': 0.631026094811215, 'p_value': 0.04509549045095491}\n",
    "--------------------\n",
    "Ignored {'query_name': 'Male terms and Female terms wrt Intelligence and Sensitive', 'result': 0.2738418133356251, 'weat': 0.2738418133356251, 'effect_size': 0.6418170252503934, 'p_value': 0.0451954804519548}\n",
    "--------------------\n",
    "\n",
    "Casual_commentator {'query_name': 'Male terms and Female terms wrt Intelligence and Appearence', 'result': 1.1594277792760672, 'weat': 1.1594277792760672, 'effect_size': 0.9432641098126465, 'p_value': 0.0025997400259974}\n",
    "--------------------\n"
   ]
  },
  {
   "cell_type": "code",
   "execution_count": null,
   "metadata": {},
   "outputs": [],
   "source": []
  },
  {
   "cell_type": "code",
   "execution_count": null,
   "metadata": {},
   "outputs": [],
   "source": []
  },
  {
   "cell_type": "code",
   "execution_count": null,
   "metadata": {},
   "outputs": [],
   "source": []
  }
 ],
 "metadata": {
  "kernelspec": {
   "display_name": "myenv",
   "language": "python",
   "name": "myenv"
  },
  "language_info": {
   "codemirror_mode": {
    "name": "ipython",
    "version": 3
   },
   "file_extension": ".py",
   "mimetype": "text/x-python",
   "name": "python",
   "nbconvert_exporter": "python",
   "pygments_lexer": "ipython3",
   "version": "3.8.5"
  }
 },
 "nbformat": 4,
 "nbformat_minor": 4
}
