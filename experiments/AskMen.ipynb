{
 "cells": [
  {
   "cell_type": "code",
   "execution_count": 1,
   "metadata": {},
   "outputs": [
    {
     "name": "stderr",
     "output_type": "stream",
     "text": [
      "C:\\Users\\Andreas\\anaconda3\\lib\\site-packages\\numpy\\_distributor_init.py:30: UserWarning: loaded more than 1 DLL from .libs:\n",
      "C:\\Users\\Andreas\\anaconda3\\lib\\site-packages\\numpy\\.libs\\libopenblas.FB5AE2TYXYH2IJRDKGDGQ3XBKLKTF43H.gfortran-win_amd64.dll\n",
      "C:\\Users\\Andreas\\anaconda3\\lib\\site-packages\\numpy\\.libs\\libopenblas.noijjg62emaszi6nyurl6jbkm4evbgm7.gfortran-win_amd64.dll\n",
      "C:\\Users\\Andreas\\anaconda3\\lib\\site-packages\\numpy\\.libs\\libopenblas.PYQHXLVVQ7VESDPUVUADXEVJOBGHJPAY.gfortran-win_amd64.dll\n",
      "  warnings.warn(\"loaded more than 1 DLL from .libs:\"\n"
     ]
    }
   ],
   "source": [
    "import pandas as pd\n",
    "from gensim.models import FastText"
   ]
  },
  {
   "cell_type": "code",
   "execution_count": 2,
   "metadata": {},
   "outputs": [],
   "source": [
    "df = pd.read_hdf(\"../datasets/AskMen.h5\", key=\"AskMen\")"
   ]
  },
  {
   "cell_type": "code",
   "execution_count": 3,
   "metadata": {},
   "outputs": [],
   "source": [
    "model_sent = FastText.load(\"../models/subreddit_level/fasttext_AskMen_senti.bin\")"
   ]
  },
  {
   "cell_type": "code",
   "execution_count": 4,
   "metadata": {},
   "outputs": [],
   "source": [
    "NRC = pd.read_csv('../datasets/NRC-VAD-Lexicon.txt', sep=\"\\t\", header=None, names=[\"Words\", \"valence\", \"arousal\", \"dominance\"])"
   ]
  },
  {
   "cell_type": "code",
   "execution_count": 5,
   "metadata": {},
   "outputs": [],
   "source": [
    "token_list = df[\"token_list\"].tolist()\n",
    "flatlist = [item for sublist in token_list for item in sublist]"
   ]
  },
  {
   "cell_type": "code",
   "execution_count": 6,
   "metadata": {},
   "outputs": [],
   "source": [
    "def identify_weigths(flat_list):\n",
    "    from collections import Counter\n",
    "    female=[\"sister\" , \"female\" , \"woman\" , \"girl\" , \"daughter\" , \"she\" , \"hers\" , \"her\"]\n",
    "    male=[\"brother\" , \"male\" , \"man\" , \"boy\" , \"son\" , \"he\" , \"his\" , \"him\"]  \n",
    "\n",
    "    tokens = [item for sublist in flat_list for item in sublist]\n",
    "    term_list_woman = []\n",
    "    for i in tokens:\n",
    "        if i in female:\n",
    "            term_list_woman.append(i)\n",
    "    counter = Counter(term_list_woman)\n",
    "    \n",
    "    liste_woman = []\n",
    "    weights = []\n",
    "    \n",
    "    for i in counter:\n",
    "        if counter[i] > 100:\n",
    "            liste_woman.append(i)\n",
    "            weights.append(counter[i])\n",
    "            \n",
    "    term_list_man = []\n",
    "    for i in tokens:\n",
    "        if i in male:\n",
    "            term_list_man.append(i)\n",
    "    counter = Counter(term_list_man)\n",
    "    \n",
    "    liste_man = []\n",
    "    weights_man = []\n",
    "    \n",
    "    for i in counter:\n",
    "        if counter[i] > 100:\n",
    "            liste_man.append(i)\n",
    "            weights_man.append(counter[i])\n",
    "    \n",
    "    return [liste_woman, weights], [liste_man, weights_man] "
   ]
  },
  {
   "cell_type": "code",
   "execution_count": 7,
   "metadata": {},
   "outputs": [],
   "source": [
    "# Calculate frequencies for the male and female terms\n",
    "\n",
    "woman_terms_freq, man_terms_freq = identify_weigths(flatlist)"
   ]
  },
  {
   "cell_type": "code",
   "execution_count": 8,
   "metadata": {},
   "outputs": [
    {
     "data": {
      "text/plain": [
       "([['her', 'she', 'girl', 'woman', 'female', 'sister', 'daughter', 'hers'],\n",
       "  [96733, 392445, 68616, 213178, 17213, 6729, 6680, 1130]],\n",
       " [['man', 'boy', 'his', 'he', 'male', 'brother', 'son', 'him'],\n",
       "  [197318, 11399, 61639, 239269, 18498, 8115, 6593, 196]])"
      ]
     },
     "execution_count": 8,
     "metadata": {},
     "output_type": "execute_result"
    }
   ],
   "source": [
    "woman_terms_freq, man_terms_freq"
   ]
  },
  {
   "cell_type": "code",
   "execution_count": 9,
   "metadata": {},
   "outputs": [],
   "source": [
    "def calculate_centroid_vectors(woman_terms_freq, man_terms_freq, model, NRC, n_words):\n",
    "    import numpy as np\n",
    "    word_vectors = model.wv\n",
    "    centroid_woman = np.ma.average([word_vectors[w] for w in woman_terms_freq[0]], weights= woman_terms_freq[1] ,axis=0)\n",
    "\n",
    "    vector_woman = word_vectors.similar_by_vector(centroid_woman,topn=n_words)\n",
    "    \n",
    "    liste_woman = []\n",
    "    for i in vector_woman:\n",
    "        liste_woman.append(i[0])\n",
    "    \n",
    "    print(\"Top 10 (woman)\", liste_woman[:10])\n",
    "    \n",
    "    intersection_woman = list(set(liste_woman) & set(NRC[\"Words\"]))\n",
    "    \n",
    "    intersection_woman_ordererd = []\n",
    "    for i in vector_woman:\n",
    "        if i[0] in intersection_woman:\n",
    "            intersection_woman_ordererd.append(i[0])\n",
    "    \n",
    "    df_intersection_woman = pd.DataFrame(intersection_woman_ordererd, columns=[\"Words\"])\n",
    "    df_intersection_woman = df_intersection_woman.merge(NRC, how=\"left\", left_on=\"Words\", right_on=\"Words\")\n",
    "    \n",
    "    \n",
    "    \n",
    "    centroid_man = np.ma.average([word_vectors[w] for w in man_terms_freq[0]], weights= man_terms_freq[1] ,axis=0)\n",
    "\n",
    "    vector_man = word_vectors.similar_by_vector(centroid_man,topn=n_words)\n",
    "    \n",
    "    \n",
    "    liste_man = []\n",
    "    for i in vector_man:\n",
    "        liste_man.append(i[0])\n",
    "    \n",
    "    print(\"Top 10 (man)\", liste_man[:10])\n",
    "    \n",
    "    intersection_man = list(set(liste_man) & set(NRC[\"Words\"]))\n",
    "    \n",
    "    intersection_man_ordererd = []\n",
    "    for i in vector_man:\n",
    "        if i[0] in intersection_man:\n",
    "            intersection_man_ordererd.append(i[0])\n",
    "    \n",
    "    df_intersection_man = pd.DataFrame(intersection_man_ordererd, columns=[\"Words\"])\n",
    "    df_intersection_man = df_intersection_man.merge(NRC, how=\"left\", left_on=\"Words\", right_on=\"Words\")\n",
    "    \n",
    "    \n",
    "    return df_intersection_woman, df_intersection_man, liste_woman, liste_man"
   ]
  },
  {
   "cell_type": "code",
   "execution_count": 10,
   "metadata": {},
   "outputs": [
    {
     "name": "stdout",
     "output_type": "stream",
     "text": [
      "Top 10 (woman) ['she', 'girl', 'her', 'girlfriend', 'gf', 'boyfriend', 'would', 'woman', 'guy', 'wife']\n",
      "Top 10 (man) ['he', 'guy', 'man', 'his', 'boyfriend', 'would', 'bloke', 'girlfriend', 'bf', 'secretly']\n"
     ]
    }
   ],
   "source": [
    "# Calculate the weighted centroid vectors\n",
    "\n",
    "df_NRC_woman , df_NRC_man , liste_woman, liste_man= calculate_centroid_vectors(woman_terms_freq, man_terms_freq, model_sent, NRC, 500)"
   ]
  },
  {
   "cell_type": "markdown",
   "metadata": {},
   "source": [
    "# Top 5 terms with the most sentiment for the female and male centroid vectors"
   ]
  },
  {
   "cell_type": "code",
   "execution_count": 11,
   "metadata": {},
   "outputs": [
    {
     "data": {
      "text/html": [
       "<div>\n",
       "<style scoped>\n",
       "    .dataframe tbody tr th:only-of-type {\n",
       "        vertical-align: middle;\n",
       "    }\n",
       "\n",
       "    .dataframe tbody tr th {\n",
       "        vertical-align: top;\n",
       "    }\n",
       "\n",
       "    .dataframe thead th {\n",
       "        text-align: right;\n",
       "    }\n",
       "</style>\n",
       "<table border=\"1\" class=\"dataframe\">\n",
       "  <thead>\n",
       "    <tr style=\"text-align: right;\">\n",
       "      <th></th>\n",
       "      <th>Words</th>\n",
       "      <th>valence</th>\n",
       "      <th>arousal</th>\n",
       "      <th>dominance</th>\n",
       "    </tr>\n",
       "  </thead>\n",
       "  <tbody>\n",
       "    <tr>\n",
       "      <th>122</th>\n",
       "      <td>afraid</td>\n",
       "      <td>0.010</td>\n",
       "      <td>0.775</td>\n",
       "      <td>0.245</td>\n",
       "    </tr>\n",
       "    <tr>\n",
       "      <th>146</th>\n",
       "      <td>threatened</td>\n",
       "      <td>0.052</td>\n",
       "      <td>0.928</td>\n",
       "      <td>0.354</td>\n",
       "    </tr>\n",
       "    <tr>\n",
       "      <th>167</th>\n",
       "      <td>freak</td>\n",
       "      <td>0.052</td>\n",
       "      <td>0.839</td>\n",
       "      <td>0.464</td>\n",
       "    </tr>\n",
       "    <tr>\n",
       "      <th>179</th>\n",
       "      <td>penniless</td>\n",
       "      <td>0.062</td>\n",
       "      <td>0.316</td>\n",
       "      <td>0.083</td>\n",
       "    </tr>\n",
       "    <tr>\n",
       "      <th>141</th>\n",
       "      <td>cocksucker</td>\n",
       "      <td>0.083</td>\n",
       "      <td>0.764</td>\n",
       "      <td>0.339</td>\n",
       "    </tr>\n",
       "  </tbody>\n",
       "</table>\n",
       "</div>"
      ],
      "text/plain": [
       "          Words  valence  arousal  dominance\n",
       "122      afraid    0.010    0.775      0.245\n",
       "146  threatened    0.052    0.928      0.354\n",
       "167       freak    0.052    0.839      0.464\n",
       "179   penniless    0.062    0.316      0.083\n",
       "141  cocksucker    0.083    0.764      0.339"
      ]
     },
     "execution_count": 11,
     "metadata": {},
     "output_type": "execute_result"
    }
   ],
   "source": [
    "df_NRC_man.sort_values(\"valence\").head()"
   ]
  },
  {
   "cell_type": "code",
   "execution_count": 12,
   "metadata": {},
   "outputs": [
    {
     "data": {
      "text/html": [
       "<div>\n",
       "<style scoped>\n",
       "    .dataframe tbody tr th:only-of-type {\n",
       "        vertical-align: middle;\n",
       "    }\n",
       "\n",
       "    .dataframe tbody tr th {\n",
       "        vertical-align: top;\n",
       "    }\n",
       "\n",
       "    .dataframe thead th {\n",
       "        text-align: right;\n",
       "    }\n",
       "</style>\n",
       "<table border=\"1\" class=\"dataframe\">\n",
       "  <thead>\n",
       "    <tr style=\"text-align: right;\">\n",
       "      <th></th>\n",
       "      <th>Words</th>\n",
       "      <th>valence</th>\n",
       "      <th>arousal</th>\n",
       "      <th>dominance</th>\n",
       "    </tr>\n",
       "  </thead>\n",
       "  <tbody>\n",
       "    <tr>\n",
       "      <th>208</th>\n",
       "      <td>sexy</td>\n",
       "      <td>0.865</td>\n",
       "      <td>0.945</td>\n",
       "      <td>0.802</td>\n",
       "    </tr>\n",
       "    <tr>\n",
       "      <th>79</th>\n",
       "      <td>fuck</td>\n",
       "      <td>0.198</td>\n",
       "      <td>0.930</td>\n",
       "      <td>0.446</td>\n",
       "    </tr>\n",
       "    <tr>\n",
       "      <th>146</th>\n",
       "      <td>threatened</td>\n",
       "      <td>0.052</td>\n",
       "      <td>0.928</td>\n",
       "      <td>0.354</td>\n",
       "    </tr>\n",
       "    <tr>\n",
       "      <th>173</th>\n",
       "      <td>frantically</td>\n",
       "      <td>0.375</td>\n",
       "      <td>0.898</td>\n",
       "      <td>0.735</td>\n",
       "    </tr>\n",
       "    <tr>\n",
       "      <th>187</th>\n",
       "      <td>mad</td>\n",
       "      <td>0.219</td>\n",
       "      <td>0.873</td>\n",
       "      <td>0.277</td>\n",
       "    </tr>\n",
       "  </tbody>\n",
       "</table>\n",
       "</div>"
      ],
      "text/plain": [
       "           Words  valence  arousal  dominance\n",
       "208         sexy    0.865    0.945      0.802\n",
       "79          fuck    0.198    0.930      0.446\n",
       "146   threatened    0.052    0.928      0.354\n",
       "173  frantically    0.375    0.898      0.735\n",
       "187          mad    0.219    0.873      0.277"
      ]
     },
     "execution_count": 12,
     "metadata": {},
     "output_type": "execute_result"
    }
   ],
   "source": [
    "df_NRC_man.sort_values(\"arousal\", ascending=False).head()"
   ]
  },
  {
   "cell_type": "code",
   "execution_count": 13,
   "metadata": {},
   "outputs": [
    {
     "data": {
      "text/html": [
       "<div>\n",
       "<style scoped>\n",
       "    .dataframe tbody tr th:only-of-type {\n",
       "        vertical-align: middle;\n",
       "    }\n",
       "\n",
       "    .dataframe tbody tr th {\n",
       "        vertical-align: top;\n",
       "    }\n",
       "\n",
       "    .dataframe thead th {\n",
       "        text-align: right;\n",
       "    }\n",
       "</style>\n",
       "<table border=\"1\" class=\"dataframe\">\n",
       "  <thead>\n",
       "    <tr style=\"text-align: right;\">\n",
       "      <th></th>\n",
       "      <th>Words</th>\n",
       "      <th>valence</th>\n",
       "      <th>arousal</th>\n",
       "      <th>dominance</th>\n",
       "    </tr>\n",
       "  </thead>\n",
       "  <tbody>\n",
       "    <tr>\n",
       "      <th>211</th>\n",
       "      <td>audacity</td>\n",
       "      <td>0.760</td>\n",
       "      <td>0.755</td>\n",
       "      <td>0.916</td>\n",
       "    </tr>\n",
       "    <tr>\n",
       "      <th>151</th>\n",
       "      <td>manhood</td>\n",
       "      <td>0.625</td>\n",
       "      <td>0.735</td>\n",
       "      <td>0.858</td>\n",
       "    </tr>\n",
       "    <tr>\n",
       "      <th>60</th>\n",
       "      <td>legit</td>\n",
       "      <td>0.747</td>\n",
       "      <td>0.427</td>\n",
       "      <td>0.849</td>\n",
       "    </tr>\n",
       "    <tr>\n",
       "      <th>130</th>\n",
       "      <td>father</td>\n",
       "      <td>0.812</td>\n",
       "      <td>0.333</td>\n",
       "      <td>0.824</td>\n",
       "    </tr>\n",
       "    <tr>\n",
       "      <th>93</th>\n",
       "      <td>able</td>\n",
       "      <td>0.786</td>\n",
       "      <td>0.500</td>\n",
       "      <td>0.810</td>\n",
       "    </tr>\n",
       "  </tbody>\n",
       "</table>\n",
       "</div>"
      ],
      "text/plain": [
       "        Words  valence  arousal  dominance\n",
       "211  audacity    0.760    0.755      0.916\n",
       "151   manhood    0.625    0.735      0.858\n",
       "60      legit    0.747    0.427      0.849\n",
       "130    father    0.812    0.333      0.824\n",
       "93       able    0.786    0.500      0.810"
      ]
     },
     "execution_count": 13,
     "metadata": {},
     "output_type": "execute_result"
    }
   ],
   "source": [
    "df_NRC_man.sort_values(\"dominance\", ascending=False).head()"
   ]
  },
  {
   "cell_type": "code",
   "execution_count": 14,
   "metadata": {},
   "outputs": [
    {
     "data": {
      "text/html": [
       "<div>\n",
       "<style scoped>\n",
       "    .dataframe tbody tr th:only-of-type {\n",
       "        vertical-align: middle;\n",
       "    }\n",
       "\n",
       "    .dataframe tbody tr th {\n",
       "        vertical-align: top;\n",
       "    }\n",
       "\n",
       "    .dataframe thead th {\n",
       "        text-align: right;\n",
       "    }\n",
       "</style>\n",
       "<table border=\"1\" class=\"dataframe\">\n",
       "  <thead>\n",
       "    <tr style=\"text-align: right;\">\n",
       "      <th></th>\n",
       "      <th>Words</th>\n",
       "      <th>valence</th>\n",
       "      <th>arousal</th>\n",
       "      <th>dominance</th>\n",
       "    </tr>\n",
       "  </thead>\n",
       "  <tbody>\n",
       "    <tr>\n",
       "      <th>180</th>\n",
       "      <td>hell</td>\n",
       "      <td>0.020</td>\n",
       "      <td>0.918</td>\n",
       "      <td>0.565</td>\n",
       "    </tr>\n",
       "    <tr>\n",
       "      <th>57</th>\n",
       "      <td>freak</td>\n",
       "      <td>0.052</td>\n",
       "      <td>0.839</td>\n",
       "      <td>0.464</td>\n",
       "    </tr>\n",
       "    <tr>\n",
       "      <th>150</th>\n",
       "      <td>reject</td>\n",
       "      <td>0.060</td>\n",
       "      <td>0.647</td>\n",
       "      <td>0.370</td>\n",
       "    </tr>\n",
       "    <tr>\n",
       "      <th>157</th>\n",
       "      <td>upset</td>\n",
       "      <td>0.071</td>\n",
       "      <td>0.680</td>\n",
       "      <td>0.330</td>\n",
       "    </tr>\n",
       "    <tr>\n",
       "      <th>200</th>\n",
       "      <td>trouble</td>\n",
       "      <td>0.135</td>\n",
       "      <td>0.811</td>\n",
       "      <td>0.452</td>\n",
       "    </tr>\n",
       "  </tbody>\n",
       "</table>\n",
       "</div>"
      ],
      "text/plain": [
       "       Words  valence  arousal  dominance\n",
       "180     hell    0.020    0.918      0.565\n",
       "57     freak    0.052    0.839      0.464\n",
       "150   reject    0.060    0.647      0.370\n",
       "157    upset    0.071    0.680      0.330\n",
       "200  trouble    0.135    0.811      0.452"
      ]
     },
     "execution_count": 14,
     "metadata": {},
     "output_type": "execute_result"
    }
   ],
   "source": [
    "df_NRC_woman.sort_values(\"valence\").head()"
   ]
  },
  {
   "cell_type": "code",
   "execution_count": 15,
   "metadata": {},
   "outputs": [
    {
     "data": {
      "text/html": [
       "<div>\n",
       "<style scoped>\n",
       "    .dataframe tbody tr th:only-of-type {\n",
       "        vertical-align: middle;\n",
       "    }\n",
       "\n",
       "    .dataframe tbody tr th {\n",
       "        vertical-align: top;\n",
       "    }\n",
       "\n",
       "    .dataframe thead th {\n",
       "        text-align: right;\n",
       "    }\n",
       "</style>\n",
       "<table border=\"1\" class=\"dataframe\">\n",
       "  <thead>\n",
       "    <tr style=\"text-align: right;\">\n",
       "      <th></th>\n",
       "      <th>Words</th>\n",
       "      <th>valence</th>\n",
       "      <th>arousal</th>\n",
       "      <th>dominance</th>\n",
       "    </tr>\n",
       "  </thead>\n",
       "  <tbody>\n",
       "    <tr>\n",
       "      <th>141</th>\n",
       "      <td>bang</td>\n",
       "      <td>0.265</td>\n",
       "      <td>0.951</td>\n",
       "      <td>0.740</td>\n",
       "    </tr>\n",
       "    <tr>\n",
       "      <th>197</th>\n",
       "      <td>excite</td>\n",
       "      <td>0.823</td>\n",
       "      <td>0.950</td>\n",
       "      <td>0.668</td>\n",
       "    </tr>\n",
       "    <tr>\n",
       "      <th>51</th>\n",
       "      <td>sexy</td>\n",
       "      <td>0.865</td>\n",
       "      <td>0.945</td>\n",
       "      <td>0.802</td>\n",
       "    </tr>\n",
       "    <tr>\n",
       "      <th>165</th>\n",
       "      <td>sex</td>\n",
       "      <td>0.803</td>\n",
       "      <td>0.939</td>\n",
       "      <td>0.704</td>\n",
       "    </tr>\n",
       "    <tr>\n",
       "      <th>216</th>\n",
       "      <td>excited</td>\n",
       "      <td>0.908</td>\n",
       "      <td>0.931</td>\n",
       "      <td>0.709</td>\n",
       "    </tr>\n",
       "  </tbody>\n",
       "</table>\n",
       "</div>"
      ],
      "text/plain": [
       "       Words  valence  arousal  dominance\n",
       "141     bang    0.265    0.951      0.740\n",
       "197   excite    0.823    0.950      0.668\n",
       "51      sexy    0.865    0.945      0.802\n",
       "165      sex    0.803    0.939      0.704\n",
       "216  excited    0.908    0.931      0.709"
      ]
     },
     "execution_count": 15,
     "metadata": {},
     "output_type": "execute_result"
    }
   ],
   "source": [
    "df_NRC_woman.sort_values(\"arousal\", ascending=False).head()"
   ]
  },
  {
   "cell_type": "code",
   "execution_count": 16,
   "metadata": {},
   "outputs": [
    {
     "data": {
      "text/html": [
       "<div>\n",
       "<style scoped>\n",
       "    .dataframe tbody tr th:only-of-type {\n",
       "        vertical-align: middle;\n",
       "    }\n",
       "\n",
       "    .dataframe tbody tr th {\n",
       "        vertical-align: top;\n",
       "    }\n",
       "\n",
       "    .dataframe thead th {\n",
       "        text-align: right;\n",
       "    }\n",
       "</style>\n",
       "<table border=\"1\" class=\"dataframe\">\n",
       "  <thead>\n",
       "    <tr style=\"text-align: right;\">\n",
       "      <th></th>\n",
       "      <th>Words</th>\n",
       "      <th>valence</th>\n",
       "      <th>arousal</th>\n",
       "      <th>dominance</th>\n",
       "    </tr>\n",
       "  </thead>\n",
       "  <tbody>\n",
       "    <tr>\n",
       "      <th>202</th>\n",
       "      <td>audacity</td>\n",
       "      <td>0.760</td>\n",
       "      <td>0.755</td>\n",
       "      <td>0.916</td>\n",
       "    </tr>\n",
       "    <tr>\n",
       "      <th>193</th>\n",
       "      <td>goddess</td>\n",
       "      <td>0.865</td>\n",
       "      <td>0.560</td>\n",
       "      <td>0.888</td>\n",
       "    </tr>\n",
       "    <tr>\n",
       "      <th>198</th>\n",
       "      <td>decide</td>\n",
       "      <td>0.656</td>\n",
       "      <td>0.540</td>\n",
       "      <td>0.855</td>\n",
       "    </tr>\n",
       "    <tr>\n",
       "      <th>83</th>\n",
       "      <td>legit</td>\n",
       "      <td>0.747</td>\n",
       "      <td>0.427</td>\n",
       "      <td>0.849</td>\n",
       "    </tr>\n",
       "    <tr>\n",
       "      <th>103</th>\n",
       "      <td>able</td>\n",
       "      <td>0.786</td>\n",
       "      <td>0.500</td>\n",
       "      <td>0.810</td>\n",
       "    </tr>\n",
       "  </tbody>\n",
       "</table>\n",
       "</div>"
      ],
      "text/plain": [
       "        Words  valence  arousal  dominance\n",
       "202  audacity    0.760    0.755      0.916\n",
       "193   goddess    0.865    0.560      0.888\n",
       "198    decide    0.656    0.540      0.855\n",
       "83      legit    0.747    0.427      0.849\n",
       "103      able    0.786    0.500      0.810"
      ]
     },
     "execution_count": 16,
     "metadata": {},
     "output_type": "execute_result"
    }
   ],
   "source": [
    "df_NRC_woman.sort_values(\"dominance\", ascending=False).head()"
   ]
  },
  {
   "cell_type": "markdown",
   "metadata": {},
   "source": [
    "# Pretesting the distribution of the sentiment scores "
   ]
  },
  {
   "cell_type": "code",
   "execution_count": 17,
   "metadata": {},
   "outputs": [
    {
     "name": "stdout",
     "output_type": "stream",
     "text": [
      "0.04683430159617279 0.029098507444335155 0.026439530246803167\n"
     ]
    }
   ],
   "source": [
    "print(df_NRC_man[\"valence\"].var(),df_NRC_man[\"arousal\"].var(),df_NRC_man[\"dominance\"].var() )"
   ]
  },
  {
   "cell_type": "code",
   "execution_count": 18,
   "metadata": {},
   "outputs": [
    {
     "name": "stdout",
     "output_type": "stream",
     "text": [
      "0.046967980487213644 0.03674362820668202 0.025606007110249275\n"
     ]
    }
   ],
   "source": [
    "print(df_NRC_woman[\"valence\"].var(),df_NRC_woman[\"arousal\"].var(),df_NRC_woman[\"dominance\"].var() )"
   ]
  },
  {
   "cell_type": "code",
   "execution_count": 35,
   "metadata": {},
   "outputs": [],
   "source": [
    "def check_normal_dist(df,subject, gender):\n",
    "    import scipy.stats as stats\n",
    "    import numpy as np\n",
    "    import matplotlib.pyplot as plt\n",
    "    %matplotlib inline\n",
    "    from scipy import stats\n",
    "\n",
    "    z =  (df[subject]- np.mean(df[subject]))/np.std(df[subject])\n",
    "    stats.probplot(z, dist=\"norm\", plot=plt)\n",
    "    plt.title(f\"Normal Q-Q plot ({gender})\")\n",
    "    plt.show()\n",
    "   \n",
    "    print(\"Kolmogorov–Smirnov test:\", stats.kstest(df[subject],\n",
    "               stats.norm.cdf))"
   ]
  },
  {
   "cell_type": "markdown",
   "metadata": {},
   "source": [
    "## Visualization of the QQ-Plot based on https://towardsdatascience.com/q-q-plots-explained-5aa8495426c0"
   ]
  },
  {
   "cell_type": "code",
   "execution_count": 36,
   "metadata": {},
   "outputs": [
    {
     "data": {
      "image/png": "[encoded data removed]",
      "text/plain": [
       "<Figure size 432x288 with 1 Axes>"
      ]
     },
     "metadata": {
      "needs_background": "light"
     },
     "output_type": "display_data"
    },
    {
     "name": "stdout",
     "output_type": "stream",
     "text": [
      "Kolmogorov–Smirnov test: KstestResult(statistic=0.5618306706048808, pvalue=6.750658498079827e-67)\n"
     ]
    }
   ],
   "source": [
    "check_normal_dist(df_NRC_woman, \"arousal\", \"woman\")"
   ]
  },
  {
   "cell_type": "code",
   "execution_count": 37,
   "metadata": {},
   "outputs": [
    {
     "data": {
      "image/png": "[encoded data removed]",
      "text/plain": [
       "<Figure size 432x288 with 1 Axes>"
      ]
     },
     "metadata": {
      "needs_background": "light"
     },
     "output_type": "display_data"
    },
    {
     "name": "stdout",
     "output_type": "stream",
     "text": [
      "Kolmogorov–Smirnov test: KstestResult(statistic=0.5662484161918939, pvalue=1.0182752511871578e-64)\n"
     ]
    }
   ],
   "source": [
    "check_normal_dist(df_NRC_man, \"arousal\",\"man\")"
   ]
  },
  {
   "cell_type": "markdown",
   "metadata": {},
   "source": [
    "# Testing for statistical significance with Welsh's t-test"
   ]
  },
  {
   "cell_type": "code",
   "execution_count": 33,
   "metadata": {},
   "outputs": [],
   "source": [
    "def apply_welch_test(df_1,df_2,score_type):\n",
    "    from scipy.stats import ttest_ind\n",
    "    from scipy.stats import levene \n",
    "    import math\n",
    "    import statistics\n",
    "    print(score_type)\n",
    "    stat, p = ttest_ind(df_1[score_type].tolist(),df_2[score_type].tolist(), nan_policy=\"omit\", alternative=\"two-sided\",equal_var=False )#, equal_var=False)\n",
    "    alpha = 0.05\n",
    "    print(\"Statistics=%3f, p=%.3f\" % (stat, p))\n",
    "    if p < alpha:\n",
    "        print(\"Different distributions (reject H0)\")\n",
    "        if df_1[score_type].mean() > df_2[score_type].mean():\n",
    "            print(f\"Average {score_type} for female terms is bigger:\", df_1[score_type].mean(), \">\" , df_2[score_type].mean())\n",
    "        else:\n",
    "            print(f\"Average {score_type} for male terms is bigger:\", df_2[score_type].mean(), \">\" , df_1[score_type].mean())\n",
    "    else:\n",
    "        print(\"Same distribution (fail to reject H0)\")\n",
    "    if p < alpha:\n",
    "        d = (df_1[score_type].mean() - df_2[score_type].mean())/math.sqrt(((df_1[score_type].var() + df_2[score_type].var())/2))\n",
    "        \n",
    "        print( \"Cohens D:\", d)\n",
    "    print(\"Amount female terms:\", len(df_1), \", Amount male terms:\", len(df_2))\n",
    "    print(\"------------------------------\")"
   ]
  },
  {
   "cell_type": "code",
   "execution_count": 34,
   "metadata": {},
   "outputs": [
    {
     "name": "stdout",
     "output_type": "stream",
     "text": [
      "valence\n",
      "Statistics=0.258260, p=0.796\n",
      "Same distribution (fail to reject H0)\n",
      "Amount female terms: 223 , Amount male terms: 212\n",
      "------------------------------\n",
      "arousal\n",
      "Statistics=1.934686, p=0.054\n",
      "Same distribution (fail to reject H0)\n",
      "Amount female terms: 223 , Amount male terms: 212\n",
      "------------------------------\n",
      "dominance\n",
      "Statistics=0.656478, p=0.512\n",
      "Same distribution (fail to reject H0)\n",
      "Amount female terms: 223 , Amount male terms: 212\n",
      "------------------------------\n"
     ]
    }
   ],
   "source": [
    "apply_welch_test(df_NRC_woman, df_NRC_man,\"valence\")\n",
    "apply_welch_test(df_NRC_woman, df_NRC_man,\"arousal\")\n",
    "apply_welch_test(df_NRC_woman, df_NRC_man,\"dominance\")"
   ]
  }
 ],
 "metadata": {
  "kernelspec": {
   "display_name": "myenv",
   "language": "python",
   "name": "myenv"
  },
  "language_info": {
   "codemirror_mode": {
    "name": "ipython",
    "version": 3
   },
   "file_extension": ".py",
   "mimetype": "text/x-python",
   "name": "python",
   "nbconvert_exporter": "python",
   "pygments_lexer": "ipython3",
   "version": "3.8.5"
  }
 },
 "nbformat": 4,
 "nbformat_minor": 4
}
