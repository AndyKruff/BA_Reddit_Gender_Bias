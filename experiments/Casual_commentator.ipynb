{
 "cells": [
  {
   "cell_type": "code",
   "execution_count": 1,
   "metadata": {},
   "outputs": [
    {
     "name": "stderr",
     "output_type": "stream",
     "text": [
      "C:\\Users\\Andreas\\anaconda3\\lib\\site-packages\\numpy\\_distributor_init.py:30: UserWarning: loaded more than 1 DLL from .libs:\n",
      "C:\\Users\\Andreas\\anaconda3\\lib\\site-packages\\numpy\\.libs\\libopenblas.FB5AE2TYXYH2IJRDKGDGQ3XBKLKTF43H.gfortran-win_amd64.dll\n",
      "C:\\Users\\Andreas\\anaconda3\\lib\\site-packages\\numpy\\.libs\\libopenblas.noijjg62emaszi6nyurl6jbkm4evbgm7.gfortran-win_amd64.dll\n",
      "C:\\Users\\Andreas\\anaconda3\\lib\\site-packages\\numpy\\.libs\\libopenblas.PYQHXLVVQ7VESDPUVUADXEVJOBGHJPAY.gfortran-win_amd64.dll\n",
      "  warnings.warn(\"loaded more than 1 DLL from .libs:\"\n"
     ]
    }
   ],
   "source": [
    "import pandas as pd\n",
    "from gensim.models import FastText\n"
   ]
  },
  {
   "cell_type": "code",
   "execution_count": 3,
   "metadata": {},
   "outputs": [],
   "source": [
    "df = pd.read_hdf(\"../datasets/Casual_commentator.h5\", key=\"casual_commentator\")"
   ]
  },
  {
   "cell_type": "code",
   "execution_count": 4,
   "metadata": {},
   "outputs": [],
   "source": [
    "model_sent = FastText.load(\"../models/user_level/fasttext_casual_commentator_senti.bin\")"
   ]
  },
  {
   "cell_type": "code",
   "execution_count": 5,
   "metadata": {},
   "outputs": [],
   "source": [
    "NRC = pd.read_csv('../datasets/NRC-VAD-Lexicon.txt', sep=\"\\t\", header=None, names=[\"Words\", \"valence\", \"arousal\", \"dominance\"])"
   ]
  },
  {
   "cell_type": "code",
   "execution_count": 6,
   "metadata": {},
   "outputs": [],
   "source": [
    "token_list = df[\"token_list\"].tolist()\n",
    "flatlist = [item for sublist in token_list for item in sublist]"
   ]
  },
  {
   "cell_type": "code",
   "execution_count": 10,
   "metadata": {},
   "outputs": [],
   "source": [
    "def identify_weigths(flat_list):\n",
    "    from collections import Counter\n",
    "    female=[\"sister\" , \"female\" , \"woman\" , \"girl\" , \"daughter\" , \"she\" , \"hers\" , \"her\"]\n",
    "    male=[\"brother\" , \"male\" , \"man\" , \"boy\" , \"son\" , \"he\" , \"his\" , \"him\"]  \n",
    "\n",
    "    tokens = [item for sublist in flat_list for item in sublist]\n",
    "    term_list_woman = []\n",
    "    for i in tokens:\n",
    "        if i in female:\n",
    "            term_list_woman.append(i)\n",
    "    counter = Counter(term_list_woman)\n",
    "    \n",
    "    liste_woman = []\n",
    "    weights = []\n",
    "    \n",
    "    for i in counter:\n",
    "        if counter[i] > 100:\n",
    "            liste_woman.append(i)\n",
    "            weights.append(counter[i])\n",
    "            \n",
    "    term_list_man = []\n",
    "    for i in tokens:\n",
    "        if i in male:\n",
    "            term_list_man.append(i)\n",
    "    counter = Counter(term_list_man)\n",
    "    \n",
    "    liste_man = []\n",
    "    weights_man = []\n",
    "    \n",
    "    for i in counter:\n",
    "        if counter[i] > 100:\n",
    "            liste_man.append(i)\n",
    "            weights_man.append(counter[i])\n",
    "    \n",
    "    return [liste_woman, weights], [liste_man, weights_man] "
   ]
  },
  {
   "cell_type": "code",
   "execution_count": 11,
   "metadata": {},
   "outputs": [],
   "source": [
    "woman_terms_freq, man_terms_freq = identify_weigths(flatlist)"
   ]
  },
  {
   "cell_type": "code",
   "execution_count": 12,
   "metadata": {},
   "outputs": [
    {
     "data": {
      "text/plain": [
       "([['she', 'woman', 'her', 'sister', 'daughter', 'girl', 'female', 'hers'],\n",
       "  [513010, 262252, 140924, 15874, 26631, 90622, 27424, 1179]],\n",
       " [['he', 'his', 'man', 'male', 'him', 'son', 'brother', 'boy'],\n",
       "  [680273, 186326, 257947, 32980, 622, 27487, 18492, 32210]])"
      ]
     },
     "execution_count": 12,
     "metadata": {},
     "output_type": "execute_result"
    }
   ],
   "source": [
    "woman_terms_freq, man_terms_freq"
   ]
  },
  {
   "cell_type": "code",
   "execution_count": 13,
   "metadata": {},
   "outputs": [],
   "source": [
    "def calculate_centroid_vectors(woman_terms_freq, man_terms_freq, model, NRC, n_words):\n",
    "    import numpy as np\n",
    "    word_vectors = model.wv\n",
    "    centroid_woman = np.ma.average([word_vectors[w] for w in woman_terms_freq[0]], weights= woman_terms_freq[1] ,axis=0)\n",
    "\n",
    "    vector_woman = word_vectors.similar_by_vector(centroid_woman,topn=n_words)\n",
    "    \n",
    "    liste_woman = []\n",
    "    for i in vector_woman:\n",
    "        liste_woman.append(i[0])\n",
    "    \n",
    "    print(\"Top 10 (woman)\", liste_woman[:10])\n",
    "    \n",
    "    intersection_woman = list(set(liste_woman) & set(NRC[\"Words\"]))\n",
    "    \n",
    "    intersection_woman_ordererd = []\n",
    "    for i in vector_woman:\n",
    "        if i[0] in intersection_woman:\n",
    "            intersection_woman_ordererd.append(i[0])\n",
    "    \n",
    "    df_intersection_woman = pd.DataFrame(intersection_woman_ordererd, columns=[\"Words\"])\n",
    "    df_intersection_woman = df_intersection_woman.merge(NRC, how=\"left\", left_on=\"Words\", right_on=\"Words\")\n",
    "    \n",
    "    \n",
    "    \n",
    "    centroid_man = np.ma.average([word_vectors[w] for w in man_terms_freq[0]], weights= man_terms_freq[1] ,axis=0)\n",
    "\n",
    "    vector_man = word_vectors.similar_by_vector(centroid_man,topn=n_words)\n",
    "    \n",
    "    \n",
    "    liste_man = []\n",
    "    for i in vector_man:\n",
    "        liste_man.append(i[0])\n",
    "    \n",
    "    print(\"Top 10 (man)\", liste_man[:10])\n",
    "    \n",
    "    intersection_man = list(set(liste_man) & set(NRC[\"Words\"]))\n",
    "    \n",
    "    intersection_man_ordererd = []\n",
    "    for i in vector_man:\n",
    "        if i[0] in intersection_man:\n",
    "            intersection_man_ordererd.append(i[0])\n",
    "    \n",
    "    df_intersection_man = pd.DataFrame(intersection_man_ordererd, columns=[\"Words\"])\n",
    "    df_intersection_man = df_intersection_man.merge(NRC, how=\"left\", left_on=\"Words\", right_on=\"Words\")\n",
    "    \n",
    "    \n",
    "    return df_intersection_woman, df_intersection_man, liste_woman, liste_man"
   ]
  },
  {
   "cell_type": "code",
   "execution_count": 14,
   "metadata": {},
   "outputs": [
    {
     "name": "stdout",
     "output_type": "stream",
     "text": [
      "Top 10 (woman) ['she', 'her', 'woman', 'daughter', 'herself', 'sister', 'congresswoman', 'allegedly', 'hers', 'mother']\n",
      "Top 10 (man) ['he', 'his', 'himself', 'trump', 'guy', 'son', 'president', 'donald', 'never', 'supporter']\n"
     ]
    }
   ],
   "source": [
    "df_NRC_woman , df_NRC_man , liste_woman, liste_man= calculate_centroid_vectors(woman_terms_freq, man_terms_freq, model_sent, NRC, 500)\n"
   ]
  },
  {
   "cell_type": "code",
   "execution_count": 15,
   "metadata": {},
   "outputs": [
    {
     "data": {
      "text/html": [
       "<div>\n",
       "<style scoped>\n",
       "    .dataframe tbody tr th:only-of-type {\n",
       "        vertical-align: middle;\n",
       "    }\n",
       "\n",
       "    .dataframe tbody tr th {\n",
       "        vertical-align: top;\n",
       "    }\n",
       "\n",
       "    .dataframe thead th {\n",
       "        text-align: right;\n",
       "    }\n",
       "</style>\n",
       "<table border=\"1\" class=\"dataframe\">\n",
       "  <thead>\n",
       "    <tr style=\"text-align: right;\">\n",
       "      <th></th>\n",
       "      <th>Words</th>\n",
       "      <th>valence</th>\n",
       "      <th>arousal</th>\n",
       "      <th>dominance</th>\n",
       "    </tr>\n",
       "  </thead>\n",
       "  <tbody>\n",
       "    <tr>\n",
       "      <th>191</th>\n",
       "      <td>shit</td>\n",
       "      <td>0.000</td>\n",
       "      <td>0.678</td>\n",
       "      <td>0.294</td>\n",
       "    </tr>\n",
       "    <tr>\n",
       "      <th>121</th>\n",
       "      <td>hell</td>\n",
       "      <td>0.020</td>\n",
       "      <td>0.918</td>\n",
       "      <td>0.565</td>\n",
       "    </tr>\n",
       "    <tr>\n",
       "      <th>93</th>\n",
       "      <td>hate</td>\n",
       "      <td>0.031</td>\n",
       "      <td>0.802</td>\n",
       "      <td>0.430</td>\n",
       "    </tr>\n",
       "    <tr>\n",
       "      <th>106</th>\n",
       "      <td>assassinate</td>\n",
       "      <td>0.051</td>\n",
       "      <td>0.969</td>\n",
       "      <td>0.722</td>\n",
       "    </tr>\n",
       "    <tr>\n",
       "      <th>163</th>\n",
       "      <td>dead</td>\n",
       "      <td>0.052</td>\n",
       "      <td>0.454</td>\n",
       "      <td>0.194</td>\n",
       "    </tr>\n",
       "  </tbody>\n",
       "</table>\n",
       "</div>"
      ],
      "text/plain": [
       "           Words  valence  arousal  dominance\n",
       "191         shit    0.000    0.678      0.294\n",
       "121         hell    0.020    0.918      0.565\n",
       "93          hate    0.031    0.802      0.430\n",
       "106  assassinate    0.051    0.969      0.722\n",
       "163         dead    0.052    0.454      0.194"
      ]
     },
     "execution_count": 15,
     "metadata": {},
     "output_type": "execute_result"
    }
   ],
   "source": [
    "df_NRC_man.sort_values(\"valence\").head()"
   ]
  },
  {
   "cell_type": "code",
   "execution_count": 16,
   "metadata": {},
   "outputs": [
    {
     "data": {
      "text/html": [
       "<div>\n",
       "<style scoped>\n",
       "    .dataframe tbody tr th:only-of-type {\n",
       "        vertical-align: middle;\n",
       "    }\n",
       "\n",
       "    .dataframe tbody tr th {\n",
       "        vertical-align: top;\n",
       "    }\n",
       "\n",
       "    .dataframe thead th {\n",
       "        text-align: right;\n",
       "    }\n",
       "</style>\n",
       "<table border=\"1\" class=\"dataframe\">\n",
       "  <thead>\n",
       "    <tr style=\"text-align: right;\">\n",
       "      <th></th>\n",
       "      <th>Words</th>\n",
       "      <th>valence</th>\n",
       "      <th>arousal</th>\n",
       "      <th>dominance</th>\n",
       "    </tr>\n",
       "  </thead>\n",
       "  <tbody>\n",
       "    <tr>\n",
       "      <th>106</th>\n",
       "      <td>assassinate</td>\n",
       "      <td>0.051</td>\n",
       "      <td>0.969</td>\n",
       "      <td>0.722</td>\n",
       "    </tr>\n",
       "    <tr>\n",
       "      <th>121</th>\n",
       "      <td>hell</td>\n",
       "      <td>0.020</td>\n",
       "      <td>0.918</td>\n",
       "      <td>0.565</td>\n",
       "    </tr>\n",
       "    <tr>\n",
       "      <th>182</th>\n",
       "      <td>action</td>\n",
       "      <td>0.760</td>\n",
       "      <td>0.898</td>\n",
       "      <td>0.802</td>\n",
       "    </tr>\n",
       "    <tr>\n",
       "      <th>168</th>\n",
       "      <td>fight</td>\n",
       "      <td>0.531</td>\n",
       "      <td>0.868</td>\n",
       "      <td>0.809</td>\n",
       "    </tr>\n",
       "    <tr>\n",
       "      <th>162</th>\n",
       "      <td>mighty</td>\n",
       "      <td>0.855</td>\n",
       "      <td>0.837</td>\n",
       "      <td>0.936</td>\n",
       "    </tr>\n",
       "  </tbody>\n",
       "</table>\n",
       "</div>"
      ],
      "text/plain": [
       "           Words  valence  arousal  dominance\n",
       "106  assassinate    0.051    0.969      0.722\n",
       "121         hell    0.020    0.918      0.565\n",
       "182       action    0.760    0.898      0.802\n",
       "168        fight    0.531    0.868      0.809\n",
       "162       mighty    0.855    0.837      0.936"
      ]
     },
     "execution_count": 16,
     "metadata": {},
     "output_type": "execute_result"
    }
   ],
   "source": [
    "df_NRC_man.sort_values(\"arousal\", ascending=False).head()"
   ]
  },
  {
   "cell_type": "code",
   "execution_count": 17,
   "metadata": {},
   "outputs": [
    {
     "data": {
      "text/html": [
       "<div>\n",
       "<style scoped>\n",
       "    .dataframe tbody tr th:only-of-type {\n",
       "        vertical-align: middle;\n",
       "    }\n",
       "\n",
       "    .dataframe tbody tr th {\n",
       "        vertical-align: top;\n",
       "    }\n",
       "\n",
       "    .dataframe thead th {\n",
       "        text-align: right;\n",
       "    }\n",
       "</style>\n",
       "<table border=\"1\" class=\"dataframe\">\n",
       "  <thead>\n",
       "    <tr style=\"text-align: right;\">\n",
       "      <th></th>\n",
       "      <th>Words</th>\n",
       "      <th>valence</th>\n",
       "      <th>arousal</th>\n",
       "      <th>dominance</th>\n",
       "    </tr>\n",
       "  </thead>\n",
       "  <tbody>\n",
       "    <tr>\n",
       "      <th>3</th>\n",
       "      <td>president</td>\n",
       "      <td>0.677</td>\n",
       "      <td>0.622</td>\n",
       "      <td>0.973</td>\n",
       "    </tr>\n",
       "    <tr>\n",
       "      <th>43</th>\n",
       "      <td>presidential</td>\n",
       "      <td>0.612</td>\n",
       "      <td>0.656</td>\n",
       "      <td>0.972</td>\n",
       "    </tr>\n",
       "    <tr>\n",
       "      <th>162</th>\n",
       "      <td>mighty</td>\n",
       "      <td>0.855</td>\n",
       "      <td>0.837</td>\n",
       "      <td>0.936</td>\n",
       "    </tr>\n",
       "    <tr>\n",
       "      <th>165</th>\n",
       "      <td>chairman</td>\n",
       "      <td>0.656</td>\n",
       "      <td>0.567</td>\n",
       "      <td>0.933</td>\n",
       "    </tr>\n",
       "    <tr>\n",
       "      <th>26</th>\n",
       "      <td>leader</td>\n",
       "      <td>0.833</td>\n",
       "      <td>0.582</td>\n",
       "      <td>0.926</td>\n",
       "    </tr>\n",
       "  </tbody>\n",
       "</table>\n",
       "</div>"
      ],
      "text/plain": [
       "            Words  valence  arousal  dominance\n",
       "3       president    0.677    0.622      0.973\n",
       "43   presidential    0.612    0.656      0.972\n",
       "162        mighty    0.855    0.837      0.936\n",
       "165      chairman    0.656    0.567      0.933\n",
       "26         leader    0.833    0.582      0.926"
      ]
     },
     "execution_count": 17,
     "metadata": {},
     "output_type": "execute_result"
    }
   ],
   "source": [
    "df_NRC_man.sort_values(\"dominance\", ascending=False).head()"
   ]
  },
  {
   "cell_type": "code",
   "execution_count": 18,
   "metadata": {},
   "outputs": [
    {
     "data": {
      "text/html": [
       "<div>\n",
       "<style scoped>\n",
       "    .dataframe tbody tr th:only-of-type {\n",
       "        vertical-align: middle;\n",
       "    }\n",
       "\n",
       "    .dataframe tbody tr th {\n",
       "        vertical-align: top;\n",
       "    }\n",
       "\n",
       "    .dataframe thead th {\n",
       "        text-align: right;\n",
       "    }\n",
       "</style>\n",
       "<table border=\"1\" class=\"dataframe\">\n",
       "  <thead>\n",
       "    <tr style=\"text-align: right;\">\n",
       "      <th></th>\n",
       "      <th>Words</th>\n",
       "      <th>valence</th>\n",
       "      <th>arousal</th>\n",
       "      <th>dominance</th>\n",
       "    </tr>\n",
       "  </thead>\n",
       "  <tbody>\n",
       "    <tr>\n",
       "      <th>108</th>\n",
       "      <td>dead</td>\n",
       "      <td>0.052</td>\n",
       "      <td>0.454</td>\n",
       "      <td>0.194</td>\n",
       "    </tr>\n",
       "    <tr>\n",
       "      <th>167</th>\n",
       "      <td>rape</td>\n",
       "      <td>0.062</td>\n",
       "      <td>0.856</td>\n",
       "      <td>0.527</td>\n",
       "    </tr>\n",
       "    <tr>\n",
       "      <th>158</th>\n",
       "      <td>rapist</td>\n",
       "      <td>0.062</td>\n",
       "      <td>0.906</td>\n",
       "      <td>0.571</td>\n",
       "    </tr>\n",
       "    <tr>\n",
       "      <th>104</th>\n",
       "      <td>badly</td>\n",
       "      <td>0.073</td>\n",
       "      <td>0.509</td>\n",
       "      <td>0.286</td>\n",
       "    </tr>\n",
       "    <tr>\n",
       "      <th>194</th>\n",
       "      <td>falsely</td>\n",
       "      <td>0.083</td>\n",
       "      <td>0.480</td>\n",
       "      <td>0.265</td>\n",
       "    </tr>\n",
       "  </tbody>\n",
       "</table>\n",
       "</div>"
      ],
      "text/plain": [
       "       Words  valence  arousal  dominance\n",
       "108     dead    0.052    0.454      0.194\n",
       "167     rape    0.062    0.856      0.527\n",
       "158   rapist    0.062    0.906      0.571\n",
       "104    badly    0.073    0.509      0.286\n",
       "194  falsely    0.083    0.480      0.265"
      ]
     },
     "execution_count": 18,
     "metadata": {},
     "output_type": "execute_result"
    }
   ],
   "source": [
    "df_NRC_woman.sort_values(\"valence\").head()"
   ]
  },
  {
   "cell_type": "code",
   "execution_count": 19,
   "metadata": {},
   "outputs": [
    {
     "data": {
      "text/html": [
       "<div>\n",
       "<style scoped>\n",
       "    .dataframe tbody tr th:only-of-type {\n",
       "        vertical-align: middle;\n",
       "    }\n",
       "\n",
       "    .dataframe tbody tr th {\n",
       "        vertical-align: top;\n",
       "    }\n",
       "\n",
       "    .dataframe thead th {\n",
       "        text-align: right;\n",
       "    }\n",
       "</style>\n",
       "<table border=\"1\" class=\"dataframe\">\n",
       "  <thead>\n",
       "    <tr style=\"text-align: right;\">\n",
       "      <th></th>\n",
       "      <th>Words</th>\n",
       "      <th>valence</th>\n",
       "      <th>arousal</th>\n",
       "      <th>dominance</th>\n",
       "    </tr>\n",
       "  </thead>\n",
       "  <tbody>\n",
       "    <tr>\n",
       "      <th>113</th>\n",
       "      <td>threaten</td>\n",
       "      <td>0.104</td>\n",
       "      <td>0.958</td>\n",
       "      <td>0.590</td>\n",
       "    </tr>\n",
       "    <tr>\n",
       "      <th>158</th>\n",
       "      <td>rapist</td>\n",
       "      <td>0.062</td>\n",
       "      <td>0.906</td>\n",
       "      <td>0.571</td>\n",
       "    </tr>\n",
       "    <tr>\n",
       "      <th>169</th>\n",
       "      <td>troublemaker</td>\n",
       "      <td>0.260</td>\n",
       "      <td>0.900</td>\n",
       "      <td>0.596</td>\n",
       "    </tr>\n",
       "    <tr>\n",
       "      <th>167</th>\n",
       "      <td>rape</td>\n",
       "      <td>0.062</td>\n",
       "      <td>0.856</td>\n",
       "      <td>0.527</td>\n",
       "    </tr>\n",
       "    <tr>\n",
       "      <th>83</th>\n",
       "      <td>stripper</td>\n",
       "      <td>0.625</td>\n",
       "      <td>0.848</td>\n",
       "      <td>0.453</td>\n",
       "    </tr>\n",
       "  </tbody>\n",
       "</table>\n",
       "</div>"
      ],
      "text/plain": [
       "            Words  valence  arousal  dominance\n",
       "113      threaten    0.104    0.958      0.590\n",
       "158        rapist    0.062    0.906      0.571\n",
       "169  troublemaker    0.260    0.900      0.596\n",
       "167          rape    0.062    0.856      0.527\n",
       "83       stripper    0.625    0.848      0.453"
      ]
     },
     "execution_count": 19,
     "metadata": {},
     "output_type": "execute_result"
    }
   ],
   "source": [
    "df_NRC_woman.sort_values(\"arousal\", ascending=False).head()"
   ]
  },
  {
   "cell_type": "code",
   "execution_count": 20,
   "metadata": {},
   "outputs": [
    {
     "data": {
      "text/html": [
       "<div>\n",
       "<style scoped>\n",
       "    .dataframe tbody tr th:only-of-type {\n",
       "        vertical-align: middle;\n",
       "    }\n",
       "\n",
       "    .dataframe tbody tr th {\n",
       "        vertical-align: top;\n",
       "    }\n",
       "\n",
       "    .dataframe thead th {\n",
       "        text-align: right;\n",
       "    }\n",
       "</style>\n",
       "<table border=\"1\" class=\"dataframe\">\n",
       "  <thead>\n",
       "    <tr style=\"text-align: right;\">\n",
       "      <th></th>\n",
       "      <th>Words</th>\n",
       "      <th>valence</th>\n",
       "      <th>arousal</th>\n",
       "      <th>dominance</th>\n",
       "    </tr>\n",
       "  </thead>\n",
       "  <tbody>\n",
       "    <tr>\n",
       "      <th>142</th>\n",
       "      <td>president</td>\n",
       "      <td>0.677</td>\n",
       "      <td>0.622</td>\n",
       "      <td>0.973</td>\n",
       "    </tr>\n",
       "    <tr>\n",
       "      <th>180</th>\n",
       "      <td>chairman</td>\n",
       "      <td>0.656</td>\n",
       "      <td>0.567</td>\n",
       "      <td>0.933</td>\n",
       "    </tr>\n",
       "    <tr>\n",
       "      <th>47</th>\n",
       "      <td>force</td>\n",
       "      <td>0.612</td>\n",
       "      <td>0.750</td>\n",
       "      <td>0.905</td>\n",
       "    </tr>\n",
       "    <tr>\n",
       "      <th>120</th>\n",
       "      <td>trump</td>\n",
       "      <td>0.640</td>\n",
       "      <td>0.716</td>\n",
       "      <td>0.898</td>\n",
       "    </tr>\n",
       "    <tr>\n",
       "      <th>128</th>\n",
       "      <td>congressman</td>\n",
       "      <td>0.438</td>\n",
       "      <td>0.471</td>\n",
       "      <td>0.877</td>\n",
       "    </tr>\n",
       "  </tbody>\n",
       "</table>\n",
       "</div>"
      ],
      "text/plain": [
       "           Words  valence  arousal  dominance\n",
       "142    president    0.677    0.622      0.973\n",
       "180     chairman    0.656    0.567      0.933\n",
       "47         force    0.612    0.750      0.905\n",
       "120        trump    0.640    0.716      0.898\n",
       "128  congressman    0.438    0.471      0.877"
      ]
     },
     "execution_count": 20,
     "metadata": {},
     "output_type": "execute_result"
    }
   ],
   "source": [
    "df_NRC_woman.sort_values(\"dominance\", ascending=False).head()"
   ]
  },
  {
   "cell_type": "code",
   "execution_count": 21,
   "metadata": {},
   "outputs": [
    {
     "name": "stdout",
     "output_type": "stream",
     "text": [
      "0.04855743256687478 0.027339498705649473 0.0339907167656464\n"
     ]
    }
   ],
   "source": [
    "print(df_NRC_man[\"valence\"].var(),df_NRC_man[\"arousal\"].var(),df_NRC_man[\"dominance\"].var() )"
   ]
  },
  {
   "cell_type": "code",
   "execution_count": 22,
   "metadata": {},
   "outputs": [
    {
     "name": "stdout",
     "output_type": "stream",
     "text": [
      "0.04133616258793971 0.024443896582914567 0.02559023708542713\n"
     ]
    }
   ],
   "source": [
    "print(df_NRC_woman[\"valence\"].var(),df_NRC_woman[\"arousal\"].var(),df_NRC_woman[\"dominance\"].var() )"
   ]
  },
  {
   "cell_type": "code",
   "execution_count": 23,
   "metadata": {},
   "outputs": [],
   "source": [
    "def check_normal_dist(df,subject, gender):\n",
    "    import scipy.stats as stats\n",
    "    import numpy as np\n",
    "    import matplotlib.pyplot as plt\n",
    "    %matplotlib inline\n",
    "    from scipy import stats\n",
    "\n",
    "    z =  (df[\"valence\"]- np.mean(df[subject]))/np.std(df[subject])\n",
    "    stats.probplot(z, dist=\"norm\", plot=plt)\n",
    "    plt.title(f\"Normal Q-Q plot ({gender})\")\n",
    "    plt.show()\n",
    "\n",
    "    print(\"kolmogorv\", stats.kstest(df[subject],\n",
    "               stats.norm.cdf))"
   ]
  },
  {
   "cell_type": "code",
   "execution_count": 24,
   "metadata": {},
   "outputs": [
    {
     "name": "stderr",
     "output_type": "stream",
     "text": [
      "\n",
      "Bad key figure.labelsize in file C:\\Users\\Andreas\\anaconda3\\lib\\site-packages\\matplotlib\\mpl-data\\stylelib\\classic (2).mplstyle, line 310 ('figure.labelsize:   medium    # size of the figure label')\n",
      "You probably need to get an updated matplotlibrc file from\n",
      "https://github.com/matplotlib/matplotlib/blob/v3.5.3/matplotlibrc.template\n",
      "or from the matplotlib source distribution\n",
      "\n",
      "Bad key figure.labelweight in file C:\\Users\\Andreas\\anaconda3\\lib\\site-packages\\matplotlib\\mpl-data\\stylelib\\classic (2).mplstyle, line 311 ('figure.labelweight: normal    # weight of the figure label')\n",
      "You probably need to get an updated matplotlibrc file from\n",
      "https://github.com/matplotlib/matplotlib/blob/v3.5.3/matplotlibrc.template\n",
      "or from the matplotlib source distribution\n"
     ]
    },
    {
     "data": {
      "image/png": "[encoded data removed]",
      "text/plain": [
       "<Figure size 432x288 with 1 Axes>"
      ]
     },
     "metadata": {
      "needs_background": "light"
     },
     "output_type": "display_data"
    },
    {
     "name": "stdout",
     "output_type": "stream",
     "text": [
      "kolmogorv KstestResult(statistic=0.5723855163232511, pvalue=1.5354951696820035e-62)\n"
     ]
    }
   ],
   "source": [
    "check_normal_dist(df_NRC_woman, \"arousal\", \"woman\")"
   ]
  },
  {
   "cell_type": "code",
   "execution_count": 25,
   "metadata": {},
   "outputs": [
    {
     "data": {
      "image/png": "[encoded data removed]",
      "text/plain": [
       "<Figure size 432x288 with 1 Axes>"
      ]
     },
     "metadata": {
      "needs_background": "light"
     },
     "output_type": "display_data"
    },
    {
     "name": "stdout",
     "output_type": "stream",
     "text": [
      "kolmogorv KstestResult(statistic=0.5634558618098905, pvalue=3.937135715853034e-60)\n"
     ]
    }
   ],
   "source": [
    "check_normal_dist(df_NRC_man, \"arousal\",\"man\")"
   ]
  },
  {
   "cell_type": "code",
   "execution_count": null,
   "metadata": {},
   "outputs": [],
   "source": []
  },
  {
   "cell_type": "code",
   "execution_count": 26,
   "metadata": {},
   "outputs": [],
   "source": [
    "def apply_ttest_ind(df_1,df_2,score_type):\n",
    "    from scipy.stats import ttest_ind\n",
    "    import math\n",
    "    import statistics\n",
    "  \n",
    "    stat, p = ttest_ind(df_1[score_type].tolist(),df_2[score_type].tolist(), nan_policy=\"omit\", alternative=\"two-sided\",equal_var=False )#, equal_var=False)\n",
    "    alpha = 0.05\n",
    "    print(\"Statistics=%3f, p=%.3f\" % (stat, p))\n",
    "    if p < alpha:\n",
    "        print(\"Different distributions (reject H0)\")\n",
    "    else:\n",
    "        print(\"Same distribution (fail to reject H0)\")\n",
    "    if p < alpha:\n",
    "        d = (df_1[score_type].mean() - df_2[score_type].mean())/math.sqrt(((df_1[score_type].var() + df_2[score_type].var())/2))\n",
    "                print(d, \"Cohens D\")\n",
    "    print(len(df_1), len(df_2))"
   ]
  },
  {
   "cell_type": "code",
   "execution_count": 27,
   "metadata": {},
   "outputs": [
    {
     "name": "stdout",
     "output_type": "stream",
     "text": [
      "welsh\n",
      "Statistics=-0.708838, p=0.479\n",
      "Same distribution (fail to reject H0)\n",
      "200 199\n",
      "welsh\n",
      "Statistics=0.961290, p=0.337\n",
      "Same distribution (fail to reject H0)\n",
      "200 199\n",
      "welsh\n",
      "Statistics=-1.312720, p=0.190\n",
      "Same distribution (fail to reject H0)\n",
      "200 199\n"
     ]
    }
   ],
   "source": [
    "apply_ttest_ind(df_NRC_woman, df_NRC_man,\"arousal\")\n",
    "apply_ttest_ind(df_NRC_woman, df_NRC_man,\"valence\")\n",
    "apply_ttest_ind(df_NRC_woman, df_NRC_man,\"dominance\")"
   ]
  },
  {
   "cell_type": "code",
   "execution_count": 28,
   "metadata": {},
   "outputs": [
    {
     "name": "stdout",
     "output_type": "stream",
     "text": [
      "0.5584773869346735 0.4911909547738694 0.5529798994974874\n",
      "0.578885 0.47977000000000003 0.5302899999999999\n"
     ]
    }
   ],
   "source": [
    "print(df_NRC_man[\"valence\"].mean(),df_NRC_man[\"arousal\"].mean(),df_NRC_man[\"dominance\"].mean() )\n",
    "print(df_NRC_woman[\"valence\"].mean(),df_NRC_woman[\"arousal\"].mean(),df_NRC_woman[\"dominance\"].mean() )"
   ]
  },
  {
   "cell_type": "code",
   "execution_count": null,
   "metadata": {},
   "outputs": [],
   "source": []
  },
  {
   "cell_type": "code",
   "execution_count": null,
   "metadata": {},
   "outputs": [],
   "source": []
  }
 ],
 "metadata": {
  "kernelspec": {
   "display_name": "myenv",
   "language": "python",
   "name": "myenv"
  },
  "language_info": {
   "codemirror_mode": {
    "name": "ipython",
    "version": 3
   },
   "file_extension": ".py",
   "mimetype": "text/x-python",
   "name": "python",
   "nbconvert_exporter": "python",
   "pygments_lexer": "ipython3",
   "version": "3.8.5"
  }
 },
 "nbformat": 4,
 "nbformat_minor": 4
}
