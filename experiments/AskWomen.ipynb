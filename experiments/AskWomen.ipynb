{
 "cells": [
  {
   "cell_type": "code",
   "execution_count": 1,
   "metadata": {},
   "outputs": [
    {
     "name": "stderr",
     "output_type": "stream",
     "text": [
      "C:\\Users\\Andreas\\anaconda3\\lib\\site-packages\\numpy\\_distributor_init.py:30: UserWarning: loaded more than 1 DLL from .libs:\n",
      "C:\\Users\\Andreas\\anaconda3\\lib\\site-packages\\numpy\\.libs\\libopenblas.FB5AE2TYXYH2IJRDKGDGQ3XBKLKTF43H.gfortran-win_amd64.dll\n",
      "C:\\Users\\Andreas\\anaconda3\\lib\\site-packages\\numpy\\.libs\\libopenblas.noijjg62emaszi6nyurl6jbkm4evbgm7.gfortran-win_amd64.dll\n",
      "C:\\Users\\Andreas\\anaconda3\\lib\\site-packages\\numpy\\.libs\\libopenblas.PYQHXLVVQ7VESDPUVUADXEVJOBGHJPAY.gfortran-win_amd64.dll\n",
      "  warnings.warn(\"loaded more than 1 DLL from .libs:\"\n"
     ]
    }
   ],
   "source": [
    "import pandas as pd\n",
    "from gensim.models import FastText"
   ]
  },
  {
   "cell_type": "code",
   "execution_count": 2,
   "metadata": {},
   "outputs": [],
   "source": [
    "df = pd.read_hdf(\"../datasets/AskWomen.h5\", key=\"AskWomen\")"
   ]
  },
  {
   "cell_type": "code",
   "execution_count": 3,
   "metadata": {},
   "outputs": [],
   "source": [
    "model_sent = FastText.load(\"../models/subreddit_level/fasttext_AskWomen_senti.bin\")"
   ]
  },
  {
   "cell_type": "code",
   "execution_count": 4,
   "metadata": {},
   "outputs": [],
   "source": [
    "NRC = pd.read_csv('../datasets/NRC-VAD-Lexicon.txt', sep=\"\\t\", header=None, names=[\"Words\", \"valence\", \"arousal\", \"dominance\"])"
   ]
  },
  {
   "cell_type": "code",
   "execution_count": 5,
   "metadata": {},
   "outputs": [],
   "source": [
    "token_list = df[\"token_list\"].tolist()\n",
    "flatlist = [item for sublist in token_list for item in sublist]"
   ]
  },
  {
   "cell_type": "code",
   "execution_count": 6,
   "metadata": {},
   "outputs": [],
   "source": [
    "def identify_weigths(flat_list):\n",
    "    from collections import Counter\n",
    "    female=[\"sister\" , \"female\" , \"woman\" , \"girl\" , \"daughter\" , \"she\" , \"hers\" , \"her\"]\n",
    "    male=[\"brother\" , \"male\" , \"man\" , \"boy\" , \"son\" , \"he\" , \"his\" , \"him\"] \n",
    "\n",
    "    tokens = [item for sublist in flat_list for item in sublist]\n",
    "    term_list_woman = []\n",
    "    for i in tokens:\n",
    "        if i in female:\n",
    "            term_list_woman.append(i)\n",
    "    counter = Counter(term_list_woman)\n",
    "    \n",
    "    liste_woman = []\n",
    "    weights = []\n",
    "    \n",
    "    for i in counter:\n",
    "        if counter[i] > 100:\n",
    "            liste_woman.append(i)\n",
    "            weights.append(counter[i])\n",
    "            \n",
    "    term_list_man = []\n",
    "    for i in tokens:\n",
    "        if i in male:\n",
    "            term_list_man.append(i)\n",
    "    counter = Counter(term_list_man)\n",
    "    \n",
    "    liste_man = []\n",
    "    weights_man = []\n",
    "    \n",
    "    for i in counter:\n",
    "        if counter[i] > 100:\n",
    "            liste_man.append(i)\n",
    "            weights_man.append(counter[i])\n",
    "    \n",
    "    return [liste_woman, weights], [liste_man, weights_man] "
   ]
  },
  {
   "cell_type": "code",
   "execution_count": 7,
   "metadata": {},
   "outputs": [],
   "source": [
    "# Calculate frequencies for the male and female terms\n",
    "\n",
    "woman_terms_freq, man_terms_freq = identify_weigths(flatlist)"
   ]
  },
  {
   "cell_type": "code",
   "execution_count": 8,
   "metadata": {},
   "outputs": [
    {
     "data": {
      "text/plain": [
       "([['she', 'woman', 'girl', 'sister', 'her', 'daughter', 'female', 'hers'],\n",
       "  [63939, 33007, 12132, 3874, 17749, 3154, 3394, 153]],\n",
       " [['he', 'his', 'man', 'son', 'male', 'brother', 'boy'],\n",
       "  [121307, 26559, 25425, 2730, 3546, 3251, 3432]])"
      ]
     },
     "execution_count": 8,
     "metadata": {},
     "output_type": "execute_result"
    }
   ],
   "source": [
    "woman_terms_freq, man_terms_freq"
   ]
  },
  {
   "cell_type": "code",
   "execution_count": 9,
   "metadata": {},
   "outputs": [],
   "source": [
    "def calculate_centroid_vectors(woman_terms_freq, man_terms_freq, model, NRC, n_words):\n",
    "    import numpy as np\n",
    "    word_vectors = model.wv\n",
    "    centroid_woman = np.ma.average([word_vectors[w] for w in woman_terms_freq[0]], weights= woman_terms_freq[1] ,axis=0)\n",
    "\n",
    "    vector_woman = word_vectors.similar_by_vector(centroid_woman,topn=n_words)\n",
    "    \n",
    "    liste_woman = []\n",
    "    for i in vector_woman:\n",
    "        liste_woman.append(i[0])\n",
    "    \n",
    "    print(\"Top 10 (woman)\", liste_woman[:10])\n",
    "    \n",
    "    intersection_woman = list(set(liste_woman) & set(NRC[\"Words\"]))\n",
    "    \n",
    "    intersection_woman_ordererd = []\n",
    "    for i in vector_woman:\n",
    "        if i[0] in intersection_woman:\n",
    "            intersection_woman_ordererd.append(i[0])\n",
    "    \n",
    "    df_intersection_woman = pd.DataFrame(intersection_woman_ordererd, columns=[\"Words\"])\n",
    "    df_intersection_woman = df_intersection_woman.merge(NRC, how=\"left\", left_on=\"Words\", right_on=\"Words\")\n",
    "    \n",
    "    \n",
    "    \n",
    "    centroid_man = np.ma.average([word_vectors[w] for w in man_terms_freq[0]], weights= man_terms_freq[1] ,axis=0)\n",
    "\n",
    "    vector_man = word_vectors.similar_by_vector(centroid_man,topn=n_words)\n",
    "    \n",
    "    \n",
    "    liste_man = []\n",
    "    for i in vector_man:\n",
    "        liste_man.append(i[0])\n",
    "    \n",
    "    print(\"Top 10 (man)\", liste_man[:10])\n",
    "    \n",
    "    intersection_man = list(set(liste_man) & set(NRC[\"Words\"]))\n",
    "    \n",
    "    intersection_man_ordererd = []\n",
    "    for i in vector_man:\n",
    "        if i[0] in intersection_man:\n",
    "            intersection_man_ordererd.append(i[0])\n",
    "    \n",
    "    df_intersection_man = pd.DataFrame(intersection_man_ordererd, columns=[\"Words\"])\n",
    "    df_intersection_man = df_intersection_man.merge(NRC, how=\"left\", left_on=\"Words\", right_on=\"Words\")\n",
    "    \n",
    "    \n",
    "    return df_intersection_woman, df_intersection_man, liste_woman, liste_man"
   ]
  },
  {
   "cell_type": "code",
   "execution_count": 10,
   "metadata": {},
   "outputs": [
    {
     "name": "stdout",
     "output_type": "stream",
     "text": [
      "Top 10 (woman) ['she', 'her', 'girl', 'lady', 'daughter', 'herself', 'sister', 'mum', 'mother', 'mom']\n",
      "Top 10 (man) ['he', 'his', 'boyfriend', 'himself', 'bf', 'guy', 'girlfriend', 'ex', 'husband', 'proceed']\n"
     ]
    }
   ],
   "source": [
    "# Calculate the weighted centroid vectors\n",
    "\n",
    "df_NRC_woman , df_NRC_man , liste_woman, liste_man= calculate_centroid_vectors(woman_terms_freq, man_terms_freq, model_sent, NRC, 500)"
   ]
  },
  {
   "cell_type": "markdown",
   "metadata": {},
   "source": [
    "# Top 5 terms with the most sentiment for the female and male centroid vectors"
   ]
  },
  {
   "cell_type": "code",
   "execution_count": 11,
   "metadata": {},
   "outputs": [
    {
     "data": {
      "text/html": [
       "<div>\n",
       "<style scoped>\n",
       "    .dataframe tbody tr th:only-of-type {\n",
       "        vertical-align: middle;\n",
       "    }\n",
       "\n",
       "    .dataframe tbody tr th {\n",
       "        vertical-align: top;\n",
       "    }\n",
       "\n",
       "    .dataframe thead th {\n",
       "        text-align: right;\n",
       "    }\n",
       "</style>\n",
       "<table border=\"1\" class=\"dataframe\">\n",
       "  <thead>\n",
       "    <tr style=\"text-align: right;\">\n",
       "      <th></th>\n",
       "      <th>Words</th>\n",
       "      <th>valence</th>\n",
       "      <th>arousal</th>\n",
       "      <th>dominance</th>\n",
       "    </tr>\n",
       "  </thead>\n",
       "  <tbody>\n",
       "    <tr>\n",
       "      <th>203</th>\n",
       "      <td>unfaithful</td>\n",
       "      <td>0.031</td>\n",
       "      <td>0.806</td>\n",
       "      <td>0.298</td>\n",
       "    </tr>\n",
       "    <tr>\n",
       "      <th>221</th>\n",
       "      <td>disgusted</td>\n",
       "      <td>0.051</td>\n",
       "      <td>0.773</td>\n",
       "      <td>0.274</td>\n",
       "    </tr>\n",
       "    <tr>\n",
       "      <th>134</th>\n",
       "      <td>freak</td>\n",
       "      <td>0.052</td>\n",
       "      <td>0.839</td>\n",
       "      <td>0.464</td>\n",
       "    </tr>\n",
       "    <tr>\n",
       "      <th>190</th>\n",
       "      <td>reject</td>\n",
       "      <td>0.060</td>\n",
       "      <td>0.647</td>\n",
       "      <td>0.370</td>\n",
       "    </tr>\n",
       "    <tr>\n",
       "      <th>238</th>\n",
       "      <td>furious</td>\n",
       "      <td>0.062</td>\n",
       "      <td>0.953</td>\n",
       "      <td>0.598</td>\n",
       "    </tr>\n",
       "  </tbody>\n",
       "</table>\n",
       "</div>"
      ],
      "text/plain": [
       "          Words  valence  arousal  dominance\n",
       "203  unfaithful    0.031    0.806      0.298\n",
       "221   disgusted    0.051    0.773      0.274\n",
       "134       freak    0.052    0.839      0.464\n",
       "190      reject    0.060    0.647      0.370\n",
       "238     furious    0.062    0.953      0.598"
      ]
     },
     "execution_count": 11,
     "metadata": {},
     "output_type": "execute_result"
    }
   ],
   "source": [
    "df_NRC_man.sort_values(\"valence\").head()"
   ]
  },
  {
   "cell_type": "code",
   "execution_count": 12,
   "metadata": {},
   "outputs": [
    {
     "data": {
      "text/html": [
       "<div>\n",
       "<style scoped>\n",
       "    .dataframe tbody tr th:only-of-type {\n",
       "        vertical-align: middle;\n",
       "    }\n",
       "\n",
       "    .dataframe tbody tr th {\n",
       "        vertical-align: top;\n",
       "    }\n",
       "\n",
       "    .dataframe thead th {\n",
       "        text-align: right;\n",
       "    }\n",
       "</style>\n",
       "<table border=\"1\" class=\"dataframe\">\n",
       "  <thead>\n",
       "    <tr style=\"text-align: right;\">\n",
       "      <th></th>\n",
       "      <th>Words</th>\n",
       "      <th>valence</th>\n",
       "      <th>arousal</th>\n",
       "      <th>dominance</th>\n",
       "    </tr>\n",
       "  </thead>\n",
       "  <tbody>\n",
       "    <tr>\n",
       "      <th>166</th>\n",
       "      <td>threaten</td>\n",
       "      <td>0.104</td>\n",
       "      <td>0.958</td>\n",
       "      <td>0.590</td>\n",
       "    </tr>\n",
       "    <tr>\n",
       "      <th>238</th>\n",
       "      <td>furious</td>\n",
       "      <td>0.062</td>\n",
       "      <td>0.953</td>\n",
       "      <td>0.598</td>\n",
       "    </tr>\n",
       "    <tr>\n",
       "      <th>209</th>\n",
       "      <td>strangle</td>\n",
       "      <td>0.094</td>\n",
       "      <td>0.927</td>\n",
       "      <td>0.527</td>\n",
       "    </tr>\n",
       "    <tr>\n",
       "      <th>160</th>\n",
       "      <td>fiend</td>\n",
       "      <td>0.146</td>\n",
       "      <td>0.903</td>\n",
       "      <td>0.608</td>\n",
       "    </tr>\n",
       "    <tr>\n",
       "      <th>148</th>\n",
       "      <td>distraught</td>\n",
       "      <td>0.115</td>\n",
       "      <td>0.903</td>\n",
       "      <td>0.264</td>\n",
       "    </tr>\n",
       "  </tbody>\n",
       "</table>\n",
       "</div>"
      ],
      "text/plain": [
       "          Words  valence  arousal  dominance\n",
       "166    threaten    0.104    0.958      0.590\n",
       "238     furious    0.062    0.953      0.598\n",
       "209    strangle    0.094    0.927      0.527\n",
       "160       fiend    0.146    0.903      0.608\n",
       "148  distraught    0.115    0.903      0.264"
      ]
     },
     "execution_count": 12,
     "metadata": {},
     "output_type": "execute_result"
    }
   ],
   "source": [
    "df_NRC_man.sort_values(\"arousal\", ascending=False).head()"
   ]
  },
  {
   "cell_type": "code",
   "execution_count": 13,
   "metadata": {},
   "outputs": [
    {
     "data": {
      "text/html": [
       "<div>\n",
       "<style scoped>\n",
       "    .dataframe tbody tr th:only-of-type {\n",
       "        vertical-align: middle;\n",
       "    }\n",
       "\n",
       "    .dataframe tbody tr th {\n",
       "        vertical-align: top;\n",
       "    }\n",
       "\n",
       "    .dataframe thead th {\n",
       "        text-align: right;\n",
       "    }\n",
       "</style>\n",
       "<table border=\"1\" class=\"dataframe\">\n",
       "  <thead>\n",
       "    <tr style=\"text-align: right;\">\n",
       "      <th></th>\n",
       "      <th>Words</th>\n",
       "      <th>valence</th>\n",
       "      <th>arousal</th>\n",
       "      <th>dominance</th>\n",
       "    </tr>\n",
       "  </thead>\n",
       "  <tbody>\n",
       "    <tr>\n",
       "      <th>81</th>\n",
       "      <td>audacity</td>\n",
       "      <td>0.760</td>\n",
       "      <td>0.755</td>\n",
       "      <td>0.916</td>\n",
       "    </tr>\n",
       "    <tr>\n",
       "      <th>284</th>\n",
       "      <td>convincing</td>\n",
       "      <td>0.760</td>\n",
       "      <td>0.527</td>\n",
       "      <td>0.900</td>\n",
       "    </tr>\n",
       "    <tr>\n",
       "      <th>277</th>\n",
       "      <td>controlling</td>\n",
       "      <td>0.490</td>\n",
       "      <td>0.441</td>\n",
       "      <td>0.885</td>\n",
       "    </tr>\n",
       "    <tr>\n",
       "      <th>158</th>\n",
       "      <td>decide</td>\n",
       "      <td>0.656</td>\n",
       "      <td>0.540</td>\n",
       "      <td>0.855</td>\n",
       "    </tr>\n",
       "    <tr>\n",
       "      <th>232</th>\n",
       "      <td>ultimatum</td>\n",
       "      <td>0.219</td>\n",
       "      <td>0.855</td>\n",
       "      <td>0.837</td>\n",
       "    </tr>\n",
       "  </tbody>\n",
       "</table>\n",
       "</div>"
      ],
      "text/plain": [
       "           Words  valence  arousal  dominance\n",
       "81      audacity    0.760    0.755      0.916\n",
       "284   convincing    0.760    0.527      0.900\n",
       "277  controlling    0.490    0.441      0.885\n",
       "158       decide    0.656    0.540      0.855\n",
       "232    ultimatum    0.219    0.855      0.837"
      ]
     },
     "execution_count": 13,
     "metadata": {},
     "output_type": "execute_result"
    }
   ],
   "source": [
    "df_NRC_man.sort_values(\"dominance\", ascending=False).head()"
   ]
  },
  {
   "cell_type": "code",
   "execution_count": 14,
   "metadata": {},
   "outputs": [
    {
     "data": {
      "text/html": [
       "<div>\n",
       "<style scoped>\n",
       "    .dataframe tbody tr th:only-of-type {\n",
       "        vertical-align: middle;\n",
       "    }\n",
       "\n",
       "    .dataframe tbody tr th {\n",
       "        vertical-align: top;\n",
       "    }\n",
       "\n",
       "    .dataframe thead th {\n",
       "        text-align: right;\n",
       "    }\n",
       "</style>\n",
       "<table border=\"1\" class=\"dataframe\">\n",
       "  <thead>\n",
       "    <tr style=\"text-align: right;\">\n",
       "      <th></th>\n",
       "      <th>Words</th>\n",
       "      <th>valence</th>\n",
       "      <th>arousal</th>\n",
       "      <th>dominance</th>\n",
       "    </tr>\n",
       "  </thead>\n",
       "  <tbody>\n",
       "    <tr>\n",
       "      <th>67</th>\n",
       "      <td>afraid</td>\n",
       "      <td>0.010</td>\n",
       "      <td>0.775</td>\n",
       "      <td>0.245</td>\n",
       "    </tr>\n",
       "    <tr>\n",
       "      <th>167</th>\n",
       "      <td>devastate</td>\n",
       "      <td>0.021</td>\n",
       "      <td>0.796</td>\n",
       "      <td>0.509</td>\n",
       "    </tr>\n",
       "    <tr>\n",
       "      <th>158</th>\n",
       "      <td>horrified</td>\n",
       "      <td>0.040</td>\n",
       "      <td>0.885</td>\n",
       "      <td>0.368</td>\n",
       "    </tr>\n",
       "    <tr>\n",
       "      <th>90</th>\n",
       "      <td>hijack</td>\n",
       "      <td>0.042</td>\n",
       "      <td>0.908</td>\n",
       "      <td>0.594</td>\n",
       "    </tr>\n",
       "    <tr>\n",
       "      <th>178</th>\n",
       "      <td>wrong</td>\n",
       "      <td>0.042</td>\n",
       "      <td>0.582</td>\n",
       "      <td>0.480</td>\n",
       "    </tr>\n",
       "  </tbody>\n",
       "</table>\n",
       "</div>"
      ],
      "text/plain": [
       "         Words  valence  arousal  dominance\n",
       "67      afraid    0.010    0.775      0.245\n",
       "167  devastate    0.021    0.796      0.509\n",
       "158  horrified    0.040    0.885      0.368\n",
       "90      hijack    0.042    0.908      0.594\n",
       "178      wrong    0.042    0.582      0.480"
      ]
     },
     "execution_count": 14,
     "metadata": {},
     "output_type": "execute_result"
    }
   ],
   "source": [
    "df_NRC_woman.sort_values(\"valence\").head()"
   ]
  },
  {
   "cell_type": "code",
   "execution_count": 15,
   "metadata": {},
   "outputs": [
    {
     "data": {
      "text/html": [
       "<div>\n",
       "<style scoped>\n",
       "    .dataframe tbody tr th:only-of-type {\n",
       "        vertical-align: middle;\n",
       "    }\n",
       "\n",
       "    .dataframe tbody tr th {\n",
       "        vertical-align: top;\n",
       "    }\n",
       "\n",
       "    .dataframe thead th {\n",
       "        text-align: right;\n",
       "    }\n",
       "</style>\n",
       "<table border=\"1\" class=\"dataframe\">\n",
       "  <thead>\n",
       "    <tr style=\"text-align: right;\">\n",
       "      <th></th>\n",
       "      <th>Words</th>\n",
       "      <th>valence</th>\n",
       "      <th>arousal</th>\n",
       "      <th>dominance</th>\n",
       "    </tr>\n",
       "  </thead>\n",
       "  <tbody>\n",
       "    <tr>\n",
       "      <th>126</th>\n",
       "      <td>bombard</td>\n",
       "      <td>0.156</td>\n",
       "      <td>0.961</td>\n",
       "      <td>0.777</td>\n",
       "    </tr>\n",
       "    <tr>\n",
       "      <th>180</th>\n",
       "      <td>furiously</td>\n",
       "      <td>0.062</td>\n",
       "      <td>0.925</td>\n",
       "      <td>0.657</td>\n",
       "    </tr>\n",
       "    <tr>\n",
       "      <th>90</th>\n",
       "      <td>hijack</td>\n",
       "      <td>0.042</td>\n",
       "      <td>0.908</td>\n",
       "      <td>0.594</td>\n",
       "    </tr>\n",
       "    <tr>\n",
       "      <th>73</th>\n",
       "      <td>distraught</td>\n",
       "      <td>0.115</td>\n",
       "      <td>0.903</td>\n",
       "      <td>0.264</td>\n",
       "    </tr>\n",
       "    <tr>\n",
       "      <th>10</th>\n",
       "      <td>fiend</td>\n",
       "      <td>0.146</td>\n",
       "      <td>0.903</td>\n",
       "      <td>0.608</td>\n",
       "    </tr>\n",
       "  </tbody>\n",
       "</table>\n",
       "</div>"
      ],
      "text/plain": [
       "          Words  valence  arousal  dominance\n",
       "126     bombard    0.156    0.961      0.777\n",
       "180   furiously    0.062    0.925      0.657\n",
       "90       hijack    0.042    0.908      0.594\n",
       "73   distraught    0.115    0.903      0.264\n",
       "10        fiend    0.146    0.903      0.608"
      ]
     },
     "execution_count": 15,
     "metadata": {},
     "output_type": "execute_result"
    }
   ],
   "source": [
    "df_NRC_woman.sort_values(\"arousal\", ascending=False).head()"
   ]
  },
  {
   "cell_type": "code",
   "execution_count": 16,
   "metadata": {},
   "outputs": [
    {
     "data": {
      "text/html": [
       "<div>\n",
       "<style scoped>\n",
       "    .dataframe tbody tr th:only-of-type {\n",
       "        vertical-align: middle;\n",
       "    }\n",
       "\n",
       "    .dataframe tbody tr th {\n",
       "        vertical-align: top;\n",
       "    }\n",
       "\n",
       "    .dataframe thead th {\n",
       "        text-align: right;\n",
       "    }\n",
       "</style>\n",
       "<table border=\"1\" class=\"dataframe\">\n",
       "  <thead>\n",
       "    <tr style=\"text-align: right;\">\n",
       "      <th></th>\n",
       "      <th>Words</th>\n",
       "      <th>valence</th>\n",
       "      <th>arousal</th>\n",
       "      <th>dominance</th>\n",
       "    </tr>\n",
       "  </thead>\n",
       "  <tbody>\n",
       "    <tr>\n",
       "      <th>267</th>\n",
       "      <td>boss</td>\n",
       "      <td>0.310</td>\n",
       "      <td>0.627</td>\n",
       "      <td>0.954</td>\n",
       "    </tr>\n",
       "    <tr>\n",
       "      <th>69</th>\n",
       "      <td>audacity</td>\n",
       "      <td>0.760</td>\n",
       "      <td>0.755</td>\n",
       "      <td>0.916</td>\n",
       "    </tr>\n",
       "    <tr>\n",
       "      <th>157</th>\n",
       "      <td>convincing</td>\n",
       "      <td>0.760</td>\n",
       "      <td>0.527</td>\n",
       "      <td>0.900</td>\n",
       "    </tr>\n",
       "    <tr>\n",
       "      <th>143</th>\n",
       "      <td>parent</td>\n",
       "      <td>0.812</td>\n",
       "      <td>0.357</td>\n",
       "      <td>0.860</td>\n",
       "    </tr>\n",
       "    <tr>\n",
       "      <th>173</th>\n",
       "      <td>decide</td>\n",
       "      <td>0.656</td>\n",
       "      <td>0.540</td>\n",
       "      <td>0.855</td>\n",
       "    </tr>\n",
       "  </tbody>\n",
       "</table>\n",
       "</div>"
      ],
      "text/plain": [
       "          Words  valence  arousal  dominance\n",
       "267        boss    0.310    0.627      0.954\n",
       "69     audacity    0.760    0.755      0.916\n",
       "157  convincing    0.760    0.527      0.900\n",
       "143      parent    0.812    0.357      0.860\n",
       "173      decide    0.656    0.540      0.855"
      ]
     },
     "execution_count": 16,
     "metadata": {},
     "output_type": "execute_result"
    }
   ],
   "source": [
    "df_NRC_woman.sort_values(\"dominance\", ascending=False).head()"
   ]
  },
  {
   "cell_type": "markdown",
   "metadata": {},
   "source": [
    "# Pretesting the distribution of the sentiment scores "
   ]
  },
  {
   "cell_type": "code",
   "execution_count": 17,
   "metadata": {},
   "outputs": [
    {
     "name": "stdout",
     "output_type": "stream",
     "text": [
      "0.05500635612808243 0.03380896647037174 0.02817653113728377\n"
     ]
    }
   ],
   "source": [
    "print(df_NRC_man[\"valence\"].var(),df_NRC_man[\"arousal\"].var(),df_NRC_man[\"dominance\"].var() )"
   ]
  },
  {
   "cell_type": "code",
   "execution_count": 18,
   "metadata": {},
   "outputs": [
    {
     "name": "stdout",
     "output_type": "stream",
     "text": [
      "0.0629594494464945 0.0335653204592046 0.024903877982779838\n"
     ]
    }
   ],
   "source": [
    "print(df_NRC_woman[\"valence\"].var(),df_NRC_woman[\"arousal\"].var(),df_NRC_woman[\"dominance\"].var() )"
   ]
  },
  {
   "cell_type": "code",
   "execution_count": 19,
   "metadata": {},
   "outputs": [],
   "source": [
    "def check_normal_dist(df,subject, gender):\n",
    "    import scipy.stats as stats\n",
    "    import numpy as np\n",
    "    import matplotlib.pyplot as plt\n",
    "    %matplotlib inline\n",
    "    from scipy import stats\n",
    "\n",
    "    z =  (df[subject]- np.mean(df[subject]))/np.std(df[subject])\n",
    "    stats.probplot(z, dist=\"norm\", plot=plt)\n",
    "    plt.title(f\"Normal Q-Q plot ({gender})\")\n",
    "    plt.show()\n",
    "    print(\"Kolmogorov–Smirnov test:\", stats.kstest(df[subject],\n",
    "               stats.norm.cdf))"
   ]
  },
  {
   "cell_type": "markdown",
   "metadata": {},
   "source": [
    "## Visualization of the QQ-Plot based on https://towardsdatascience.com/q-q-plots-explained-5aa8495426c0"
   ]
  },
  {
   "cell_type": "code",
   "execution_count": 20,
   "metadata": {},
   "outputs": [
    {
     "name": "stderr",
     "output_type": "stream",
     "text": [
      "\n",
      "Bad key figure.labelsize in file C:\\Users\\Andreas\\anaconda3\\lib\\site-packages\\matplotlib\\mpl-data\\stylelib\\classic (2).mplstyle, line 310 ('figure.labelsize:   medium    # size of the figure label')\n",
      "You probably need to get an updated matplotlibrc file from\n",
      "https://github.com/matplotlib/matplotlib/blob/v3.5.3/matplotlibrc.template\n",
      "or from the matplotlib source distribution\n",
      "\n",
      "Bad key figure.labelweight in file C:\\Users\\Andreas\\anaconda3\\lib\\site-packages\\matplotlib\\mpl-data\\stylelib\\classic (2).mplstyle, line 311 ('figure.labelweight: normal    # weight of the figure label')\n",
      "You probably need to get an updated matplotlibrc file from\n",
      "https://github.com/matplotlib/matplotlib/blob/v3.5.3/matplotlibrc.template\n",
      "or from the matplotlib source distribution\n"
     ]
    },
    {
     "data": {
      "image/png": "[encoded data removed]",
      "text/plain": [
       "<Figure size 432x288 with 1 Axes>"
      ]
     },
     "metadata": {
      "needs_background": "light"
     },
     "output_type": "display_data"
    },
    {
     "name": "stdout",
     "output_type": "stream",
     "text": [
      "Kolmogorov–Smirnov test: KstestResult(statistic=0.5657028369321077, pvalue=2.0786873559969026e-82)\n"
     ]
    }
   ],
   "source": [
    "check_normal_dist(df_NRC_woman, \"arousal\", \"woman\")"
   ]
  },
  {
   "cell_type": "code",
   "execution_count": 21,
   "metadata": {},
   "outputs": [
    {
     "data": {
      "image/png": "[encoded data removed]",
      "text/plain": [
       "<Figure size 432x288 with 1 Axes>"
      ]
     },
     "metadata": {
      "needs_background": "light"
     },
     "output_type": "display_data"
    },
    {
     "name": "stdout",
     "output_type": "stream",
     "text": [
      "Kolmogorov–Smirnov test: KstestResult(statistic=0.565607983698303, pvalue=6.570653983565135e-87)\n"
     ]
    }
   ],
   "source": [
    "check_normal_dist(df_NRC_man, \"arousal\",\"man\")"
   ]
  },
  {
   "cell_type": "markdown",
   "metadata": {},
   "source": [
    "# Testing for statistical significance with Welsh's t-test"
   ]
  },
  {
   "cell_type": "code",
   "execution_count": 22,
   "metadata": {},
   "outputs": [],
   "source": [
    "def apply_welch_test(df_1,df_2,score_type):\n",
    "    from scipy.stats import ttest_ind\n",
    "    from scipy.stats import levene \n",
    "    import math\n",
    "    import statistics\n",
    "    print(score_type)\n",
    "    stat, p = ttest_ind(df_1[score_type].tolist(),df_2[score_type].tolist(), nan_policy=\"omit\", alternative=\"two-sided\",equal_var=False )#, equal_var=False)\n",
    "    alpha = 0.05\n",
    "    print(\"Statistics=%3f, p=%.3f\" % (stat, p))\n",
    "    if p < alpha:\n",
    "        print(\"Different distributions (reject H0)\")\n",
    "        if df_1[score_type].mean() > df_2[score_type].mean():\n",
    "            print(f\"Average {score_type} for female terms is bigger:\", df_1[score_type].mean(), \">\" , df_2[score_type].mean())\n",
    "        else:\n",
    "            print(f\"Average {score_type} for male terms is bigger:\", df_2[score_type].mean(), \">\" , df_1[score_type].mean())\n",
    "    else:\n",
    "        print(\"Same distribution (fail to reject H0)\")\n",
    "    if p < alpha:\n",
    "        d = (df_1[score_type].mean() - df_2[score_type].mean())/math.sqrt(((df_1[score_type].var() + df_2[score_type].var())/2))\n",
    "        \n",
    "        print( \"Cohens D:\", d)\n",
    "    print(\"Amount female terms:\", len(df_1), \", Amount male terms:\", len(df_2))\n",
    "    print(\"------------------------------\")"
   ]
  },
  {
   "cell_type": "code",
   "execution_count": 23,
   "metadata": {},
   "outputs": [
    {
     "name": "stdout",
     "output_type": "stream",
     "text": [
      "valence\n",
      "Statistics=0.794093, p=0.427\n",
      "Same distribution (fail to reject H0)\n",
      "Amount female terms: 271 , Amount male terms: 286\n",
      "------------------------------\n",
      "arousal\n",
      "Statistics=-0.873329, p=0.383\n",
      "Same distribution (fail to reject H0)\n",
      "Amount female terms: 271 , Amount male terms: 286\n",
      "------------------------------\n",
      "dominance\n",
      "Statistics=0.992289, p=0.321\n",
      "Same distribution (fail to reject H0)\n",
      "Amount female terms: 271 , Amount male terms: 286\n",
      "------------------------------\n"
     ]
    }
   ],
   "source": [
    "apply_welch_test(df_NRC_woman, df_NRC_man,\"valence\")\n",
    "apply_welch_test(df_NRC_woman, df_NRC_man,\"arousal\")\n",
    "apply_welch_test(df_NRC_woman, df_NRC_man,\"dominance\")"
   ]
  }
 ],
 "metadata": {
  "kernelspec": {
   "display_name": "myenv",
   "language": "python",
   "name": "myenv"
  },
  "language_info": {
   "codemirror_mode": {
    "name": "ipython",
    "version": 3
   },
   "file_extension": ".py",
   "mimetype": "text/x-python",
   "name": "python",
   "nbconvert_exporter": "python",
   "pygments_lexer": "ipython3",
   "version": "3.8.5"
  }
 },
 "nbformat": 4,
 "nbformat_minor": 4
}
