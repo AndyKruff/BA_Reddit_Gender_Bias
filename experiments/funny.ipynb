{
 "cells": [
  {
   "cell_type": "code",
   "execution_count": 1,
   "metadata": {},
   "outputs": [
    {
     "name": "stderr",
     "output_type": "stream",
     "text": [
      "C:\\Users\\Andreas\\anaconda3\\lib\\site-packages\\numpy\\_distributor_init.py:30: UserWarning: loaded more than 1 DLL from .libs:\n",
      "C:\\Users\\Andreas\\anaconda3\\lib\\site-packages\\numpy\\.libs\\libopenblas.FB5AE2TYXYH2IJRDKGDGQ3XBKLKTF43H.gfortran-win_amd64.dll\n",
      "C:\\Users\\Andreas\\anaconda3\\lib\\site-packages\\numpy\\.libs\\libopenblas.noijjg62emaszi6nyurl6jbkm4evbgm7.gfortran-win_amd64.dll\n",
      "C:\\Users\\Andreas\\anaconda3\\lib\\site-packages\\numpy\\.libs\\libopenblas.PYQHXLVVQ7VESDPUVUADXEVJOBGHJPAY.gfortran-win_amd64.dll\n",
      "  warnings.warn(\"loaded more than 1 DLL from .libs:\"\n"
     ]
    }
   ],
   "source": [
    "import pandas as pd\n",
    "from gensim.models import FastText\n"
   ]
  },
  {
   "cell_type": "code",
   "execution_count": 2,
   "metadata": {},
   "outputs": [],
   "source": [
    "df = pd.read_hdf(\"../datasets/funny.h5\", key=\"funny\")"
   ]
  },
  {
   "cell_type": "code",
   "execution_count": 3,
   "metadata": {},
   "outputs": [],
   "source": [
    "model_sent = FastText.load(\"../models/subreddit_level/fasttext_funny_senti.bin\")"
   ]
  },
  {
   "cell_type": "code",
   "execution_count": 4,
   "metadata": {},
   "outputs": [],
   "source": [
    "NRC = pd.read_csv('../datasets/NRC-VAD-Lexicon.txt', sep=\"\\t\", header=None, names=[\"Words\", \"valence\", \"arousal\", \"dominance\"])"
   ]
  },
  {
   "cell_type": "code",
   "execution_count": 5,
   "metadata": {},
   "outputs": [],
   "source": [
    "token_list = df[\"token_list\"].tolist()\n",
    "flatlist = [item for sublist in token_list for item in sublist]"
   ]
  },
  {
   "cell_type": "code",
   "execution_count": 6,
   "metadata": {},
   "outputs": [],
   "source": [
    "def identify_weigths(flat_list):\n",
    "    from collections import Counter\n",
    "    female=[\"sister\" , \"female\" , \"woman\" , \"girl\" , \"daughter\" , \"she\" , \"hers\" , \"her\"]\n",
    "    male=[\"brother\" , \"male\" , \"man\" , \"boy\" , \"son\" , \"he\" , \"his\" , \"him\"]   \n",
    "\n",
    "    tokens = [item for sublist in flat_list for item in sublist]\n",
    "    term_list_woman = []\n",
    "    for i in tokens:\n",
    "        if i in female:\n",
    "            term_list_woman.append(i)\n",
    "    counter = Counter(term_list_woman)\n",
    "    \n",
    "    liste_woman = []\n",
    "    weights = []\n",
    "    \n",
    "    for i in counter:\n",
    "        if counter[i] > 100:\n",
    "            liste_woman.append(i)\n",
    "            weights.append(counter[i])\n",
    "            \n",
    "    term_list_man = []\n",
    "    for i in tokens:\n",
    "        if i in male:\n",
    "            term_list_man.append(i)\n",
    "    counter = Counter(term_list_man)\n",
    "    \n",
    "    liste_man = []\n",
    "    weights_man = []\n",
    "    \n",
    "    for i in counter:\n",
    "        if counter[i] > 100:\n",
    "            liste_man.append(i)\n",
    "            weights_man.append(counter[i])\n",
    "    \n",
    "    return [liste_woman, weights], [liste_man, weights_man] "
   ]
  },
  {
   "cell_type": "code",
   "execution_count": 7,
   "metadata": {},
   "outputs": [],
   "source": [
    "# Calculate frequencies for the male and female terms\n",
    "\n",
    "woman_terms_freq, man_terms_freq = identify_weigths(flatlist)"
   ]
  },
  {
   "cell_type": "code",
   "execution_count": 8,
   "metadata": {},
   "outputs": [
    {
     "data": {
      "text/plain": [
       "([['she', 'girl', 'woman', 'sister', 'her', 'female', 'daughter', 'hers'],\n",
       "  [67929, 8010, 14012, 2154, 19794, 2207, 2535, 118]],\n",
       " [['he', 'his', 'man', 'brother', 'male', 'son', 'boy', 'him'],\n",
       "  [137335, 48155, 28282, 3622, 2641, 3603, 5359, 120]])"
      ]
     },
     "execution_count": 8,
     "metadata": {},
     "output_type": "execute_result"
    }
   ],
   "source": [
    "woman_terms_freq, man_terms_freq"
   ]
  },
  {
   "cell_type": "code",
   "execution_count": 9,
   "metadata": {},
   "outputs": [],
   "source": [
    "def calculate_centroid_vectors(woman_terms_freq, man_terms_freq, model, NRC, n_words):\n",
    "    import numpy as np\n",
    "    word_vectors = model.wv\n",
    "    centroid_woman = np.ma.average([word_vectors[w] for w in woman_terms_freq[0]], weights= woman_terms_freq[1] ,axis=0)\n",
    "\n",
    "    vector_woman = word_vectors.similar_by_vector(centroid_woman,topn=n_words)\n",
    "    \n",
    "    liste_woman = []\n",
    "    for i in vector_woman:\n",
    "        liste_woman.append(i[0])\n",
    "    \n",
    "    print(\"Top 10 (woman)\", liste_woman[:10])\n",
    "    \n",
    "    intersection_woman = list(set(liste_woman) & set(NRC[\"Words\"]))\n",
    "    \n",
    "    intersection_woman_ordererd = []\n",
    "    for i in vector_woman:\n",
    "        if i[0] in intersection_woman:\n",
    "            intersection_woman_ordererd.append(i[0])\n",
    "    \n",
    "    df_intersection_woman = pd.DataFrame(intersection_woman_ordererd, columns=[\"Words\"])\n",
    "    df_intersection_woman = df_intersection_woman.merge(NRC, how=\"left\", left_on=\"Words\", right_on=\"Words\")\n",
    "    \n",
    "    \n",
    "    \n",
    "    centroid_man = np.ma.average([word_vectors[w] for w in man_terms_freq[0]], weights= man_terms_freq[1] ,axis=0)\n",
    "\n",
    "    vector_man = word_vectors.similar_by_vector(centroid_man,topn=n_words)\n",
    "    \n",
    "    \n",
    "    liste_man = []\n",
    "    for i in vector_man:\n",
    "        liste_man.append(i[0])\n",
    "    \n",
    "    print(\"Top 10 (man)\", liste_man[:10])\n",
    "    \n",
    "    intersection_man = list(set(liste_man) & set(NRC[\"Words\"]))\n",
    "    \n",
    "    intersection_man_ordererd = []\n",
    "    for i in vector_man:\n",
    "        if i[0] in intersection_man:\n",
    "            intersection_man_ordererd.append(i[0])\n",
    "    \n",
    "    df_intersection_man = pd.DataFrame(intersection_man_ordererd, columns=[\"Words\"])\n",
    "    df_intersection_man = df_intersection_man.merge(NRC, how=\"left\", left_on=\"Words\", right_on=\"Words\")\n",
    "    \n",
    "    \n",
    "    return df_intersection_woman, df_intersection_man, liste_woman, liste_man"
   ]
  },
  {
   "cell_type": "code",
   "execution_count": 10,
   "metadata": {},
   "outputs": [
    {
     "name": "stdout",
     "output_type": "stream",
     "text": [
      "Top 10 (woman) ['she', 'her', 'girl', 'herself', 'lady', 'girlfriend', 'boyfriend', 'mom', 'gf', 'wife']\n",
      "Top 10 (man) ['he', 'his', 'guy', 'himself', 'dude', 'brother', 'son', 'dad', 'stepbrother', 'quitter']\n"
     ]
    }
   ],
   "source": [
    "# Calculate the weighted centroid vectors\n",
    "\n",
    "df_NRC_woman , df_NRC_man , liste_woman, liste_man= calculate_centroid_vectors(woman_terms_freq, man_terms_freq, model_sent, NRC, 500)"
   ]
  },
  {
   "cell_type": "markdown",
   "metadata": {},
   "source": [
    "# Top 5 terms with the most sentiment for the female and male centroid vectors"
   ]
  },
  {
   "cell_type": "code",
   "execution_count": 11,
   "metadata": {},
   "outputs": [
    {
     "data": {
      "text/html": [
       "<div>\n",
       "<style scoped>\n",
       "    .dataframe tbody tr th:only-of-type {\n",
       "        vertical-align: middle;\n",
       "    }\n",
       "\n",
       "    .dataframe tbody tr th {\n",
       "        vertical-align: top;\n",
       "    }\n",
       "\n",
       "    .dataframe thead th {\n",
       "        text-align: right;\n",
       "    }\n",
       "</style>\n",
       "<table border=\"1\" class=\"dataframe\">\n",
       "  <thead>\n",
       "    <tr style=\"text-align: right;\">\n",
       "      <th></th>\n",
       "      <th>Words</th>\n",
       "      <th>valence</th>\n",
       "      <th>arousal</th>\n",
       "      <th>dominance</th>\n",
       "    </tr>\n",
       "  </thead>\n",
       "  <tbody>\n",
       "    <tr>\n",
       "      <th>123</th>\n",
       "      <td>hell</td>\n",
       "      <td>0.020</td>\n",
       "      <td>0.918</td>\n",
       "      <td>0.565</td>\n",
       "    </tr>\n",
       "    <tr>\n",
       "      <th>84</th>\n",
       "      <td>dead</td>\n",
       "      <td>0.052</td>\n",
       "      <td>0.454</td>\n",
       "      <td>0.194</td>\n",
       "    </tr>\n",
       "    <tr>\n",
       "      <th>91</th>\n",
       "      <td>bastards</td>\n",
       "      <td>0.082</td>\n",
       "      <td>0.680</td>\n",
       "      <td>0.422</td>\n",
       "    </tr>\n",
       "    <tr>\n",
       "      <th>72</th>\n",
       "      <td>demented</td>\n",
       "      <td>0.088</td>\n",
       "      <td>0.787</td>\n",
       "      <td>0.309</td>\n",
       "    </tr>\n",
       "    <tr>\n",
       "      <th>180</th>\n",
       "      <td>worried</td>\n",
       "      <td>0.094</td>\n",
       "      <td>0.824</td>\n",
       "      <td>0.395</td>\n",
       "    </tr>\n",
       "  </tbody>\n",
       "</table>\n",
       "</div>"
      ],
      "text/plain": [
       "        Words  valence  arousal  dominance\n",
       "123      hell    0.020    0.918      0.565\n",
       "84       dead    0.052    0.454      0.194\n",
       "91   bastards    0.082    0.680      0.422\n",
       "72   demented    0.088    0.787      0.309\n",
       "180   worried    0.094    0.824      0.395"
      ]
     },
     "execution_count": 11,
     "metadata": {},
     "output_type": "execute_result"
    }
   ],
   "source": [
    "df_NRC_man.sort_values(\"valence\").head()"
   ]
  },
  {
   "cell_type": "code",
   "execution_count": 12,
   "metadata": {},
   "outputs": [
    {
     "data": {
      "text/html": [
       "<div>\n",
       "<style scoped>\n",
       "    .dataframe tbody tr th:only-of-type {\n",
       "        vertical-align: middle;\n",
       "    }\n",
       "\n",
       "    .dataframe tbody tr th {\n",
       "        vertical-align: top;\n",
       "    }\n",
       "\n",
       "    .dataframe thead th {\n",
       "        text-align: right;\n",
       "    }\n",
       "</style>\n",
       "<table border=\"1\" class=\"dataframe\">\n",
       "  <thead>\n",
       "    <tr style=\"text-align: right;\">\n",
       "      <th></th>\n",
       "      <th>Words</th>\n",
       "      <th>valence</th>\n",
       "      <th>arousal</th>\n",
       "      <th>dominance</th>\n",
       "    </tr>\n",
       "  </thead>\n",
       "  <tbody>\n",
       "    <tr>\n",
       "      <th>188</th>\n",
       "      <td>revenge</td>\n",
       "      <td>0.230</td>\n",
       "      <td>0.940</td>\n",
       "      <td>0.627</td>\n",
       "    </tr>\n",
       "    <tr>\n",
       "      <th>123</th>\n",
       "      <td>hell</td>\n",
       "      <td>0.020</td>\n",
       "      <td>0.918</td>\n",
       "      <td>0.565</td>\n",
       "    </tr>\n",
       "    <tr>\n",
       "      <th>181</th>\n",
       "      <td>stab</td>\n",
       "      <td>0.167</td>\n",
       "      <td>0.882</td>\n",
       "      <td>0.595</td>\n",
       "    </tr>\n",
       "    <tr>\n",
       "      <th>165</th>\n",
       "      <td>madman</td>\n",
       "      <td>0.135</td>\n",
       "      <td>0.880</td>\n",
       "      <td>0.312</td>\n",
       "    </tr>\n",
       "    <tr>\n",
       "      <th>81</th>\n",
       "      <td>mad</td>\n",
       "      <td>0.219</td>\n",
       "      <td>0.873</td>\n",
       "      <td>0.277</td>\n",
       "    </tr>\n",
       "  </tbody>\n",
       "</table>\n",
       "</div>"
      ],
      "text/plain": [
       "       Words  valence  arousal  dominance\n",
       "188  revenge    0.230    0.940      0.627\n",
       "123     hell    0.020    0.918      0.565\n",
       "181     stab    0.167    0.882      0.595\n",
       "165   madman    0.135    0.880      0.312\n",
       "81       mad    0.219    0.873      0.277"
      ]
     },
     "execution_count": 12,
     "metadata": {},
     "output_type": "execute_result"
    }
   ],
   "source": [
    "df_NRC_man.sort_values(\"arousal\", ascending=False).head()"
   ]
  },
  {
   "cell_type": "code",
   "execution_count": 13,
   "metadata": {},
   "outputs": [
    {
     "data": {
      "text/html": [
       "<div>\n",
       "<style scoped>\n",
       "    .dataframe tbody tr th:only-of-type {\n",
       "        vertical-align: middle;\n",
       "    }\n",
       "\n",
       "    .dataframe tbody tr th {\n",
       "        vertical-align: top;\n",
       "    }\n",
       "\n",
       "    .dataframe thead th {\n",
       "        text-align: right;\n",
       "    }\n",
       "</style>\n",
       "<table border=\"1\" class=\"dataframe\">\n",
       "  <thead>\n",
       "    <tr style=\"text-align: right;\">\n",
       "      <th></th>\n",
       "      <th>Words</th>\n",
       "      <th>valence</th>\n",
       "      <th>arousal</th>\n",
       "      <th>dominance</th>\n",
       "    </tr>\n",
       "  </thead>\n",
       "  <tbody>\n",
       "    <tr>\n",
       "      <th>36</th>\n",
       "      <td>highness</td>\n",
       "      <td>0.740</td>\n",
       "      <td>0.670</td>\n",
       "      <td>0.931</td>\n",
       "    </tr>\n",
       "    <tr>\n",
       "      <th>65</th>\n",
       "      <td>decide</td>\n",
       "      <td>0.656</td>\n",
       "      <td>0.540</td>\n",
       "      <td>0.855</td>\n",
       "    </tr>\n",
       "    <tr>\n",
       "      <th>99</th>\n",
       "      <td>courage</td>\n",
       "      <td>0.830</td>\n",
       "      <td>0.728</td>\n",
       "      <td>0.849</td>\n",
       "    </tr>\n",
       "    <tr>\n",
       "      <th>128</th>\n",
       "      <td>cheer</td>\n",
       "      <td>0.938</td>\n",
       "      <td>0.784</td>\n",
       "      <td>0.845</td>\n",
       "    </tr>\n",
       "    <tr>\n",
       "      <th>23</th>\n",
       "      <td>father</td>\n",
       "      <td>0.812</td>\n",
       "      <td>0.333</td>\n",
       "      <td>0.824</td>\n",
       "    </tr>\n",
       "  </tbody>\n",
       "</table>\n",
       "</div>"
      ],
      "text/plain": [
       "        Words  valence  arousal  dominance\n",
       "36   highness    0.740    0.670      0.931\n",
       "65     decide    0.656    0.540      0.855\n",
       "99    courage    0.830    0.728      0.849\n",
       "128     cheer    0.938    0.784      0.845\n",
       "23     father    0.812    0.333      0.824"
      ]
     },
     "execution_count": 13,
     "metadata": {},
     "output_type": "execute_result"
    }
   ],
   "source": [
    "df_NRC_man.sort_values(\"dominance\", ascending=False).head()"
   ]
  },
  {
   "cell_type": "code",
   "execution_count": 14,
   "metadata": {},
   "outputs": [
    {
     "data": {
      "text/html": [
       "<div>\n",
       "<style scoped>\n",
       "    .dataframe tbody tr th:only-of-type {\n",
       "        vertical-align: middle;\n",
       "    }\n",
       "\n",
       "    .dataframe tbody tr th {\n",
       "        vertical-align: top;\n",
       "    }\n",
       "\n",
       "    .dataframe thead th {\n",
       "        text-align: right;\n",
       "    }\n",
       "</style>\n",
       "<table border=\"1\" class=\"dataframe\">\n",
       "  <thead>\n",
       "    <tr style=\"text-align: right;\">\n",
       "      <th></th>\n",
       "      <th>Words</th>\n",
       "      <th>valence</th>\n",
       "      <th>arousal</th>\n",
       "      <th>dominance</th>\n",
       "    </tr>\n",
       "  </thead>\n",
       "  <tbody>\n",
       "    <tr>\n",
       "      <th>136</th>\n",
       "      <td>afraid</td>\n",
       "      <td>0.010</td>\n",
       "      <td>0.775</td>\n",
       "      <td>0.245</td>\n",
       "    </tr>\n",
       "    <tr>\n",
       "      <th>166</th>\n",
       "      <td>horrified</td>\n",
       "      <td>0.040</td>\n",
       "      <td>0.885</td>\n",
       "      <td>0.368</td>\n",
       "    </tr>\n",
       "    <tr>\n",
       "      <th>240</th>\n",
       "      <td>betray</td>\n",
       "      <td>0.042</td>\n",
       "      <td>0.870</td>\n",
       "      <td>0.536</td>\n",
       "    </tr>\n",
       "    <tr>\n",
       "      <th>76</th>\n",
       "      <td>divorce</td>\n",
       "      <td>0.042</td>\n",
       "      <td>0.700</td>\n",
       "      <td>0.385</td>\n",
       "    </tr>\n",
       "    <tr>\n",
       "      <th>72</th>\n",
       "      <td>deathbed</td>\n",
       "      <td>0.051</td>\n",
       "      <td>0.652</td>\n",
       "      <td>0.311</td>\n",
       "    </tr>\n",
       "  </tbody>\n",
       "</table>\n",
       "</div>"
      ],
      "text/plain": [
       "         Words  valence  arousal  dominance\n",
       "136     afraid    0.010    0.775      0.245\n",
       "166  horrified    0.040    0.885      0.368\n",
       "240     betray    0.042    0.870      0.536\n",
       "76     divorce    0.042    0.700      0.385\n",
       "72    deathbed    0.051    0.652      0.311"
      ]
     },
     "execution_count": 14,
     "metadata": {},
     "output_type": "execute_result"
    }
   ],
   "source": [
    "df_NRC_woman.sort_values(\"valence\").head()"
   ]
  },
  {
   "cell_type": "code",
   "execution_count": 15,
   "metadata": {},
   "outputs": [
    {
     "data": {
      "text/html": [
       "<div>\n",
       "<style scoped>\n",
       "    .dataframe tbody tr th:only-of-type {\n",
       "        vertical-align: middle;\n",
       "    }\n",
       "\n",
       "    .dataframe tbody tr th {\n",
       "        vertical-align: top;\n",
       "    }\n",
       "\n",
       "    .dataframe thead th {\n",
       "        text-align: right;\n",
       "    }\n",
       "</style>\n",
       "<table border=\"1\" class=\"dataframe\">\n",
       "  <thead>\n",
       "    <tr style=\"text-align: right;\">\n",
       "      <th></th>\n",
       "      <th>Words</th>\n",
       "      <th>valence</th>\n",
       "      <th>arousal</th>\n",
       "      <th>dominance</th>\n",
       "    </tr>\n",
       "  </thead>\n",
       "  <tbody>\n",
       "    <tr>\n",
       "      <th>94</th>\n",
       "      <td>bang</td>\n",
       "      <td>0.265</td>\n",
       "      <td>0.951</td>\n",
       "      <td>0.740</td>\n",
       "    </tr>\n",
       "    <tr>\n",
       "      <th>228</th>\n",
       "      <td>excite</td>\n",
       "      <td>0.823</td>\n",
       "      <td>0.950</td>\n",
       "      <td>0.668</td>\n",
       "    </tr>\n",
       "    <tr>\n",
       "      <th>200</th>\n",
       "      <td>panicked</td>\n",
       "      <td>0.100</td>\n",
       "      <td>0.949</td>\n",
       "      <td>0.260</td>\n",
       "    </tr>\n",
       "    <tr>\n",
       "      <th>73</th>\n",
       "      <td>sexy</td>\n",
       "      <td>0.865</td>\n",
       "      <td>0.945</td>\n",
       "      <td>0.802</td>\n",
       "    </tr>\n",
       "    <tr>\n",
       "      <th>203</th>\n",
       "      <td>yelling</td>\n",
       "      <td>0.323</td>\n",
       "      <td>0.939</td>\n",
       "      <td>0.565</td>\n",
       "    </tr>\n",
       "  </tbody>\n",
       "</table>\n",
       "</div>"
      ],
      "text/plain": [
       "        Words  valence  arousal  dominance\n",
       "94       bang    0.265    0.951      0.740\n",
       "228    excite    0.823    0.950      0.668\n",
       "200  panicked    0.100    0.949      0.260\n",
       "73       sexy    0.865    0.945      0.802\n",
       "203   yelling    0.323    0.939      0.565"
      ]
     },
     "execution_count": 15,
     "metadata": {},
     "output_type": "execute_result"
    }
   ],
   "source": [
    "df_NRC_woman.sort_values(\"arousal\", ascending=False).head()"
   ]
  },
  {
   "cell_type": "code",
   "execution_count": 16,
   "metadata": {},
   "outputs": [
    {
     "data": {
      "text/html": [
       "<div>\n",
       "<style scoped>\n",
       "    .dataframe tbody tr th:only-of-type {\n",
       "        vertical-align: middle;\n",
       "    }\n",
       "\n",
       "    .dataframe tbody tr th {\n",
       "        vertical-align: top;\n",
       "    }\n",
       "\n",
       "    .dataframe thead th {\n",
       "        text-align: right;\n",
       "    }\n",
       "</style>\n",
       "<table border=\"1\" class=\"dataframe\">\n",
       "  <thead>\n",
       "    <tr style=\"text-align: right;\">\n",
       "      <th></th>\n",
       "      <th>Words</th>\n",
       "      <th>valence</th>\n",
       "      <th>arousal</th>\n",
       "      <th>dominance</th>\n",
       "    </tr>\n",
       "  </thead>\n",
       "  <tbody>\n",
       "    <tr>\n",
       "      <th>205</th>\n",
       "      <td>overbearing</td>\n",
       "      <td>0.323</td>\n",
       "      <td>0.833</td>\n",
       "      <td>0.861</td>\n",
       "    </tr>\n",
       "    <tr>\n",
       "      <th>229</th>\n",
       "      <td>parent</td>\n",
       "      <td>0.812</td>\n",
       "      <td>0.357</td>\n",
       "      <td>0.860</td>\n",
       "    </tr>\n",
       "    <tr>\n",
       "      <th>147</th>\n",
       "      <td>decide</td>\n",
       "      <td>0.656</td>\n",
       "      <td>0.540</td>\n",
       "      <td>0.855</td>\n",
       "    </tr>\n",
       "    <tr>\n",
       "      <th>128</th>\n",
       "      <td>father</td>\n",
       "      <td>0.812</td>\n",
       "      <td>0.333</td>\n",
       "      <td>0.824</td>\n",
       "    </tr>\n",
       "    <tr>\n",
       "      <th>73</th>\n",
       "      <td>sexy</td>\n",
       "      <td>0.865</td>\n",
       "      <td>0.945</td>\n",
       "      <td>0.802</td>\n",
       "    </tr>\n",
       "  </tbody>\n",
       "</table>\n",
       "</div>"
      ],
      "text/plain": [
       "           Words  valence  arousal  dominance\n",
       "205  overbearing    0.323    0.833      0.861\n",
       "229       parent    0.812    0.357      0.860\n",
       "147       decide    0.656    0.540      0.855\n",
       "128       father    0.812    0.333      0.824\n",
       "73          sexy    0.865    0.945      0.802"
      ]
     },
     "execution_count": 16,
     "metadata": {},
     "output_type": "execute_result"
    }
   ],
   "source": [
    "df_NRC_woman.sort_values(\"dominance\", ascending=False).head()"
   ]
  },
  {
   "cell_type": "markdown",
   "metadata": {},
   "source": [
    "# Pretesting the distribution of the sentiment scores "
   ]
  },
  {
   "cell_type": "code",
   "execution_count": 17,
   "metadata": {},
   "outputs": [
    {
     "name": "stdout",
     "output_type": "stream",
     "text": [
      "0.04999367655249234 0.02903842316903369 0.02513532667780562\n"
     ]
    }
   ],
   "source": [
    "print(df_NRC_man[\"valence\"].var(),df_NRC_man[\"arousal\"].var(),df_NRC_man[\"dominance\"].var() )"
   ]
  },
  {
   "cell_type": "code",
   "execution_count": 18,
   "metadata": {},
   "outputs": [
    {
     "name": "stdout",
     "output_type": "stream",
     "text": [
      "0.06376119502074692 0.03722732754363705 0.020626816432906966\n"
     ]
    }
   ],
   "source": [
    "print(df_NRC_woman[\"valence\"].var(),df_NRC_woman[\"arousal\"].var(),df_NRC_woman[\"dominance\"].var() )"
   ]
  },
  {
   "cell_type": "code",
   "execution_count": 22,
   "metadata": {},
   "outputs": [],
   "source": [
    "def check_normal_dist(df,subject, gender):\n",
    "    import scipy.stats as stats\n",
    "    import numpy as np\n",
    "    import matplotlib.pyplot as plt\n",
    "    %matplotlib inline\n",
    "    from scipy import stats\n",
    "\n",
    "    z =  (df[subject]- np.mean(df[subject]))/np.std(df[subject])\n",
    "    stats.probplot(z, dist=\"norm\", plot=plt)\n",
    "    plt.title(f\"Normal Q-Q plot ({gender})\")\n",
    "    plt.show()\n",
    "\n",
    "    print(\"Kolmogorov–Smirnov test:\", stats.kstest(df[subject],\n",
    "               stats.norm.cdf))"
   ]
  },
  {
   "cell_type": "markdown",
   "metadata": {},
   "source": [
    "## Visualization of the QQ-Plot based on https://towardsdatascience.com/q-q-plots-explained-5aa8495426c0"
   ]
  },
  {
   "cell_type": "code",
   "execution_count": 23,
   "metadata": {},
   "outputs": [
    {
     "data": {
      "image/png": "[encoded data removed]",
      "text/plain": [
       "<Figure size 432x288 with 1 Axes>"
      ]
     },
     "metadata": {
      "needs_background": "light"
     },
     "output_type": "display_data"
    },
    {
     "name": "stdout",
     "output_type": "stream",
     "text": [
      "Kolmogorov–Smirnov test: KstestResult(statistic=0.5582847477455467, pvalue=1.4721870635875709e-71)\n"
     ]
    }
   ],
   "source": [
    "check_normal_dist(df_NRC_woman, \"arousal\", \"woman\")"
   ]
  },
  {
   "cell_type": "code",
   "execution_count": 24,
   "metadata": {},
   "outputs": [
    {
     "data": {
      "image/png": "[encoded data removed]",
      "text/plain": [
       "<Figure size 432x288 with 1 Axes>"
      ]
     },
     "metadata": {
      "needs_background": "light"
     },
     "output_type": "display_data"
    },
    {
     "name": "stdout",
     "output_type": "stream",
     "text": [
      "Kolmogorov–Smirnov test: KstestResult(statistic=0.5716170071250997, pvalue=2.890879989496847e-59)\n"
     ]
    }
   ],
   "source": [
    "check_normal_dist(df_NRC_man, \"arousal\",\"man\")"
   ]
  },
  {
   "cell_type": "markdown",
   "metadata": {},
   "source": [
    "# Testing for statistical significance with Welsh's t-test"
   ]
  },
  {
   "cell_type": "code",
   "execution_count": 25,
   "metadata": {},
   "outputs": [],
   "source": [
    "def apply_welch_test(df_1,df_2,score_type):\n",
    "    from scipy.stats import ttest_ind\n",
    "    from scipy.stats import levene \n",
    "    import math\n",
    "    import statistics\n",
    "    print(score_type)\n",
    "    stat, p = ttest_ind(df_1[score_type].tolist(),df_2[score_type].tolist(), nan_policy=\"omit\", alternative=\"two-sided\",equal_var=False )#, equal_var=False)\n",
    "    alpha = 0.05\n",
    "    print(\"Statistics=%3f, p=%.3f\" % (stat, p))\n",
    "    if p < alpha:\n",
    "        print(\"Different distributions (reject H0)\")\n",
    "        if df_1[score_type].mean() > df_2[score_type].mean():\n",
    "            print(f\"Average {score_type} for female terms is bigger:\", df_1[score_type].mean(), \">\" , df_2[score_type].mean())\n",
    "        else:\n",
    "            print(f\"Average {score_type} for male terms is bigger:\", df_2[score_type].mean(), \">\" , df_1[score_type].mean())\n",
    "    else:\n",
    "        print(\"Same distribution (fail to reject H0)\")\n",
    "    if p < alpha:\n",
    "        d = (df_1[score_type].mean() - df_2[score_type].mean())/math.sqrt(((df_1[score_type].var() + df_2[score_type].var())/2))\n",
    "        \n",
    "        print( \"Cohens D:\", d)\n",
    "    print(\"Amount female terms:\", len(df_1), \", Amount male terms:\", len(df_2))\n",
    "    print(\"------------------------------\")"
   ]
  },
  {
   "cell_type": "code",
   "execution_count": 26,
   "metadata": {},
   "outputs": [
    {
     "name": "stdout",
     "output_type": "stream",
     "text": [
      "valence\n",
      "Statistics=0.183379, p=0.855\n",
      "Same distribution (fail to reject H0)\n",
      "Amount female terms: 242 , Amount male terms: 190\n",
      "------------------------------\n",
      "arousal\n",
      "Statistics=3.011334, p=0.003\n",
      "Different distributions (reject H0)\n",
      "Average arousal for female terms is bigger: 0.5311446280991737 > 0.4784105263157895\n",
      "Cohens D: 0.289709001792402\n",
      "Amount female terms: 242 , Amount male terms: 190\n",
      "------------------------------\n",
      "dominance\n",
      "Statistics=-1.162982, p=0.246\n",
      "Same distribution (fail to reject H0)\n",
      "Amount female terms: 242 , Amount male terms: 190\n",
      "------------------------------\n"
     ]
    }
   ],
   "source": [
    "apply_welch_test(df_NRC_woman, df_NRC_man,\"valence\")\n",
    "apply_welch_test(df_NRC_woman, df_NRC_man,\"arousal\")\n",
    "apply_welch_test(df_NRC_woman, df_NRC_man,\"dominance\")"
   ]
  }
 ],
 "metadata": {
  "kernelspec": {
   "display_name": "myenv",
   "language": "python",
   "name": "myenv"
  },
  "language_info": {
   "codemirror_mode": {
    "name": "ipython",
    "version": 3
   },
   "file_extension": ".py",
   "mimetype": "text/x-python",
   "name": "python",
   "nbconvert_exporter": "python",
   "pygments_lexer": "ipython3",
   "version": "3.8.5"
  }
 },
 "nbformat": 4,
 "nbformat_minor": 4
}
