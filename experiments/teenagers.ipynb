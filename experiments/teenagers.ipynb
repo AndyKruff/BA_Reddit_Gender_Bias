{
 "cells": [
  {
   "cell_type": "code",
   "execution_count": 1,
   "metadata": {},
   "outputs": [
    {
     "name": "stderr",
     "output_type": "stream",
     "text": [
      "C:\\Users\\Andreas\\anaconda3\\lib\\site-packages\\numpy\\_distributor_init.py:30: UserWarning: loaded more than 1 DLL from .libs:\n",
      "C:\\Users\\Andreas\\anaconda3\\lib\\site-packages\\numpy\\.libs\\libopenblas.FB5AE2TYXYH2IJRDKGDGQ3XBKLKTF43H.gfortran-win_amd64.dll\n",
      "C:\\Users\\Andreas\\anaconda3\\lib\\site-packages\\numpy\\.libs\\libopenblas.noijjg62emaszi6nyurl6jbkm4evbgm7.gfortran-win_amd64.dll\n",
      "C:\\Users\\Andreas\\anaconda3\\lib\\site-packages\\numpy\\.libs\\libopenblas.PYQHXLVVQ7VESDPUVUADXEVJOBGHJPAY.gfortran-win_amd64.dll\n",
      "  warnings.warn(\"loaded more than 1 DLL from .libs:\"\n"
     ]
    }
   ],
   "source": [
    "import pandas as pd\n",
    "from gensim.models import FastText"
   ]
  },
  {
   "cell_type": "code",
   "execution_count": 2,
   "metadata": {},
   "outputs": [],
   "source": [
    "df = pd.read_hdf(\"../datasets/teenagers.h5\", key=\"teenagers\")"
   ]
  },
  {
   "cell_type": "code",
   "execution_count": 3,
   "metadata": {},
   "outputs": [],
   "source": [
    "model_sent = FastText.load(\"../models/subreddit_level/fasttext_teenagers_senti.bin\")"
   ]
  },
  {
   "cell_type": "code",
   "execution_count": 4,
   "metadata": {},
   "outputs": [],
   "source": [
    "NRC = pd.read_csv('../datasets/NRC-VAD-Lexicon.txt', sep=\"\\t\", header=None, names=[\"Words\", \"valence\", \"arousal\", \"dominance\"])"
   ]
  },
  {
   "cell_type": "code",
   "execution_count": 5,
   "metadata": {},
   "outputs": [],
   "source": [
    "token_list = df[\"token_list\"].tolist()\n",
    "flatlist = [item for sublist in token_list for item in sublist]"
   ]
  },
  {
   "cell_type": "code",
   "execution_count": 6,
   "metadata": {},
   "outputs": [],
   "source": [
    "def identify_weigths(flat_list):\n",
    "    from collections import Counter\n",
    "    female=[\"sister\" , \"female\" , \"woman\" , \"girl\" , \"daughter\" , \"she\" , \"hers\" , \"her\"]\n",
    "    male=[\"brother\" , \"male\" , \"man\" , \"boy\" , \"son\" , \"he\" , \"his\" , \"him\"] \n",
    "   \n",
    "\n",
    "    tokens = [item for sublist in flat_list for item in sublist]\n",
    "    term_list_woman = []\n",
    "    for i in tokens:\n",
    "        if i in female:\n",
    "            term_list_woman.append(i)\n",
    "    counter = Counter(term_list_woman)\n",
    "    \n",
    "    liste_woman = []\n",
    "    weights = []\n",
    "    \n",
    "    for i in counter:\n",
    "        if counter[i] > 100:\n",
    "            liste_woman.append(i)\n",
    "            weights.append(counter[i])\n",
    "            \n",
    "    term_list_man = []\n",
    "    for i in tokens:\n",
    "        if i in male:\n",
    "            term_list_man.append(i)\n",
    "    counter = Counter(term_list_man)\n",
    "    \n",
    "    liste_man = []\n",
    "    weights_man = []\n",
    "    \n",
    "    for i in counter:\n",
    "        if counter[i] > 100:\n",
    "            liste_man.append(i)\n",
    "            weights_man.append(counter[i])\n",
    "    \n",
    "    return [liste_woman, weights], [liste_man, weights_man] "
   ]
  },
  {
   "cell_type": "code",
   "execution_count": 7,
   "metadata": {},
   "outputs": [],
   "source": [
    "# Calculate frequencies for the male and female terms\n",
    "\n",
    "woman_terms_freq, man_terms_freq = identify_weigths(flatlist)"
   ]
  },
  {
   "cell_type": "code",
   "execution_count": 8,
   "metadata": {},
   "outputs": [
    {
     "data": {
      "text/plain": [
       "([['female', 'she', 'woman', 'her', 'girl', 'hers', 'daughter', 'sister'],\n",
       "  [19290, 180209, 63977, 37620, 94937, 388, 2116, 9303]],\n",
       " [['he', 'boy', 'male', 'his', 'man', 'brother', 'son', 'him'],\n",
       "  [243429, 29799, 22281, 56481, 112379, 15044, 5173, 767]])"
      ]
     },
     "execution_count": 8,
     "metadata": {},
     "output_type": "execute_result"
    }
   ],
   "source": [
    "woman_terms_freq, man_terms_freq"
   ]
  },
  {
   "cell_type": "code",
   "execution_count": 9,
   "metadata": {},
   "outputs": [],
   "source": [
    "def calculate_centroid_vectors(woman_terms_freq, man_terms_freq, model, NRC, n_words):\n",
    "    import numpy as np\n",
    "    word_vectors = model.wv\n",
    "    centroid_woman = np.ma.average([word_vectors[w] for w in woman_terms_freq[0]], weights= woman_terms_freq[1] ,axis=0)\n",
    "\n",
    "    vector_woman = word_vectors.similar_by_vector(centroid_woman,topn=n_words)\n",
    "    \n",
    "    liste_woman = []\n",
    "    for i in vector_woman:\n",
    "        liste_woman.append(i[0])\n",
    "    \n",
    "    print(\"Top 10 (woman)\", liste_woman[:10])\n",
    "    \n",
    "    intersection_woman = list(set(liste_woman) & set(NRC[\"Words\"]))\n",
    "    \n",
    "    intersection_woman_ordererd = []\n",
    "    for i in vector_woman:\n",
    "        if i[0] in intersection_woman:\n",
    "            intersection_woman_ordererd.append(i[0])\n",
    "    \n",
    "    df_intersection_woman = pd.DataFrame(intersection_woman_ordererd, columns=[\"Words\"])\n",
    "    df_intersection_woman = df_intersection_woman.merge(NRC, how=\"left\", left_on=\"Words\", right_on=\"Words\")\n",
    "    \n",
    "    \n",
    "    \n",
    "    centroid_man = np.ma.average([word_vectors[w] for w in man_terms_freq[0]], weights= man_terms_freq[1] ,axis=0)\n",
    "\n",
    "    vector_man = word_vectors.similar_by_vector(centroid_man,topn=n_words)\n",
    "    \n",
    "    print(vector_man)\n",
    "    liste_man = []\n",
    "    for i in vector_man:\n",
    "        liste_man.append(i[0])\n",
    "    \n",
    "    print(\"Top 10 (man)\", liste_man[:10])\n",
    "    \n",
    "    intersection_man = list(set(liste_man) & set(NRC[\"Words\"]))\n",
    "    \n",
    "    intersection_man_ordererd = []\n",
    "    for i in vector_man:\n",
    "        if i[0] in intersection_man:\n",
    "            intersection_man_ordererd.append(i[0])\n",
    "    \n",
    "    df_intersection_man = pd.DataFrame(intersection_man_ordererd, columns=[\"Words\"])\n",
    "    df_intersection_man = df_intersection_man.merge(NRC, how=\"left\", left_on=\"Words\", right_on=\"Words\")\n",
    "    \n",
    "    \n",
    "    return df_intersection_woman, df_intersection_man, liste_woman, liste_man"
   ]
  },
  {
   "cell_type": "code",
   "execution_count": 10,
   "metadata": {},
   "outputs": [
    {
     "name": "stdout",
     "output_type": "stream",
     "text": [
      "Top 10 (woman) ['she', 'girl', 'boyfriend', 'her', 'herself', 'gf', 'girlfriend', 'fiancee', 'girlfreind', 'bf']\n",
      "[('he', 0.9510022401809692), ('guy', 0.8642922639846802), ('his', 0.8594990372657776), ('dude', 0.8313004374504089), ('man', 0.8071935772895813), ('himself', 0.8057751655578613), ('boyfriend', 0.791032075881958), ('secretly', 0.7679669260978699), ('dad', 0.7678454518318176), ('daaaamn', 0.7628768682479858), ('say', 0.754810631275177), ('mans', 0.754361629486084), ('lilgayboy', 0.7514203786849976), ('daaaaamn', 0.7499964833259583), ('brother', 0.7494815587997437), ('ex', 0.7464559674263), ('think', 0.7401840686798096), ('fiancee', 0.7397271394729614), ('aaaaah', 0.7383591532707214), ('naaaah', 0.7376813292503357), ('saaaaame', 0.7364295125007629), ('saaaame', 0.7362611293792725), ('sister', 0.7311426401138306), ('aaaaaah', 0.7281462550163269), ('yeaaaah', 0.7250198721885681), ('eduardo', 0.7226762771606445), ('alway', 0.7216354608535767), ('girl', 0.7211480140686035), ('whaaaaat', 0.7206900715827942), ('grannie', 0.7206252813339233), ('aaaaaaah', 0.720528781414032), ('would', 0.7199479937553406), ('boy', 0.7191784977912903), ('girldick', 0.719135046005249), ('appearently', 0.7190592885017395), ('girlfriend', 0.7187695503234863), ('even', 0.7173104286193848), ('son', 0.7156808972358704), ('aaaaaaaah', 0.7149855494499207), ('whaaaaaat', 0.7147362232208252), ('maaaan', 0.7141836285591125), ('whaaaaa', 0.7134463787078857), ('haaaa', 0.7130090594291687), ('gave', 0.7129995822906494), ('reaaaally', 0.7127957940101624), ('aaaand', 0.7123138308525085), ('aaaah', 0.7122560739517212), ('aaaaaaaaah', 0.7120518684387207), ('aaaaand', 0.711951494216919), ('schlatt', 0.711041271686554), ('aaaaaand', 0.7103255391120911), ('cousin', 0.7101709842681885), ('aaaaaaaaaah', 0.7100815773010254), ('yaaaas', 0.7097704410552979), ('whaaaat', 0.7096419930458069), ('stepfather', 0.7092257738113403), ('bf', 0.7090135216712952), ('duuude', 0.7086607813835144), ('bro', 0.7078666090965271), ('whaaaa', 0.7076050639152527), ('yaaaaay', 0.7057948112487793), ('tyrone', 0.7054933309555054), ('bradley', 0.7051419019699097), ('stright', 0.7049931883811951), ('still', 0.7044588923454285), ('uncle', 0.7029665112495422), ('wife', 0.7029287219047546), ('womanizer', 0.7026283144950867), ('way', 0.7023100256919861), ('hos', 0.7021059989929199), ('op', 0.7014316916465759), ('aaaaaaa', 0.7009021043777466), ('aaaaaa', 0.700844943523407), ('fella', 0.7007798552513123), ('buddie', 0.700570285320282), ('daughter', 0.7005539536476135), ('aaaaaaaa', 0.7005411386489868), ('aaaaaaaaa', 0.7002941370010376), ('aaaaaaaaaa', 0.6998553276062012), ('aaaaaaaaaaa', 0.6998476386070251), ('aaaaaaaaaaaa', 0.6996409296989441), ('keep', 0.6995791792869568), ('aaaaaaaaaaaaa', 0.6994936466217041), ('aaaaaaaaaaaaaa', 0.699421763420105), ('aaaaaaaaaaaaaaa', 0.699347972869873), ('she', 0.699284017086029), ('bff', 0.6992654800415039), ('wonder', 0.6992009878158569), ('aaaaaaaaaaaaaaaa', 0.6991590857505798), ('aaaaaaaaaaaaaaaaa', 0.6991540789604187), ('aaaaaaaaaaaaaaaaaa', 0.6991350054740906), ('aaaaaaaaaaaaaaaaaaa', 0.6990604400634766), ('aaaaaaaaaaaaaaaaaaaa', 0.6989633440971375), ('aaaaaaaaaaaaaaaaaaaaa', 0.698929488658905), ('aaaaaaaaaaaaaaaaaaaaaa', 0.698910117149353), ('aaaaaaaaaaaaaaaaaaaaaaaaa', 0.6987959742546082), ('aaaaaaaaaaaaaaaaaaaaaaaaaa', 0.6987489461898804), ('aaaaaaaaaaaaaaaaaaaaaaaaaaaaaaaaaaaaa', 0.698573887348175), ('bet', 0.6983476281166077), ('aaaaaaaaaaaaaaaaaaaaaaaaaaaaaaaaaaaaaaaaaaaaaaaaaaaaaaaaaaaaaaaaaaaaaaaaaaaaaaaaaaaaaaaaaaaaaaaaaaaaaaaaaaaaaaaaaaaaaaaaaaaaaaaaaaaaaaaaaaaaaaaaaaaaaaaaaaaaaaaaaaaaaaaaaaaaaaaaaaaaaaaaaaaaaaaaaaaaaaaaaaaaaaaaaaaaaaaaaaaaaaaaaaaaaaaaaa', 0.6982165575027466), ('waaaaaay', 0.6977204084396362), ('tell', 0.6969195008277893), ('yeaaaaa', 0.69678795337677), ('mink', 0.6966552138328552), ('could', 0.696489155292511), ('chandler', 0.6961742043495178), ('actually', 0.6951959133148193), ('aaaaa', 0.694857120513916), ('morgz', 0.6939302086830139), ('waaaaay', 0.6938454508781433), ('ridaaaaaa', 0.6936143040657043), ('fiance', 0.6927667260169983), ('always', 0.6922633647918701), ('baaaad', 0.690100908279419), ('friend', 0.6899577379226685), ('dater', 0.6875206232070923), ('waaaaa', 0.6865378022193909), ('somone', 0.6864165663719177), ('icarly', 0.6861298680305481), ('innocently', 0.6854031682014465), ('thundercock', 0.6850034594535828), ('momny', 0.684866189956665), ('gether', 0.6846981644630432), ('duuuude', 0.6845439076423645), ('drew', 0.6842775344848633), ('yaaaa', 0.6841497421264648), ('weenie', 0.6829715371131897), ('like', 0.6826961636543274), ('back', 0.6825767755508423), ('husband', 0.6822217106819153), ('know', 0.6821644902229309), ('xactly', 0.6811721920967102), ('try', 0.6807896494865417), ('gf', 0.680554211139679), ('hes', 0.6803194284439087), ('skank', 0.6795954704284668), ('anally', 0.6795015931129456), ('deadass', 0.6778002977371216), ('conor', 0.6773332953453064), ('want', 0.6764755249023438), ('father', 0.676007091999054), ('trynna', 0.6759110689163208), ('her', 0.6755564212799072), ('curbstomp', 0.6754768490791321), ('proceed', 0.6752510666847229), ('prolly', 0.675236165523529), ('cousins', 0.674677312374115), ('justsomeidot', 0.6745710372924805), ('grouch', 0.6742773056030273), ('hatman', 0.6741186380386353), ('cicer', 0.6740874648094177), ('yaaaay', 0.6734500527381897), ('ishowspeed', 0.672966718673706), ('bruhhhhh', 0.6720147132873535), ('tempt', 0.6714712977409363), ('also', 0.6712920665740967), ('apparently', 0.6712583303451538), ('heee', 0.6709128022193909), ('aaaa', 0.6704782247543335), ('literally', 0.6700469851493835), ('someshit', 0.6699925065040588), ('whippersnapper', 0.6698940992355347), ('thussy', 0.6691827178001404), ('lovingly', 0.6690239906311035), ('brooo', 0.6689402461051941), ('him', 0.6689385175704956), ('fiddler', 0.6685726046562195), ('probably', 0.6680939793586731), ('weener', 0.6678141355514526), ('aparently', 0.6677993535995483), ('balding', 0.6676920056343079), ('already', 0.6658409237861633), ('mf', 0.6657949686050415), ('swoon', 0.6657477021217346), ('instantly', 0.665545642375946), ('prouder', 0.6652020215988159), ('tought', 0.6651508808135986), ('henchman', 0.6651170253753662), ('denis', 0.6650357246398926), ('giy', 0.6644271612167358), ('sherbert', 0.6642565131187439), ('whant', 0.6641165614128113), ('lmao', 0.6638720035552979), ('prat', 0.6635478734970093), ('tubbo', 0.6635137796401978), ('tho', 0.6634408235549927), ('look', 0.6633186936378479), ('lmaoooo', 0.6631937623023987), ('slenderman', 0.6627666354179382), ('wpuld', 0.6626982092857361), ('meek', 0.6624199748039246), ('stepbrother', 0.6613563299179077), ('byer', 0.6609516143798828), ('thaaaat', 0.660941481590271), ('stepdad', 0.6607367396354675), ('looker', 0.660727858543396), ('girlfreind', 0.6607049703598022), ('heeey', 0.6606504321098328), ('bc', 0.660313069820404), ('clearly', 0.6599869132041931), ('grandad', 0.6599446535110474), ('taunt', 0.6598114371299744), ('coworker', 0.6595423221588135), ('bonner', 0.6593592762947083), ('roomie', 0.6586951017379761), ('homegirl', 0.6586189270019531), ('mum', 0.658537745475769), ('mom', 0.6582431197166443), ('peter', 0.6579793095588684), ('cuz', 0.6579679250717163), ('brody', 0.6574064493179321), ('remind', 0.6573628187179565), ('drainer', 0.6567097902297974), ('peeper', 0.6566941738128662), ('lowkey', 0.6564232707023621), ('chewbacca', 0.6563341021537781), ('musty', 0.6561480164527893), ('lmaoo', 0.6561310291290283), ('lady', 0.6560074687004089), ('girlfrien', 0.6559538841247559), ('chick', 0.6558401584625244), ('pretend', 0.6554244160652161), ('granpa', 0.6554133892059326), ('peg', 0.655312180519104), ('bwc', 0.6545347571372986), ('handsome', 0.6541884541511536), ('call', 0.6541438698768616), ('suddenly', 0.6536681056022644), ('surely', 0.6536632776260376), ('bruhhhh', 0.6536352634429932), ('out', 0.6535728573799133), ('homelander', 0.653563380241394), ('none', 0.6534821391105652), ('btch', 0.6533267498016357), ('jokingly', 0.6527575254440308), ('sssniperwolf', 0.6525943279266357), ('grandpa', 0.6519710421562195), ('kll', 0.6513382196426392), ('bron', 0.6513178944587708), ('turn', 0.6512503027915955), ('someon', 0.6506088972091675), ('either', 0.6501076817512512), ('see', 0.6499835848808289), ('jace', 0.6497124433517456), ('yeaaaa', 0.6492839455604553), ('someone', 0.649202287197113), ('bestfriend', 0.6490020155906677), ('freak', 0.6483415365219116), ('renold', 0.6482421159744263), ('hilter', 0.6481918096542358), ('bruhhh', 0.6478325128555298), ('since', 0.6476913690567017), ('fishussy', 0.6468987464904785), ('get', 0.6467108130455017), ('stepmom', 0.6466833353042603), ('knocker', 0.6465578079223633), ('intently', 0.6464176774024963), ('luke', 0.6460800170898438), ('sandvich', 0.6458361148834229), ('really', 0.6458011269569397), ('mine', 0.6457819938659668), ('stacy', 0.645717978477478), ('instead', 0.6455786228179932), ('bcause', 0.6454524993896484), ('ever', 0.6451265811920166), ('quackity', 0.6449823379516602), ('sis', 0.6449698805809021), ('aprove', 0.6442320346832275), ('bruhhhhhh', 0.6440821886062622), ('nametag', 0.6440805196762085), ('effortlessly', 0.6440799832344055), ('brock', 0.643958568572998), ('brothe', 0.6435635089874268), ('cockussy', 0.6435507535934448), ('wifey', 0.6435428261756897), ('stripper', 0.6434880495071411), ('ass', 0.64335697889328), ('come', 0.643185019493103), ('obviously', 0.6431486010551453), ('quilly', 0.6426034569740295), ('immediately', 0.6422214508056641), ('inst', 0.642128050327301), ('atticus', 0.6420210003852844), ('feller', 0.6418664455413818), ('loook', 0.6417542695999146), ('callmecarson', 0.6416914463043213), ('jerk', 0.6415930986404419), ('twerking', 0.6413536071777344), ('chilll', 0.6412325501441956), ('midget', 0.6410555243492126), ('lmaooooo', 0.640659749507904), ('reggie', 0.6405888795852661), ('woulda', 0.6399378180503845), ('cause', 0.6398996114730835), ('highfive', 0.6398485898971558), ('amiright', 0.6397343277931213), ('gravely', 0.6396924257278442), ('gooden', 0.6394786238670349), ('seduce', 0.6392861604690552), ('bald', 0.6391841173171997), ('femman', 0.6383721828460693), ('gallagher', 0.6381964683532715), ('larry', 0.6381499767303467), ('finnally', 0.6381227374076843), ('granger', 0.637991189956665), ('creepily', 0.6378942728042603), ('masterbaiter', 0.637830913066864), ('jidion', 0.6376951932907104), ('obv', 0.6372395753860474), ('everytime', 0.6369996070861816), ('crush', 0.6369516253471375), ('litterly', 0.6365912556648254), ('frist', 0.6365329027175903), ('gurlll', 0.6365292072296143), ('gosling', 0.636435866355896), ('mean', 0.6363376975059509), ('tryna', 0.6362665295600891), ('nathan', 0.6361100077629089), ('dudes', 0.6359384059906006), ('fistbump', 0.63590407371521), ('fathe', 0.6357998251914978), ('threw', 0.6357719302177429), ('himbo', 0.6356183886528015), ('packer', 0.6354765295982361), ('alamy', 0.6350389719009399), ('fr', 0.6346461176872253), ('legit', 0.6345126628875732), ('face', 0.6341867446899414), ('litterally', 0.634182870388031), ('jer', 0.6338956952095032), ('remarry', 0.6336004137992859), ('colleague', 0.6333931088447571), ('boi', 0.633319079875946), ('jake', 0.6332724094390869), ('nathaniel', 0.6332623362541199), ('gravestone', 0.6331328749656677), ('rowan', 0.633124828338623), ('lmfao', 0.6330363154411316), ('conner', 0.6328107714653015), ('chris', 0.6324582695960999), ('heeeey', 0.6323294043540955), ('tf', 0.6323110461235046), ('jeffy', 0.6322203278541565), ('lmaoooooo', 0.6320158243179321), ('nah', 0.6318325996398926), ('holler', 0.6317527294158936), ('lol', 0.6316987872123718), ('suppose', 0.6315590739250183), ('sucker', 0.6314685940742493), ('thst', 0.6314195990562439), ('pete', 0.631159245967865), ('hubby', 0.6311199069023132), ('dano', 0.6310920715332031), ('khalimov', 0.6310092210769653), ('babygirl', 0.6308825612068176), ('pratt', 0.6305679678916931), ('excactly', 0.6304346919059753), ('chokehold', 0.6304123997688293), ('cmon', 0.6303079724311829), ('saying', 0.6303070783615112), ('hanson', 0.6298737525939941), ('insist', 0.6298022866249084), ('beiber', 0.6295148730278015), ('thot', 0.6294565200805664), ('ussually', 0.6292304992675781), ('cutiepie', 0.628895103931427), ('quilt', 0.6288487315177917), ('waaaa', 0.628782331943512), ('woman', 0.6287274360656738), ('prob', 0.6287193894386292), ('dady', 0.6285626292228699), ('gremlin', 0.6283890604972839), ('shortstack', 0.628317654132843), ('momment', 0.6283060312271118), ('casper', 0.6282822489738464), ('impress', 0.6281896829605103), ('swear', 0.6281253099441528), ('homie', 0.6279435157775879), ('dudeeee', 0.6279310584068298), ('stepsister', 0.6279205679893494), ('smh', 0.6279122233390808), ('hugh', 0.6278796195983887), ('stead', 0.6278606057167053), ('pokimane', 0.627839982509613), ('shoulda', 0.6278154253959656), ('classmate', 0.6277698278427124), ('bsf', 0.6276273727416992), ('kermit', 0.6275004148483276), ('aite', 0.6274880766868591), ('recliner', 0.6274611353874207), ('faxxx', 0.6274038553237915), ('birdy', 0.6271007657051086), ('johnathan', 0.6269077062606812), ('dick', 0.6268275380134583), ('scare', 0.6266893148422241), ('fisher', 0.6265069246292114), ('bodyguard', 0.626504123210907), ('ducking', 0.6264011263847351), ('everynight', 0.626346230506897), ('secrets', 0.6262935996055603), ('friende', 0.6262757778167725), ('stephanie', 0.6260474324226379), ('one', 0.6256181001663208), ('malewife', 0.6255047917366028), ('shmeat', 0.625471830368042), ('cus', 0.6254271268844604), ('ketchum', 0.6253259181976318), ('crikey', 0.625190258026123), ('grandma', 0.6251469254493713), ('waaaay', 0.625070333480835), ('geller', 0.6250592470169067), ('wsp', 0.6250330805778503), ('later', 0.6248288154602051), ('goddam', 0.6248137354850769), ('jame', 0.6246883273124695), ('smthin', 0.6243253350257874), ('jesser', 0.624299168586731), ('roomate', 0.6242039799690247), ('queerbaite', 0.6241398453712463), ('infront', 0.6238347887992859), ('refuse', 0.6234436631202698), ('cker', 0.6234027147293091), ('bishe', 0.6232523918151855), ('fuckboi', 0.6229569911956787), ('nephew', 0.6229053735733032), ('spot', 0.6228915452957153), ('aswell', 0.6228678226470947), ('fite', 0.6228209733963013), ('dickity', 0.6227729320526123), ('lmaooo', 0.6224940419197083), ('pos', 0.6223530173301697), ('jessie', 0.6221152544021606), ('brooke', 0.6221025586128235), ('shreks', 0.6220006942749023), ('hagrid', 0.6219876408576965), ('jayden', 0.6219313144683838), ('skeletor', 0.6219196915626526), ('whenever', 0.6218894124031067), ('pussy', 0.6218785643577576), ('asher', 0.6216709613800049), ('sully', 0.621498167514801), ('masterbaite', 0.6209967136383057), ('dave', 0.6209826469421387), ('griffith', 0.6209213733673096), ('cena', 0.6207888126373291), ('musta', 0.6207787394523621), ('reee', 0.6206367015838623), ('hwhat', 0.6205893158912659), ('snigger', 0.6205276846885681), ('ger', 0.6202407479286194), ('twerke', 0.6201481819152832), ('mann', 0.6198976039886475), ('critikal', 0.619628369808197), ('nobodys', 0.6196156144142151), ('casually', 0.6193979382514954), ('sooo', 0.6193885803222656), ('paulson', 0.6193798184394836), ('cuck', 0.6193203926086426), ('leanbeefpatty', 0.6193203330039978), ('hi', 0.6190853118896484), ('shock', 0.6190730929374695), ('soo', 0.6190385818481445), ('pussycock', 0.6190235614776611), ('ranboo', 0.6188496947288513), ('brocken', 0.6187347173690796), ('dewwit', 0.6187342405319214), ('jack', 0.6186433434486389), ('hiddleston', 0.6185531616210938), ('gilf', 0.6183619499206543), ('snoopy', 0.6182873249053955), ('stubble', 0.6181449294090271), ('trucker', 0.6180111765861511), ('lmfaoo', 0.6178085803985596), ('granddaughter', 0.6177462935447693), ('time', 0.6177254319190979), ('cussy', 0.6176071166992188), ('waoh', 0.6175591945648193), ('myspace', 0.6174317598342896), ('lmaooooooo', 0.6174228191375732), ('evans', 0.6173462867736816), ('quagmire', 0.6172820925712585), ('simp', 0.6171781420707703), ('basher', 0.6171171069145203), ('coryxkenshin', 0.6170746088027954), ('pepsiman', 0.6169816851615906), ('mfer', 0.6169793605804443), ('carly', 0.6169625520706177), ('lumbago', 0.616834819316864), ('realized', 0.6167360544204712), ('fckin', 0.6165561079978943), ('btw', 0.6165217161178589), ('headbut', 0.6163496375083923), ('ghandi', 0.616192102432251), ('definetly', 0.616191029548645), ('little', 0.6159288883209229), ('find', 0.6159242987632751), ('prank', 0.6158019304275513), ('something', 0.6157747507095337), ('marston', 0.6157503724098206), ('afterwards', 0.6156007051467896)]\n",
      "Top 10 (man) ['he', 'guy', 'his', 'dude', 'man', 'himself', 'boyfriend', 'secretly', 'dad', 'daaaamn']\n"
     ]
    }
   ],
   "source": [
    "# Calculate the weighted centroid vectors\n",
    "\n",
    "df_NRC_woman , df_NRC_man , liste_woman, liste_man= calculate_centroid_vectors(woman_terms_freq, man_terms_freq, model_sent, NRC, 500)"
   ]
  },
  {
   "cell_type": "markdown",
   "metadata": {},
   "source": [
    "# Top 5 terms with the most sentiment for the female and male centroid vectors"
   ]
  },
  {
   "cell_type": "code",
   "execution_count": 11,
   "metadata": {},
   "outputs": [
    {
     "data": {
      "text/html": [
       "<div>\n",
       "<style scoped>\n",
       "    .dataframe tbody tr th:only-of-type {\n",
       "        vertical-align: middle;\n",
       "    }\n",
       "\n",
       "    .dataframe tbody tr th {\n",
       "        vertical-align: top;\n",
       "    }\n",
       "\n",
       "    .dataframe thead th {\n",
       "        text-align: right;\n",
       "    }\n",
       "</style>\n",
       "<table border=\"1\" class=\"dataframe\">\n",
       "  <thead>\n",
       "    <tr style=\"text-align: right;\">\n",
       "      <th></th>\n",
       "      <th>Words</th>\n",
       "      <th>valence</th>\n",
       "      <th>arousal</th>\n",
       "      <th>dominance</th>\n",
       "    </tr>\n",
       "  </thead>\n",
       "  <tbody>\n",
       "    <tr>\n",
       "      <th>71</th>\n",
       "      <td>freak</td>\n",
       "      <td>0.052</td>\n",
       "      <td>0.839</td>\n",
       "      <td>0.464</td>\n",
       "    </tr>\n",
       "    <tr>\n",
       "      <th>54</th>\n",
       "      <td>taunt</td>\n",
       "      <td>0.083</td>\n",
       "      <td>0.696</td>\n",
       "      <td>0.355</td>\n",
       "    </tr>\n",
       "    <tr>\n",
       "      <th>102</th>\n",
       "      <td>scare</td>\n",
       "      <td>0.122</td>\n",
       "      <td>0.910</td>\n",
       "      <td>0.264</td>\n",
       "    </tr>\n",
       "    <tr>\n",
       "      <th>107</th>\n",
       "      <td>refuse</td>\n",
       "      <td>0.180</td>\n",
       "      <td>0.520</td>\n",
       "      <td>0.331</td>\n",
       "    </tr>\n",
       "    <tr>\n",
       "      <th>59</th>\n",
       "      <td>peeper</td>\n",
       "      <td>0.182</td>\n",
       "      <td>0.537</td>\n",
       "      <td>0.343</td>\n",
       "    </tr>\n",
       "  </tbody>\n",
       "</table>\n",
       "</div>"
      ],
      "text/plain": [
       "      Words  valence  arousal  dominance\n",
       "71    freak    0.052    0.839      0.464\n",
       "54    taunt    0.083    0.696      0.355\n",
       "102   scare    0.122    0.910      0.264\n",
       "107  refuse    0.180    0.520      0.331\n",
       "59   peeper    0.182    0.537      0.343"
      ]
     },
     "execution_count": 11,
     "metadata": {},
     "output_type": "execute_result"
    }
   ],
   "source": [
    "df_NRC_man.sort_values(\"valence\").head()"
   ]
  },
  {
   "cell_type": "code",
   "execution_count": 12,
   "metadata": {},
   "outputs": [
    {
     "data": {
      "text/html": [
       "<div>\n",
       "<style scoped>\n",
       "    .dataframe tbody tr th:only-of-type {\n",
       "        vertical-align: middle;\n",
       "    }\n",
       "\n",
       "    .dataframe tbody tr th {\n",
       "        vertical-align: top;\n",
       "    }\n",
       "\n",
       "    .dataframe thead th {\n",
       "        text-align: right;\n",
       "    }\n",
       "</style>\n",
       "<table border=\"1\" class=\"dataframe\">\n",
       "  <thead>\n",
       "    <tr style=\"text-align: right;\">\n",
       "      <th></th>\n",
       "      <th>Words</th>\n",
       "      <th>valence</th>\n",
       "      <th>arousal</th>\n",
       "      <th>dominance</th>\n",
       "    </tr>\n",
       "  </thead>\n",
       "  <tbody>\n",
       "    <tr>\n",
       "      <th>102</th>\n",
       "      <td>scare</td>\n",
       "      <td>0.122</td>\n",
       "      <td>0.910</td>\n",
       "      <td>0.264</td>\n",
       "    </tr>\n",
       "    <tr>\n",
       "      <th>82</th>\n",
       "      <td>seduce</td>\n",
       "      <td>0.462</td>\n",
       "      <td>0.864</td>\n",
       "      <td>0.689</td>\n",
       "    </tr>\n",
       "    <tr>\n",
       "      <th>74</th>\n",
       "      <td>stripper</td>\n",
       "      <td>0.625</td>\n",
       "      <td>0.848</td>\n",
       "      <td>0.453</td>\n",
       "    </tr>\n",
       "    <tr>\n",
       "      <th>71</th>\n",
       "      <td>freak</td>\n",
       "      <td>0.052</td>\n",
       "      <td>0.839</td>\n",
       "      <td>0.464</td>\n",
       "    </tr>\n",
       "    <tr>\n",
       "      <th>91</th>\n",
       "      <td>holler</td>\n",
       "      <td>0.276</td>\n",
       "      <td>0.825</td>\n",
       "      <td>0.406</td>\n",
       "    </tr>\n",
       "  </tbody>\n",
       "</table>\n",
       "</div>"
      ],
      "text/plain": [
       "        Words  valence  arousal  dominance\n",
       "102     scare    0.122    0.910      0.264\n",
       "82     seduce    0.462    0.864      0.689\n",
       "74   stripper    0.625    0.848      0.453\n",
       "71      freak    0.052    0.839      0.464\n",
       "91     holler    0.276    0.825      0.406"
      ]
     },
     "execution_count": 12,
     "metadata": {},
     "output_type": "execute_result"
    }
   ],
   "source": [
    "df_NRC_man.sort_values(\"arousal\", ascending=False).head()"
   ]
  },
  {
   "cell_type": "code",
   "execution_count": 13,
   "metadata": {},
   "outputs": [
    {
     "data": {
      "text/html": [
       "<div>\n",
       "<style scoped>\n",
       "    .dataframe tbody tr th:only-of-type {\n",
       "        vertical-align: middle;\n",
       "    }\n",
       "\n",
       "    .dataframe tbody tr th {\n",
       "        vertical-align: top;\n",
       "    }\n",
       "\n",
       "    .dataframe thead th {\n",
       "        text-align: right;\n",
       "    }\n",
       "</style>\n",
       "<table border=\"1\" class=\"dataframe\">\n",
       "  <thead>\n",
       "    <tr style=\"text-align: right;\">\n",
       "      <th></th>\n",
       "      <th>Words</th>\n",
       "      <th>valence</th>\n",
       "      <th>arousal</th>\n",
       "      <th>dominance</th>\n",
       "    </tr>\n",
       "  </thead>\n",
       "  <tbody>\n",
       "    <tr>\n",
       "      <th>97</th>\n",
       "      <td>impress</td>\n",
       "      <td>0.816</td>\n",
       "      <td>0.744</td>\n",
       "      <td>0.895</td>\n",
       "    </tr>\n",
       "    <tr>\n",
       "      <th>87</th>\n",
       "      <td>legit</td>\n",
       "      <td>0.747</td>\n",
       "      <td>0.427</td>\n",
       "      <td>0.849</td>\n",
       "    </tr>\n",
       "    <tr>\n",
       "      <th>40</th>\n",
       "      <td>father</td>\n",
       "      <td>0.812</td>\n",
       "      <td>0.333</td>\n",
       "      <td>0.824</td>\n",
       "    </tr>\n",
       "    <tr>\n",
       "      <th>4</th>\n",
       "      <td>dad</td>\n",
       "      <td>0.857</td>\n",
       "      <td>0.412</td>\n",
       "      <td>0.786</td>\n",
       "    </tr>\n",
       "    <tr>\n",
       "      <th>26</th>\n",
       "      <td>wonder</td>\n",
       "      <td>0.939</td>\n",
       "      <td>0.771</td>\n",
       "      <td>0.765</td>\n",
       "    </tr>\n",
       "  </tbody>\n",
       "</table>\n",
       "</div>"
      ],
      "text/plain": [
       "      Words  valence  arousal  dominance\n",
       "97  impress    0.816    0.744      0.895\n",
       "87    legit    0.747    0.427      0.849\n",
       "40   father    0.812    0.333      0.824\n",
       "4       dad    0.857    0.412      0.786\n",
       "26   wonder    0.939    0.771      0.765"
      ]
     },
     "execution_count": 13,
     "metadata": {},
     "output_type": "execute_result"
    }
   ],
   "source": [
    "df_NRC_man.sort_values(\"dominance\", ascending=False).head()"
   ]
  },
  {
   "cell_type": "code",
   "execution_count": 14,
   "metadata": {},
   "outputs": [
    {
     "data": {
      "text/html": [
       "<div>\n",
       "<style scoped>\n",
       "    .dataframe tbody tr th:only-of-type {\n",
       "        vertical-align: middle;\n",
       "    }\n",
       "\n",
       "    .dataframe tbody tr th {\n",
       "        vertical-align: top;\n",
       "    }\n",
       "\n",
       "    .dataframe thead th {\n",
       "        text-align: right;\n",
       "    }\n",
       "</style>\n",
       "<table border=\"1\" class=\"dataframe\">\n",
       "  <thead>\n",
       "    <tr style=\"text-align: right;\">\n",
       "      <th></th>\n",
       "      <th>Words</th>\n",
       "      <th>valence</th>\n",
       "      <th>arousal</th>\n",
       "      <th>dominance</th>\n",
       "    </tr>\n",
       "  </thead>\n",
       "  <tbody>\n",
       "    <tr>\n",
       "      <th>74</th>\n",
       "      <td>freak</td>\n",
       "      <td>0.052</td>\n",
       "      <td>0.839</td>\n",
       "      <td>0.464</td>\n",
       "    </tr>\n",
       "    <tr>\n",
       "      <th>92</th>\n",
       "      <td>slut</td>\n",
       "      <td>0.071</td>\n",
       "      <td>0.808</td>\n",
       "      <td>0.309</td>\n",
       "    </tr>\n",
       "    <tr>\n",
       "      <th>36</th>\n",
       "      <td>cheat</td>\n",
       "      <td>0.125</td>\n",
       "      <td>0.776</td>\n",
       "      <td>0.400</td>\n",
       "    </tr>\n",
       "    <tr>\n",
       "      <th>124</th>\n",
       "      <td>creepy</td>\n",
       "      <td>0.125</td>\n",
       "      <td>0.861</td>\n",
       "      <td>0.373</td>\n",
       "    </tr>\n",
       "    <tr>\n",
       "      <th>82</th>\n",
       "      <td>scared</td>\n",
       "      <td>0.146</td>\n",
       "      <td>0.828</td>\n",
       "      <td>0.185</td>\n",
       "    </tr>\n",
       "  </tbody>\n",
       "</table>\n",
       "</div>"
      ],
      "text/plain": [
       "      Words  valence  arousal  dominance\n",
       "74    freak    0.052    0.839      0.464\n",
       "92     slut    0.071    0.808      0.309\n",
       "36    cheat    0.125    0.776      0.400\n",
       "124  creepy    0.125    0.861      0.373\n",
       "82   scared    0.146    0.828      0.185"
      ]
     },
     "execution_count": 14,
     "metadata": {},
     "output_type": "execute_result"
    }
   ],
   "source": [
    "df_NRC_woman.sort_values(\"valence\").head()"
   ]
  },
  {
   "cell_type": "code",
   "execution_count": 15,
   "metadata": {},
   "outputs": [
    {
     "data": {
      "text/html": [
       "<div>\n",
       "<style scoped>\n",
       "    .dataframe tbody tr th:only-of-type {\n",
       "        vertical-align: middle;\n",
       "    }\n",
       "\n",
       "    .dataframe tbody tr th {\n",
       "        vertical-align: top;\n",
       "    }\n",
       "\n",
       "    .dataframe thead th {\n",
       "        text-align: right;\n",
       "    }\n",
       "</style>\n",
       "<table border=\"1\" class=\"dataframe\">\n",
       "  <thead>\n",
       "    <tr style=\"text-align: right;\">\n",
       "      <th></th>\n",
       "      <th>Words</th>\n",
       "      <th>valence</th>\n",
       "      <th>arousal</th>\n",
       "      <th>dominance</th>\n",
       "    </tr>\n",
       "  </thead>\n",
       "  <tbody>\n",
       "    <tr>\n",
       "      <th>13</th>\n",
       "      <td>undress</td>\n",
       "      <td>0.438</td>\n",
       "      <td>0.900</td>\n",
       "      <td>0.336</td>\n",
       "    </tr>\n",
       "    <tr>\n",
       "      <th>125</th>\n",
       "      <td>naked</td>\n",
       "      <td>0.323</td>\n",
       "      <td>0.885</td>\n",
       "      <td>0.288</td>\n",
       "    </tr>\n",
       "    <tr>\n",
       "      <th>124</th>\n",
       "      <td>creepy</td>\n",
       "      <td>0.125</td>\n",
       "      <td>0.861</td>\n",
       "      <td>0.373</td>\n",
       "    </tr>\n",
       "    <tr>\n",
       "      <th>47</th>\n",
       "      <td>jealous</td>\n",
       "      <td>0.173</td>\n",
       "      <td>0.855</td>\n",
       "      <td>0.345</td>\n",
       "    </tr>\n",
       "    <tr>\n",
       "      <th>122</th>\n",
       "      <td>giddy</td>\n",
       "      <td>0.438</td>\n",
       "      <td>0.847</td>\n",
       "      <td>0.611</td>\n",
       "    </tr>\n",
       "  </tbody>\n",
       "</table>\n",
       "</div>"
      ],
      "text/plain": [
       "       Words  valence  arousal  dominance\n",
       "13   undress    0.438    0.900      0.336\n",
       "125    naked    0.323    0.885      0.288\n",
       "124   creepy    0.125    0.861      0.373\n",
       "47   jealous    0.173    0.855      0.345\n",
       "122    giddy    0.438    0.847      0.611"
      ]
     },
     "execution_count": 15,
     "metadata": {},
     "output_type": "execute_result"
    }
   ],
   "source": [
    "df_NRC_woman.sort_values(\"arousal\", ascending=False).head()"
   ]
  },
  {
   "cell_type": "code",
   "execution_count": 16,
   "metadata": {},
   "outputs": [
    {
     "data": {
      "text/html": [
       "<div>\n",
       "<style scoped>\n",
       "    .dataframe tbody tr th:only-of-type {\n",
       "        vertical-align: middle;\n",
       "    }\n",
       "\n",
       "    .dataframe tbody tr th {\n",
       "        vertical-align: top;\n",
       "    }\n",
       "\n",
       "    .dataframe thead th {\n",
       "        text-align: right;\n",
       "    }\n",
       "</style>\n",
       "<table border=\"1\" class=\"dataframe\">\n",
       "  <thead>\n",
       "    <tr style=\"text-align: right;\">\n",
       "      <th></th>\n",
       "      <th>Words</th>\n",
       "      <th>valence</th>\n",
       "      <th>arousal</th>\n",
       "      <th>dominance</th>\n",
       "    </tr>\n",
       "  </thead>\n",
       "  <tbody>\n",
       "    <tr>\n",
       "      <th>131</th>\n",
       "      <td>legit</td>\n",
       "      <td>0.747</td>\n",
       "      <td>0.427</td>\n",
       "      <td>0.849</td>\n",
       "    </tr>\n",
       "    <tr>\n",
       "      <th>55</th>\n",
       "      <td>dad</td>\n",
       "      <td>0.857</td>\n",
       "      <td>0.412</td>\n",
       "      <td>0.786</td>\n",
       "    </tr>\n",
       "    <tr>\n",
       "      <th>90</th>\n",
       "      <td>charmer</td>\n",
       "      <td>0.882</td>\n",
       "      <td>0.683</td>\n",
       "      <td>0.782</td>\n",
       "    </tr>\n",
       "    <tr>\n",
       "      <th>64</th>\n",
       "      <td>wonder</td>\n",
       "      <td>0.939</td>\n",
       "      <td>0.771</td>\n",
       "      <td>0.765</td>\n",
       "    </tr>\n",
       "    <tr>\n",
       "      <th>63</th>\n",
       "      <td>confront</td>\n",
       "      <td>0.281</td>\n",
       "      <td>0.760</td>\n",
       "      <td>0.746</td>\n",
       "    </tr>\n",
       "  </tbody>\n",
       "</table>\n",
       "</div>"
      ],
      "text/plain": [
       "        Words  valence  arousal  dominance\n",
       "131     legit    0.747    0.427      0.849\n",
       "55        dad    0.857    0.412      0.786\n",
       "90    charmer    0.882    0.683      0.782\n",
       "64     wonder    0.939    0.771      0.765\n",
       "63   confront    0.281    0.760      0.746"
      ]
     },
     "execution_count": 16,
     "metadata": {},
     "output_type": "execute_result"
    }
   ],
   "source": [
    "df_NRC_woman.sort_values(\"dominance\", ascending=False).head()"
   ]
  },
  {
   "cell_type": "markdown",
   "metadata": {},
   "source": [
    "# Pretesting the distribution of the sentiment scores "
   ]
  },
  {
   "cell_type": "code",
   "execution_count": 17,
   "metadata": {},
   "outputs": [
    {
     "name": "stdout",
     "output_type": "stream",
     "text": [
      "0.04328349068974561 0.03143980068187779 0.02267978678206136\n"
     ]
    }
   ],
   "source": [
    "print(df_NRC_man[\"valence\"].var(),df_NRC_man[\"arousal\"].var(),df_NRC_man[\"dominance\"].var() )"
   ]
  },
  {
   "cell_type": "code",
   "execution_count": 18,
   "metadata": {},
   "outputs": [
    {
     "name": "stdout",
     "output_type": "stream",
     "text": [
      "0.05456845865139949 0.02957960600277585 0.01931380060143419\n"
     ]
    }
   ],
   "source": [
    "print(df_NRC_woman[\"valence\"].var(),df_NRC_woman[\"arousal\"].var(),df_NRC_woman[\"dominance\"].var() )"
   ]
  },
  {
   "cell_type": "code",
   "execution_count": 19,
   "metadata": {},
   "outputs": [],
   "source": [
    "def check_normal_dist(df,subject, gender):\n",
    "    import scipy.stats as stats\n",
    "    import numpy as np\n",
    "    import matplotlib.pyplot as plt\n",
    "    %matplotlib inline\n",
    "    from scipy import stats\n",
    "\n",
    "    z =  (df[subject]- np.mean(df[subject]))/np.std(df[subject])\n",
    "    stats.probplot(z, dist=\"norm\", plot=plt)\n",
    "    plt.title(f\"Normal Q-Q plot ({gender})\")\n",
    "    plt.show()\n",
    "   \n",
    "    print(\"Kolmogorov–Smirnov test:\", stats.kstest(df[subject],\n",
    "               stats.norm.cdf))"
   ]
  },
  {
   "cell_type": "markdown",
   "metadata": {},
   "source": [
    "## Visualization of the QQ-Plot based on https://towardsdatascience.com/q-q-plots-explained-5aa8495426c0"
   ]
  },
  {
   "cell_type": "code",
   "execution_count": 20,
   "metadata": {},
   "outputs": [
    {
     "name": "stderr",
     "output_type": "stream",
     "text": [
      "\n",
      "Bad key figure.labelsize in file C:\\Users\\Andreas\\anaconda3\\lib\\site-packages\\matplotlib\\mpl-data\\stylelib\\classic (2).mplstyle, line 310 ('figure.labelsize:   medium    # size of the figure label')\n",
      "You probably need to get an updated matplotlibrc file from\n",
      "https://github.com/matplotlib/matplotlib/blob/v3.5.3/matplotlibrc.template\n",
      "or from the matplotlib source distribution\n",
      "\n",
      "Bad key figure.labelweight in file C:\\Users\\Andreas\\anaconda3\\lib\\site-packages\\matplotlib\\mpl-data\\stylelib\\classic (2).mplstyle, line 311 ('figure.labelweight: normal    # weight of the figure label')\n",
      "You probably need to get an updated matplotlibrc file from\n",
      "https://github.com/matplotlib/matplotlib/blob/v3.5.3/matplotlibrc.template\n",
      "or from the matplotlib source distribution\n"
     ]
    },
    {
     "data": {
      "image/png": "[encoded data removed]",
      "text/plain": [
       "<Figure size 432x288 with 1 Axes>"
      ]
     },
     "metadata": {
      "needs_background": "light"
     },
     "output_type": "display_data"
    },
    {
     "name": "stdout",
     "output_type": "stream",
     "text": [
      "Kolmogorov–Smirnov test: KstestResult(statistic=0.5748097587474935, pvalue=7.693721965542971e-42)\n"
     ]
    }
   ],
   "source": [
    "check_normal_dist(df_NRC_woman, \"arousal\", \"woman\")"
   ]
  },
  {
   "cell_type": "code",
   "execution_count": 21,
   "metadata": {},
   "outputs": [
    {
     "data": {
      "image/png": "[encoded data removed]",
      "text/plain": [
       "<Figure size 432x288 with 1 Axes>"
      ]
     },
     "metadata": {
      "needs_background": "light"
     },
     "output_type": "display_data"
    },
    {
     "name": "stdout",
     "output_type": "stream",
     "text": [
      "Kolmogorov–Smirnov test: KstestResult(statistic=0.5515531762412103, pvalue=5.696744187402635e-36)\n"
     ]
    }
   ],
   "source": [
    "check_normal_dist(df_NRC_man, \"arousal\",\"man\")"
   ]
  },
  {
   "cell_type": "markdown",
   "metadata": {},
   "source": [
    "# Testing for statistical significance with Welsh's t-test"
   ]
  },
  {
   "cell_type": "code",
   "execution_count": 22,
   "metadata": {},
   "outputs": [],
   "source": [
    "def apply_welch_test(df_1,df_2,score_type):\n",
    "    from scipy.stats import ttest_ind\n",
    "    from scipy.stats import levene \n",
    "    import math\n",
    "    import statistics\n",
    "    print(score_type)\n",
    "    stat, p = ttest_ind(df_1[score_type].tolist(),df_2[score_type].tolist(), nan_policy=\"omit\", alternative=\"two-sided\",equal_var=False )#, equal_var=False)\n",
    "    alpha = 0.05\n",
    "    print(\"Statistics=%3f, p=%.3f\" % (stat, p))\n",
    "    if p < alpha:\n",
    "        print(\"Different distributions (reject H0)\")\n",
    "        if df_1[score_type].mean() > df_2[score_type].mean():\n",
    "            print(f\"Average {score_type} for female terms is bigger:\", df_1[score_type].mean(), \">\" , df_2[score_type].mean())\n",
    "        else:\n",
    "            print(f\"Average {score_type} for male terms is bigger:\", df_2[score_type].mean(), \">\" , df_1[score_type].mean())\n",
    "    else:\n",
    "        print(\"Same distribution (fail to reject H0)\")\n",
    "    if p < alpha:\n",
    "        d = (df_1[score_type].mean() - df_2[score_type].mean())/math.sqrt(((df_1[score_type].var() + df_2[score_type].var())/2))\n",
    "        \n",
    "        print( \"Cohens D:\", d)\n",
    "    print(\"Amount female terms:\", len(df_1), \", Amount male terms:\", len(df_2))\n",
    "    print(\"------------------------------\")"
   ]
  },
  {
   "cell_type": "code",
   "execution_count": 23,
   "metadata": {},
   "outputs": [
    {
     "name": "stdout",
     "output_type": "stream",
     "text": [
      "valence\n",
      "Statistics=0.951625, p=0.342\n",
      "Same distribution (fail to reject H0)\n",
      "Amount female terms: 132 , Amount male terms: 124\n",
      "------------------------------\n",
      "arousal\n",
      "Statistics=1.607547, p=0.109\n",
      "Same distribution (fail to reject H0)\n",
      "Amount female terms: 132 , Amount male terms: 124\n",
      "------------------------------\n",
      "dominance\n",
      "Statistics=0.586504, p=0.558\n",
      "Same distribution (fail to reject H0)\n",
      "Amount female terms: 132 , Amount male terms: 124\n",
      "------------------------------\n"
     ]
    }
   ],
   "source": [
    "apply_welch_test(df_NRC_woman, df_NRC_man,\"valence\")\n",
    "apply_welch_test(df_NRC_woman, df_NRC_man,\"arousal\")\n",
    "apply_welch_test(df_NRC_woman, df_NRC_man,\"dominance\")"
   ]
  }
 ],
 "metadata": {
  "kernelspec": {
   "display_name": "myenv",
   "language": "python",
   "name": "myenv"
  },
  "language_info": {
   "codemirror_mode": {
    "name": "ipython",
    "version": 3
   },
   "file_extension": ".py",
   "mimetype": "text/x-python",
   "name": "python",
   "nbconvert_exporter": "python",
   "pygments_lexer": "ipython3",
   "version": "3.8.5"
  }
 },
 "nbformat": 4,
 "nbformat_minor": 4
}
