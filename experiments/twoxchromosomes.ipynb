{
 "cells": [
  {
   "cell_type": "code",
   "execution_count": 3,
   "metadata": {},
   "outputs": [],
   "source": [
    "import pandas as pd\n",
    "from gensim.models import FastText\n"
   ]
  },
  {
   "cell_type": "code",
   "execution_count": 2,
   "metadata": {},
   "outputs": [],
   "source": [
    "df = pd.read_hdf(\"../datasets/TwoXChromosomes.h5\", key=\"TwoXChromosomes\")"
   ]
  },
  {
   "cell_type": "code",
   "execution_count": 5,
   "metadata": {},
   "outputs": [],
   "source": [
    "model_sent = FastText.load(\"../models/subreddit_level/fasttext_TwoXChromosomes_senti.bin\")"
   ]
  },
  {
   "cell_type": "code",
   "execution_count": 29,
   "metadata": {},
   "outputs": [],
   "source": [
    "NRC = pd.read_csv('../datasets/NRC-VAD-Lexicon.txt', sep=\"\\t\", header=None, names=[\"Words\", \"valence\", \"arousal\", \"dominance\"])"
   ]
  },
  {
   "cell_type": "code",
   "execution_count": 110,
   "metadata": {},
   "outputs": [],
   "source": [
    "token_list = df[\"token_list\"].tolist()\n",
    "flatlist = [item for sublist in token_list for item in sublist]"
   ]
  },
  {
   "cell_type": "code",
   "execution_count": 114,
   "metadata": {},
   "outputs": [],
   "source": [
    "def identify_weigths(flat_list):\n",
    "    from collections import Counter\n",
    "    female=[\"sister\" , \"female\" , \"woman\" , \"girl\" , \"daughter\" , \"she\" , \"hers\" , \"her\"]\n",
    "    male=[\"brother\" , \"male\" , \"man\" , \"boy\" , \"son\" , \"he\" , \"his\" , \"him\"] \n",
    "    \n",
    "    tokens = [item for sublist in flat_list for item in sublist]\n",
    "    term_list_woman = []\n",
    "    for i in tokens:\n",
    "        if i in female:\n",
    "            term_list_woman.append(i)\n",
    "    counter = Counter(term_list_woman)\n",
    "    \n",
    "    liste_woman = []\n",
    "    weights = []\n",
    "    \n",
    "    for i in counter:\n",
    "        if counter[i] > 100:\n",
    "            liste_woman.append(i)\n",
    "            weights.append(counter[i])\n",
    "            \n",
    "    term_list_man = []\n",
    "    for i in tokens:\n",
    "        if i in male:\n",
    "            term_list_man.append(i)\n",
    "    counter = Counter(term_list_man)\n",
    "    \n",
    "    liste_man = []\n",
    "    weights_man = []\n",
    "    \n",
    "    for i in counter:\n",
    "        if counter[i] > 100:\n",
    "            liste_man.append(i)\n",
    "            weights_man.append(counter[i])\n",
    "    \n",
    "    return [liste_woman, weights], [liste_man, weights_man] "
   ]
  },
  {
   "cell_type": "code",
   "execution_count": 115,
   "metadata": {},
   "outputs": [],
   "source": [
    "woman_terms_freq, man_terms_freq = identify_weigths(flatlist)"
   ]
  },
  {
   "cell_type": "code",
   "execution_count": 116,
   "metadata": {},
   "outputs": [
    {
     "data": {
      "text/plain": [
       "([['she', 'woman', 'girl', 'female', 'her', 'daughter', 'sister', 'hers'],\n",
       "  [127371, 170086, 16913, 12154, 41544, 7337, 5265, 337]],\n",
       " [['he', 'his', 'man', 'boy', 'male', 'son', 'brother', 'him'],\n",
       "  [247152, 57473, 140353, 7640, 17702, 4272, 3778, 344]])"
      ]
     },
     "execution_count": 116,
     "metadata": {},
     "output_type": "execute_result"
    }
   ],
   "source": [
    "woman_terms_freq, man_terms_freq"
   ]
  },
  {
   "cell_type": "code",
   "execution_count": 117,
   "metadata": {},
   "outputs": [],
   "source": [
    "def calculate_centroid_vectors(woman_terms_freq, man_terms_freq, model, NRC, n_words):\n",
    "    import numpy as np\n",
    "    word_vectors = model.wv\n",
    "    centroid_woman = np.ma.average([word_vectors[w] for w in woman_terms_freq[0]], weights= woman_terms_freq[1] ,axis=0)\n",
    "\n",
    "    vector_woman = word_vectors.similar_by_vector(centroid_woman,topn=n_words)\n",
    "    \n",
    "    liste_woman = []\n",
    "    for i in vector_woman:\n",
    "        liste_woman.append(i[0])\n",
    "    \n",
    "    print(\"Top 10 (woman)\", liste_woman[:10])\n",
    "    \n",
    "    intersection_woman = list(set(liste_woman) & set(NRC[\"Words\"]))\n",
    "    \n",
    "    intersection_woman_ordererd = []\n",
    "    for i in vector_woman:\n",
    "        if i[0] in intersection_woman:\n",
    "            intersection_woman_ordererd.append(i[0])\n",
    "    \n",
    "    df_intersection_woman = pd.DataFrame(intersection_woman_ordererd, columns=[\"Words\"])\n",
    "    df_intersection_woman = df_intersection_woman.merge(NRC, how=\"left\", left_on=\"Words\", right_on=\"Words\")\n",
    "    \n",
    "    \n",
    "    \n",
    "    centroid_man = np.ma.average([word_vectors[w] for w in man_terms_freq[0]], weights= man_terms_freq[1] ,axis=0)\n",
    "\n",
    "    vector_man = word_vectors.similar_by_vector(centroid_man,topn=n_words)\n",
    "    \n",
    "    print(vector_man)\n",
    "    liste_man = []\n",
    "    for i in vector_man:\n",
    "        liste_man.append(i[0])\n",
    "    \n",
    "    print(\"Top 10 (man)\", liste_man[:10])\n",
    "    \n",
    "    intersection_man = list(set(liste_man) & set(NRC[\"Words\"]))\n",
    "    \n",
    "    intersection_man_ordererd = []\n",
    "    for i in vector_man:\n",
    "        if i[0] in intersection_man:\n",
    "            intersection_man_ordererd.append(i[0])\n",
    "    \n",
    "    df_intersection_man = pd.DataFrame(intersection_man_ordererd, columns=[\"Words\"])\n",
    "    df_intersection_man = df_intersection_man.merge(NRC, how=\"left\", left_on=\"Words\", right_on=\"Words\")\n",
    "    \n",
    "    \n",
    "    return df_intersection_woman, df_intersection_man, liste_woman, liste_man"
   ]
  },
  {
   "cell_type": "code",
   "execution_count": 118,
   "metadata": {},
   "outputs": [
    {
     "name": "stdout",
     "output_type": "stream",
     "text": [
      "Top 10 (woman) ['she', 'woman', 'her', 'yet', 'herself', 'daughter', 'girl', 'lady', 'man', 'sister']\n",
      "[('he', 0.9406763911247253), ('guy', 0.8663082718849182), ('his', 0.8518936038017273), ('himself', 0.8368770480155945), ('dude', 0.8190456032752991), ('boyfriend', 0.8107117414474487), ('girlfriend', 0.7952146530151367), ('gf', 0.7936909794807434), ('instantly', 0.7930752635002136), ('bf', 0.7923997044563293), ('would', 0.7732288241386414), ('ass', 0.7718729972839355), ('him', 0.7669090628623962), ('either', 0.7652596831321716), ('let', 0.7651976943016052), ('man', 0.7647193670272827), ('ex', 0.7625066637992859), ('husband', 0.7615591883659363), ('son', 0.7607958316802979), ('wife', 0.7592384219169617), ('clearly', 0.757922351360321), ('immediately', 0.7564546465873718), ('proceed', 0.7560580372810364), ('somehow', 0.7492963075637817), ('she', 0.7462555766105652), ('way', 0.7461507320404053), ('brother', 0.7460767030715942), ('exhusband', 0.7455827593803406), ('sone', 0.7446507811546326), ('probably', 0.7420731782913208), ('stop', 0.7402940392494202), ('tell', 0.7396936416625977), ('bluntly', 0.7393344640731812), ('badly', 0.7349613308906555), ('dad', 0.7323029041290283), ('fact', 0.7277858853340149), ('repeatedly', 0.7275341153144836), ('even', 0.7264118790626526), ('pos', 0.7233960032463074), ('never', 0.7222029566764832), ('could', 0.7218290567398071), ('bloke', 0.7213500142097473), ('pissy', 0.7205301523208618), ('hint', 0.718781054019928), ('buddy', 0.7186554074287415), ('suddenly', 0.7170708179473877), ('gentlemanly', 0.7148876190185547), ('expect', 0.7147249579429626), ('yet', 0.713740885257721), ('disrespectfully', 0.7135318517684937), ('rather', 0.7121356725692749), ('say', 0.7106635570526123), ('something', 0.7106281518936157), ('asshole', 0.7091089487075806), ('actually', 0.7089751958847046), ('know', 0.7086010575294495), ('someone', 0.7085251808166504), ('offended', 0.7067355513572693), ('constantly', 0.7053517699241638), ('bluff', 0.7052350640296936), ('mad', 0.7051618099212646), ('drunkenly', 0.7042603492736816), ('nagging', 0.703890860080719), ('cuz', 0.7035698294639587), ('hubby', 0.7032288312911987), ('blankly', 0.7032149434089661), ('mantrum', 0.701353907585144), ('sputter', 0.7006019353866577), ('try', 0.7004875540733337), ('innocently', 0.7001932263374329), ('instead', 0.6995320320129395), ('everytime', 0.698958694934845), ('maybe', 0.6973702907562256), ('inappropriately', 0.6968594789505005), ('berate', 0.6955689787864685), ('mean', 0.6953129172325134), ('want', 0.6951417922973633), ('dare', 0.6951308250427246), ('course', 0.695040225982666), ('jokingly', 0.6948450207710266), ('anyway', 0.6944566369056702), ('insist', 0.6943991184234619), ('anything', 0.6941538453102112), ('douchey', 0.6932953000068665), ('obviously', 0.6930433511734009), ('whenever', 0.69284588098526), ('definitly', 0.6920009255409241), ('think', 0.6919960975646973), ('intently', 0.6914185881614685), ('admit', 0.6896530389785767), ('one', 0.6887984275817871), ('sweetly', 0.6877932548522949), ('ahole', 0.6874359846115112), ('excuse', 0.6873598694801331), ('whilst', 0.6869809031486511), ('creep', 0.6856030821800232), ('lady', 0.6851184964179993), ('arse', 0.6850283145904541), ('eventually', 0.6846621036529541), ('audacity', 0.6840893626213074), ('come', 0.6839677095413208), ('disrespecting', 0.6838890314102173), ('pester', 0.6832494735717773), ('cocky', 0.6817391514778137), ('yell', 0.6806095242500305), ('cos', 0.6800989508628845), ('creepily', 0.6796035170555115), ('friend', 0.6794346570968628), ('patiently', 0.6790280938148499), ('cordial', 0.6787770986557007), ('kidding', 0.678173840045929), ('exactly', 0.6780781745910645), ('partner', 0.6777149438858032), ('grownup', 0.6774700880050659), ('guess', 0.6763824224472046), ('sh', 0.6757331490516663), ('abusively', 0.675697922706604), ('cuss', 0.6756486892700195), ('pouty', 0.6753997802734375), ('somebody', 0.6750774383544922), ('bother', 0.6750298142433167), ('dick', 0.6749972105026245), ('otherwise', 0.6742677688598633), ('millisecond', 0.6741369366645813), ('bugger', 0.6740362048149109), ('ever', 0.6739474534988403), ('whoever', 0.6738329529762268), ('sulk', 0.6735734939575195), ('bet', 0.6729748249053955), ('around', 0.6727588176727295), ('prick', 0.6723948121070862), ('least', 0.6715930700302124), ('jerk', 0.6710320115089417), ('thing', 0.669752836227417), ('simply', 0.6682751178741455), ('girl', 0.6681848764419556), ('turn', 0.6678107380867004), ('mom', 0.6672804951667786), ('get', 0.6672274470329285), ('always', 0.6670666337013245), ('realize', 0.6670633554458618), ('lovingly', 0.6665201187133789), ('everything', 0.6659983992576599), ('attached', 0.6659799218177795), ('factly', 0.6658405065536499), ('still', 0.6655646562576294), ('presumably', 0.6654287576675415), ('awkwardly', 0.665355384349823), ('promptly', 0.6647050976753235), ('mutter', 0.6642374992370605), ('daughter', 0.6641908288002014), ('sheepish', 0.6636480689048767), ('begging', 0.6628974676132202), ('complain', 0.6628183126449585), ('definitely', 0.6627635955810547), ('back', 0.6626167893409729), ('fella', 0.6625252366065979), ('alll', 0.6615448594093323), ('later', 0.6614781022071838), ('swearing', 0.6613267064094543), ('freak', 0.6610326766967773), ('accidentally', 0.659856915473938), ('boss', 0.6591593027114868), ('nag', 0.658662736415863), ('basically', 0.658644437789917), ('dump', 0.6586344242095947), ('honestly', 0.6585794687271118), ('handsy', 0.6584879159927368), ('father', 0.6579281091690063), ('talk', 0.6576551795005798), ('coworker', 0.6573696732521057), ('bizarrely', 0.6571171283721924), ('cheerfully', 0.6570614576339722), ('absolutely', 0.6566011905670166), ('fault', 0.6564639210700989), ('weenie', 0.6561434268951416), ('fiance', 0.6559783220291138), ('incessantly', 0.6559354066848755), ('pushover', 0.6558217406272888), ('fucker', 0.6556020975112915), ('loudly', 0.6554351449012756), ('kick', 0.6553288102149963), ('douchebag', 0.655282199382782), ('frantically', 0.6552314162254333), ('verbally', 0.6544787883758545), ('go', 0.654449462890625), ('bitch', 0.6544033288955688), ('piss', 0.6540775895118713), ('head', 0.6538558602333069), ('boi', 0.6535945534706116), ('bfs', 0.6529450416564941), ('nothing', 0.652714192867279), ('suppose', 0.6522009372711182), ('certainly', 0.6520271301269531), ('sulky', 0.6518063545227051), ('magically', 0.6517570614814758), ('yo', 0.6516863703727722), ('literally', 0.6516079306602478), ('creepiness', 0.6515781879425049), ('wonder', 0.6514737010002136), ('homeboy', 0.6511444449424744), ('speechless', 0.6511179208755493), ('kind', 0.6510255932807922), ('beg', 0.6509765386581421), ('all', 0.6503685712814331), ('apologize', 0.6503384113311768), ('hell', 0.6502765417098999), ('fellas', 0.6502068638801575), ('ok', 0.6499475240707397), ('need', 0.6496545076370239), ('casually', 0.6494057774543762), ('dicke', 0.649185061454773), ('petulant', 0.648939847946167), ('alone', 0.6489307284355164), ('texte', 0.6487912535667419), ('figure', 0.6486153602600098), ('fianc', 0.64838045835495), ('straight', 0.6482442617416382), ('asshat', 0.6474594473838806), ('lol', 0.6473007798194885), ('realise', 0.6472197771072388), ('shit', 0.6464967727661133), ('disrespect', 0.6463379859924316), ('pout', 0.6459577679634094), ('wingman', 0.6454976797103882), ('flatmate', 0.645453691482544), ('mommy', 0.6445202827453613), ('mope', 0.6444060206413269), ('talker', 0.6441698670387268), ('dispite', 0.6438301205635071), ('burly', 0.6437416076660156), ('convo', 0.6436218023300171), ('nonchalantly', 0.6436185836791992), ('upset', 0.6434427499771118), ('stammer', 0.6433031558990479), ('apparently', 0.642702579498291), ('kindly', 0.6422634124755859), ('time', 0.6422576904296875), ('complainant', 0.642076313495636), ('hang', 0.6416767835617065), ('teehee', 0.6416656970977783), ('already', 0.6415867209434509), ('masterbate', 0.6414122581481934), ('legitimately', 0.6412225961685181), ('manger', 0.6403583884239197), ('aggressively', 0.6403552293777466), ('lay', 0.6401652097702026), ('flinch', 0.6400123834609985), ('hey', 0.6398234367370605), ('ly', 0.6396636366844177), ('okay', 0.6394767761230469), ('beacuse', 0.6390432715415955), ('creeper', 0.6390135884284973), ('whine', 0.6387807130813599), ('brag', 0.6387261748313904), ('silently', 0.6378689408302307), ('anymore', 0.63774174451828), ('tactfully', 0.6376433372497559), ('boy', 0.6374270915985107), ('chase', 0.637325644493103), ('annoyed', 0.6371753215789795), ('breadcrumb', 0.6369403004646301), ('feeler', 0.6368157267570496), ('hesitation', 0.6367843747138977), ('face', 0.6366673111915588), ('fool', 0.6366496086120605), ('confess', 0.6366138458251953), ('creeps', 0.6366112232208252), ('nah', 0.6361085772514343), ('graciously', 0.6355286836624146), ('snap', 0.6353766322135925), ('pickme', 0.6351909041404724), ('fondly', 0.6351720690727234), ('somone', 0.6349581480026245), ('pretend', 0.6348046064376831), ('nightly', 0.6345179677009583), ('afterward', 0.6343827843666077), ('bro', 0.6341407299041748), ('mam', 0.6340936422348022), ('leave', 0.633852481842041), ('dickhead', 0.6336931586265564), ('like', 0.633686900138855), ('appeasement', 0.6332884430885315), ('enough', 0.6330425143241882), ('afraid', 0.6329579949378967), ('trouble', 0.6327511072158813), ('whining', 0.632468044757843), ('ghost', 0.6322738528251648), ('though', 0.632272481918335), ('possibly', 0.6320343613624573), ('deathbed', 0.6317774653434753), ('confidently', 0.6315224766731262), ('behaviour', 0.6312443017959595), ('goofball', 0.6311317086219788), ('start', 0.6311118006706238), ('beat', 0.6306938529014587), ('wither', 0.6305001974105835), ('excitedly', 0.6304405927658081), ('flatly', 0.6301286220550537), ('whatever', 0.6300118565559387), ('dumbass', 0.6299070715904236), ('pusher', 0.629903256893158), ('annoy', 0.6298910975456238), ('immediatly', 0.6298173666000366), ('politely', 0.6292698979377747), ('respond', 0.6290464997291565), ('gently', 0.6289395689964294), ('ask', 0.6289215683937073), ('anally', 0.6287756562232971), ('twice', 0.628754198551178), ('psycho', 0.6286429762840271), ('startled', 0.6285906434059143), ('idiot', 0.6283814907073975), ('misbehave', 0.628265380859375), ('unmanly', 0.628258228302002), ('knock', 0.6281309127807617), ('pettiness', 0.6281039714813232), ('well', 0.6280889511108398), ('stepdad', 0.6280155777931213), ('tempt', 0.6278336644172668), ('whiney', 0.6275424361228943), ('see', 0.6274628043174744), ('sir', 0.6274586915969849), ('pathetically', 0.626704216003418), ('moment', 0.626646876335144), ('stalker', 0.6265992522239685), ('accidently', 0.6264508366584778), ('embarrass', 0.6264017224311829), ('apologise', 0.6263469457626343), ('remind', 0.6262537240982056), ('aside', 0.6261901259422302), ('dressed', 0.6258771419525146), ('unblock', 0.6258712410926819), ('ungrateful', 0.6252819895744324), ('dirty', 0.6249998211860657), ('afterwards', 0.6249414086341858), ('fuck', 0.6248555779457092), ('babe', 0.6248460412025452), ('suspiciously', 0.6247411966323853), ('coax', 0.6246786117553711), ('partne', 0.6242190599441528), ('floored', 0.6240956783294678), ('displeasure', 0.6238646507263184), ('really', 0.6238554120063782), ('without', 0.6238270998001099), ('unless', 0.6237708926200867), ('gentleman', 0.6237013936042786), ('possessive', 0.6235901713371277), ('her', 0.6234205365180969), ('mum', 0.6234190464019775), ('nasty', 0.6232506632804871), ('bday', 0.6231992244720459), ('impatient', 0.6230380535125732), ('chastise', 0.6227768659591675), ('git', 0.6226728558540344), ('litterally', 0.621781051158905), ('disrespectful', 0.6216492056846619), ('eager', 0.621479868888855), ('stand', 0.6212987303733826), ('laugh', 0.6211970448493958), ('grimace', 0.6211661100387573), ('ck', 0.6211078763008118), ('jolly', 0.621107280254364), ('liking', 0.6211047172546387), ('also', 0.6210631728172302), ('call', 0.6208697557449341), ('creepy', 0.6207717061042786), ('lover', 0.6205901503562927), ('motherfucker', 0.6204787492752075), ('tf', 0.6203246116638184), ('stepdaughter', 0.6201465725898743), ('simultaneously', 0.6201201677322388), ('godfather', 0.6200974583625793), ('cant', 0.6200217604637146), ('pleased', 0.6199974417686462), ('conceited', 0.6199579238891602), ('uninterested', 0.6199162006378174), ('lololol', 0.6197342872619629), ('fiancee', 0.6194561719894409), ('act', 0.6193460822105408), ('hon', 0.6190910935401917), ('jackass', 0.6190892457962036), ('dme', 0.618864119052887), ('assure', 0.6188448071479797), ('emasculate', 0.6187973618507385), ('yep', 0.6186351776123047), ('rando', 0.6183642148971558), ('hindsight', 0.6183604001998901), ('wanker', 0.6183066964149475), ('sit', 0.6180108189582825), ('yeesh', 0.6180077791213989), ('confront', 0.6178364753723145), ('playfully', 0.6177234649658203), ('little', 0.6177000403404236), ('anyone', 0.6176919937133789), ('pull', 0.6175241470336914), ('walk', 0.6174572706222534), ('snicker', 0.6171213984489441), ('put', 0.6170305013656616), ('nother', 0.6168894171714783), ('momma', 0.616534411907196), ('fathe', 0.6165129542350769), ('joking', 0.6163780093193054), ('disintereste', 0.6157665252685547), ('smack', 0.6156806349754333), ('smirk', 0.6154909133911133), ('yeah', 0.6154612302780151), ('end', 0.6154227256774902), ('show', 0.6153998970985413), ('manager', 0.6153994202613831), ('hand', 0.6153250932693481), ('dipshit', 0.6152462363243103), ('do', 0.6151741743087769), ('suprised', 0.6151273250579834), ('dingus', 0.614970326423645), ('overreact', 0.6147586107254028), ('catch', 0.6146828532218933), ('behavior', 0.6142877340316772), ('lolol', 0.6140170097351074), ('react', 0.6137738823890686), ('assume', 0.6135996580123901), ('despite', 0.6135640740394592), ('classmate', 0.6133294701576233), ('respectfully', 0.6131786108016968), ('might', 0.6131107211112976), ('reciprocation', 0.6129878759384155), ('attitude', 0.612739622592926), ('sire', 0.6126934289932251), ('break', 0.6125999689102173), ('exs', 0.6123801469802856), ('anytime', 0.6116113066673279), ('sort', 0.6115989685058594), ('stern', 0.6115431189537048), ('we', 0.6115268468856812), ('bed', 0.6112386584281921), ('reject', 0.6111825108528137), ('crap', 0.6108158826828003), ('persistence', 0.6107548475265503), ('person', 0.6106887459754944), ('completly', 0.610589861869812), ('hump', 0.6105621457099915), ('sister', 0.6104747653007507), ('continue', 0.6104136109352112), ('eww', 0.6098695397377014), ('since', 0.6098459362983704), ('uncle', 0.6098288297653198), ('stfu', 0.6095753312110901), ('manly', 0.6095154285430908), ('sweety', 0.6091760396957397), ('cock', 0.6090400218963623), ('persistently', 0.6089666485786438), ('earful', 0.6087961196899414), ('tel', 0.6087321639060974), ('softly', 0.6084226369857788), ('weirdo', 0.607747495174408), ('stuff', 0.6076618432998657), ('motherfucking', 0.6075921654701233), ('grumble', 0.607485830783844), ('overcompensate', 0.6074634790420532), ('damned', 0.6074584722518921), ('ing', 0.6073744893074036), ('standoffish', 0.607264518737793), ('cheerful', 0.6072184443473816), ('shitbird', 0.6071957945823669), ('feeble', 0.6071943044662476), ('hit', 0.6070115566253662), ('prob', 0.6068645119667053), ('heck', 0.606777012348175), ('silent', 0.6064968109130859), ('disappointment', 0.6060380339622498), ('manchild', 0.605958104133606), ('overheard', 0.6057355403900146), ('quietly', 0.605712354183197), ('wanna', 0.6055470108985901), ('puss', 0.6052402853965759), ('nice', 0.605173647403717), ('tease', 0.6048954129219055), ('siste', 0.6045621037483215), ('woman', 0.6044780015945435), ('finally', 0.6043470501899719), ('spouse', 0.6042422652244568), ('surprised', 0.604119062423706), ('ther', 0.6038398742675781), ('sarcastically', 0.6036159992218018), ('delt', 0.6035545468330383), ('accost', 0.6035246253013611), ('assholes', 0.6035056114196777), ('everloving', 0.6033524870872498), ('roomie', 0.6032876372337341), ('poorly', 0.6031984686851501), ('butthead', 0.6029320359230042), ('lest', 0.6028203368186951), ('bahaha', 0.6028007864952087), ('cop', 0.6027652025222778), ('momentarily', 0.6027095913887024), ('spitballe', 0.6026809215545654), ('emasculation', 0.6024027466773987), ('jobless', 0.6022965908050537), ('home', 0.602281928062439), ('ball', 0.6022136807441711)]\n",
      "Top 10 (man) ['he', 'guy', 'his', 'himself', 'dude', 'boyfriend', 'girlfriend', 'gf', 'instantly', 'bf']\n"
     ]
    }
   ],
   "source": [
    "df_NRC_woman , df_NRC_man , liste_woman, liste_man= calculate_centroid_vectors(woman_terms_freq, man_terms_freq, model_sent, NRC, 500)\n"
   ]
  },
  {
   "cell_type": "code",
   "execution_count": 119,
   "metadata": {},
   "outputs": [
    {
     "data": {
      "text/plain": [
       "274"
      ]
     },
     "execution_count": 119,
     "metadata": {},
     "output_type": "execute_result"
    }
   ],
   "source": [
    "len(df_NRC_man)"
   ]
  },
  {
   "cell_type": "code",
   "execution_count": 120,
   "metadata": {},
   "outputs": [
    {
     "data": {
      "text/html": [
       "<div>\n",
       "<style scoped>\n",
       "    .dataframe tbody tr th:only-of-type {\n",
       "        vertical-align: middle;\n",
       "    }\n",
       "\n",
       "    .dataframe tbody tr th {\n",
       "        vertical-align: top;\n",
       "    }\n",
       "\n",
       "    .dataframe thead th {\n",
       "        text-align: right;\n",
       "    }\n",
       "</style>\n",
       "<table border=\"1\" class=\"dataframe\">\n",
       "  <thead>\n",
       "    <tr style=\"text-align: right;\">\n",
       "      <th></th>\n",
       "      <th>Words</th>\n",
       "      <th>valence</th>\n",
       "      <th>arousal</th>\n",
       "      <th>dominance</th>\n",
       "    </tr>\n",
       "  </thead>\n",
       "  <tbody>\n",
       "    <tr>\n",
       "      <th>116</th>\n",
       "      <td>shit</td>\n",
       "      <td>0.000</td>\n",
       "      <td>0.678</td>\n",
       "      <td>0.294</td>\n",
       "    </tr>\n",
       "    <tr>\n",
       "      <th>150</th>\n",
       "      <td>afraid</td>\n",
       "      <td>0.010</td>\n",
       "      <td>0.775</td>\n",
       "      <td>0.245</td>\n",
       "    </tr>\n",
       "    <tr>\n",
       "      <th>110</th>\n",
       "      <td>hell</td>\n",
       "      <td>0.020</td>\n",
       "      <td>0.918</td>\n",
       "      <td>0.565</td>\n",
       "    </tr>\n",
       "    <tr>\n",
       "      <th>167</th>\n",
       "      <td>misbehave</td>\n",
       "      <td>0.020</td>\n",
       "      <td>0.847</td>\n",
       "      <td>0.304</td>\n",
       "    </tr>\n",
       "    <tr>\n",
       "      <th>188</th>\n",
       "      <td>disrespectful</td>\n",
       "      <td>0.031</td>\n",
       "      <td>0.694</td>\n",
       "      <td>0.273</td>\n",
       "    </tr>\n",
       "  </tbody>\n",
       "</table>\n",
       "</div>"
      ],
      "text/plain": [
       "             Words  valence  arousal  dominance\n",
       "116           shit    0.000    0.678      0.294\n",
       "150         afraid    0.010    0.775      0.245\n",
       "110           hell    0.020    0.918      0.565\n",
       "167      misbehave    0.020    0.847      0.304\n",
       "188  disrespectful    0.031    0.694      0.273"
      ]
     },
     "execution_count": 120,
     "metadata": {},
     "output_type": "execute_result"
    }
   ],
   "source": [
    "df_NRC_man.sort_values(\"valence\").head()"
   ]
  },
  {
   "cell_type": "code",
   "execution_count": 121,
   "metadata": {},
   "outputs": [
    {
     "data": {
      "text/html": [
       "<div>\n",
       "<style scoped>\n",
       "    .dataframe tbody tr th:only-of-type {\n",
       "        vertical-align: middle;\n",
       "    }\n",
       "\n",
       "    .dataframe tbody tr th {\n",
       "        vertical-align: top;\n",
       "    }\n",
       "\n",
       "    .dataframe thead th {\n",
       "        text-align: right;\n",
       "    }\n",
       "</style>\n",
       "<table border=\"1\" class=\"dataframe\">\n",
       "  <thead>\n",
       "    <tr style=\"text-align: right;\">\n",
       "      <th></th>\n",
       "      <th>Words</th>\n",
       "      <th>valence</th>\n",
       "      <th>arousal</th>\n",
       "      <th>dominance</th>\n",
       "    </tr>\n",
       "  </thead>\n",
       "  <tbody>\n",
       "    <tr>\n",
       "      <th>259</th>\n",
       "      <td>hit</td>\n",
       "      <td>0.235</td>\n",
       "      <td>0.931</td>\n",
       "      <td>0.679</td>\n",
       "    </tr>\n",
       "    <tr>\n",
       "      <th>178</th>\n",
       "      <td>fuck</td>\n",
       "      <td>0.198</td>\n",
       "      <td>0.930</td>\n",
       "      <td>0.446</td>\n",
       "    </tr>\n",
       "    <tr>\n",
       "      <th>173</th>\n",
       "      <td>stalker</td>\n",
       "      <td>0.177</td>\n",
       "      <td>0.930</td>\n",
       "      <td>0.639</td>\n",
       "    </tr>\n",
       "    <tr>\n",
       "      <th>129</th>\n",
       "      <td>aggressively</td>\n",
       "      <td>0.250</td>\n",
       "      <td>0.926</td>\n",
       "      <td>0.688</td>\n",
       "    </tr>\n",
       "    <tr>\n",
       "      <th>164</th>\n",
       "      <td>psycho</td>\n",
       "      <td>0.039</td>\n",
       "      <td>0.922</td>\n",
       "      <td>0.560</td>\n",
       "    </tr>\n",
       "  </tbody>\n",
       "</table>\n",
       "</div>"
      ],
      "text/plain": [
       "            Words  valence  arousal  dominance\n",
       "259           hit    0.235    0.931      0.679\n",
       "178          fuck    0.198    0.930      0.446\n",
       "173       stalker    0.177    0.930      0.639\n",
       "129  aggressively    0.250    0.926      0.688\n",
       "164        psycho    0.039    0.922      0.560"
      ]
     },
     "execution_count": 121,
     "metadata": {},
     "output_type": "execute_result"
    }
   ],
   "source": [
    "df_NRC_man.sort_values(\"arousal\", ascending=False).head()"
   ]
  },
  {
   "cell_type": "code",
   "execution_count": 122,
   "metadata": {},
   "outputs": [
    {
     "data": {
      "text/html": [
       "<div>\n",
       "<style scoped>\n",
       "    .dataframe tbody tr th:only-of-type {\n",
       "        vertical-align: middle;\n",
       "    }\n",
       "\n",
       "    .dataframe tbody tr th {\n",
       "        vertical-align: top;\n",
       "    }\n",
       "\n",
       "    .dataframe thead th {\n",
       "        text-align: right;\n",
       "    }\n",
       "</style>\n",
       "<table border=\"1\" class=\"dataframe\">\n",
       "  <thead>\n",
       "    <tr style=\"text-align: right;\">\n",
       "      <th></th>\n",
       "      <th>Words</th>\n",
       "      <th>valence</th>\n",
       "      <th>arousal</th>\n",
       "      <th>dominance</th>\n",
       "    </tr>\n",
       "  </thead>\n",
       "  <tbody>\n",
       "    <tr>\n",
       "      <th>84</th>\n",
       "      <td>boss</td>\n",
       "      <td>0.310</td>\n",
       "      <td>0.627</td>\n",
       "      <td>0.954</td>\n",
       "    </tr>\n",
       "    <tr>\n",
       "      <th>48</th>\n",
       "      <td>audacity</td>\n",
       "      <td>0.760</td>\n",
       "      <td>0.755</td>\n",
       "      <td>0.916</td>\n",
       "    </tr>\n",
       "    <tr>\n",
       "      <th>223</th>\n",
       "      <td>manager</td>\n",
       "      <td>0.625</td>\n",
       "      <td>0.549</td>\n",
       "      <td>0.897</td>\n",
       "    </tr>\n",
       "    <tr>\n",
       "      <th>241</th>\n",
       "      <td>persistence</td>\n",
       "      <td>0.684</td>\n",
       "      <td>0.611</td>\n",
       "      <td>0.873</td>\n",
       "    </tr>\n",
       "    <tr>\n",
       "      <th>232</th>\n",
       "      <td>attitude</td>\n",
       "      <td>0.760</td>\n",
       "      <td>0.644</td>\n",
       "      <td>0.861</td>\n",
       "    </tr>\n",
       "  </tbody>\n",
       "</table>\n",
       "</div>"
      ],
      "text/plain": [
       "           Words  valence  arousal  dominance\n",
       "84          boss    0.310    0.627      0.954\n",
       "48      audacity    0.760    0.755      0.916\n",
       "223      manager    0.625    0.549      0.897\n",
       "241  persistence    0.684    0.611      0.873\n",
       "232     attitude    0.760    0.644      0.861"
      ]
     },
     "execution_count": 122,
     "metadata": {},
     "output_type": "execute_result"
    }
   ],
   "source": [
    "df_NRC_man.sort_values(\"dominance\", ascending=False).head()"
   ]
  },
  {
   "cell_type": "code",
   "execution_count": 123,
   "metadata": {},
   "outputs": [
    {
     "data": {
      "text/html": [
       "<div>\n",
       "<style scoped>\n",
       "    .dataframe tbody tr th:only-of-type {\n",
       "        vertical-align: middle;\n",
       "    }\n",
       "\n",
       "    .dataframe tbody tr th {\n",
       "        vertical-align: top;\n",
       "    }\n",
       "\n",
       "    .dataframe thead th {\n",
       "        text-align: right;\n",
       "    }\n",
       "</style>\n",
       "<table border=\"1\" class=\"dataframe\">\n",
       "  <thead>\n",
       "    <tr style=\"text-align: right;\">\n",
       "      <th></th>\n",
       "      <th>Words</th>\n",
       "      <th>valence</th>\n",
       "      <th>arousal</th>\n",
       "      <th>dominance</th>\n",
       "    </tr>\n",
       "  </thead>\n",
       "  <tbody>\n",
       "    <tr>\n",
       "      <th>18</th>\n",
       "      <td>afraid</td>\n",
       "      <td>0.010</td>\n",
       "      <td>0.775</td>\n",
       "      <td>0.245</td>\n",
       "    </tr>\n",
       "    <tr>\n",
       "      <th>105</th>\n",
       "      <td>hell</td>\n",
       "      <td>0.020</td>\n",
       "      <td>0.918</td>\n",
       "      <td>0.565</td>\n",
       "    </tr>\n",
       "    <tr>\n",
       "      <th>173</th>\n",
       "      <td>hate</td>\n",
       "      <td>0.031</td>\n",
       "      <td>0.802</td>\n",
       "      <td>0.430</td>\n",
       "    </tr>\n",
       "    <tr>\n",
       "      <th>123</th>\n",
       "      <td>freak</td>\n",
       "      <td>0.052</td>\n",
       "      <td>0.839</td>\n",
       "      <td>0.464</td>\n",
       "    </tr>\n",
       "    <tr>\n",
       "      <th>97</th>\n",
       "      <td>shame</td>\n",
       "      <td>0.060</td>\n",
       "      <td>0.670</td>\n",
       "      <td>0.155</td>\n",
       "    </tr>\n",
       "  </tbody>\n",
       "</table>\n",
       "</div>"
      ],
      "text/plain": [
       "      Words  valence  arousal  dominance\n",
       "18   afraid    0.010    0.775      0.245\n",
       "105    hell    0.020    0.918      0.565\n",
       "173    hate    0.031    0.802      0.430\n",
       "123   freak    0.052    0.839      0.464\n",
       "97    shame    0.060    0.670      0.155"
      ]
     },
     "execution_count": 123,
     "metadata": {},
     "output_type": "execute_result"
    }
   ],
   "source": [
    "df_NRC_woman.sort_values(\"valence\").head()"
   ]
  },
  {
   "cell_type": "code",
   "execution_count": 124,
   "metadata": {},
   "outputs": [
    {
     "data": {
      "text/html": [
       "<div>\n",
       "<style scoped>\n",
       "    .dataframe tbody tr th:only-of-type {\n",
       "        vertical-align: middle;\n",
       "    }\n",
       "\n",
       "    .dataframe tbody tr th {\n",
       "        vertical-align: top;\n",
       "    }\n",
       "\n",
       "    .dataframe thead th {\n",
       "        text-align: right;\n",
       "    }\n",
       "</style>\n",
       "<table border=\"1\" class=\"dataframe\">\n",
       "  <thead>\n",
       "    <tr style=\"text-align: right;\">\n",
       "      <th></th>\n",
       "      <th>Words</th>\n",
       "      <th>valence</th>\n",
       "      <th>arousal</th>\n",
       "      <th>dominance</th>\n",
       "    </tr>\n",
       "  </thead>\n",
       "  <tbody>\n",
       "    <tr>\n",
       "      <th>64</th>\n",
       "      <td>elated</td>\n",
       "      <td>0.792</td>\n",
       "      <td>0.960</td>\n",
       "      <td>0.725</td>\n",
       "    </tr>\n",
       "    <tr>\n",
       "      <th>168</th>\n",
       "      <td>excited</td>\n",
       "      <td>0.908</td>\n",
       "      <td>0.931</td>\n",
       "      <td>0.709</td>\n",
       "    </tr>\n",
       "    <tr>\n",
       "      <th>218</th>\n",
       "      <td>aggressively</td>\n",
       "      <td>0.250</td>\n",
       "      <td>0.926</td>\n",
       "      <td>0.688</td>\n",
       "    </tr>\n",
       "    <tr>\n",
       "      <th>248</th>\n",
       "      <td>furiously</td>\n",
       "      <td>0.062</td>\n",
       "      <td>0.925</td>\n",
       "      <td>0.657</td>\n",
       "    </tr>\n",
       "    <tr>\n",
       "      <th>105</th>\n",
       "      <td>hell</td>\n",
       "      <td>0.020</td>\n",
       "      <td>0.918</td>\n",
       "      <td>0.565</td>\n",
       "    </tr>\n",
       "  </tbody>\n",
       "</table>\n",
       "</div>"
      ],
      "text/plain": [
       "            Words  valence  arousal  dominance\n",
       "64         elated    0.792    0.960      0.725\n",
       "168       excited    0.908    0.931      0.709\n",
       "218  aggressively    0.250    0.926      0.688\n",
       "248     furiously    0.062    0.925      0.657\n",
       "105          hell    0.020    0.918      0.565"
      ]
     },
     "execution_count": 124,
     "metadata": {},
     "output_type": "execute_result"
    }
   ],
   "source": [
    "df_NRC_woman.sort_values(\"arousal\", ascending=False).head()"
   ]
  },
  {
   "cell_type": "code",
   "execution_count": 125,
   "metadata": {},
   "outputs": [
    {
     "data": {
      "text/html": [
       "<div>\n",
       "<style scoped>\n",
       "    .dataframe tbody tr th:only-of-type {\n",
       "        vertical-align: middle;\n",
       "    }\n",
       "\n",
       "    .dataframe tbody tr th {\n",
       "        vertical-align: top;\n",
       "    }\n",
       "\n",
       "    .dataframe thead th {\n",
       "        text-align: right;\n",
       "    }\n",
       "</style>\n",
       "<table border=\"1\" class=\"dataframe\">\n",
       "  <thead>\n",
       "    <tr style=\"text-align: right;\">\n",
       "      <th></th>\n",
       "      <th>Words</th>\n",
       "      <th>valence</th>\n",
       "      <th>arousal</th>\n",
       "      <th>dominance</th>\n",
       "    </tr>\n",
       "  </thead>\n",
       "  <tbody>\n",
       "    <tr>\n",
       "      <th>189</th>\n",
       "      <td>boss</td>\n",
       "      <td>0.310</td>\n",
       "      <td>0.627</td>\n",
       "      <td>0.954</td>\n",
       "    </tr>\n",
       "    <tr>\n",
       "      <th>86</th>\n",
       "      <td>audacity</td>\n",
       "      <td>0.760</td>\n",
       "      <td>0.755</td>\n",
       "      <td>0.916</td>\n",
       "    </tr>\n",
       "    <tr>\n",
       "      <th>205</th>\n",
       "      <td>teacher</td>\n",
       "      <td>0.760</td>\n",
       "      <td>0.404</td>\n",
       "      <td>0.885</td>\n",
       "    </tr>\n",
       "    <tr>\n",
       "      <th>259</th>\n",
       "      <td>queen</td>\n",
       "      <td>0.875</td>\n",
       "      <td>0.692</td>\n",
       "      <td>0.860</td>\n",
       "    </tr>\n",
       "    <tr>\n",
       "      <th>124</th>\n",
       "      <td>decide</td>\n",
       "      <td>0.656</td>\n",
       "      <td>0.540</td>\n",
       "      <td>0.855</td>\n",
       "    </tr>\n",
       "  </tbody>\n",
       "</table>\n",
       "</div>"
      ],
      "text/plain": [
       "        Words  valence  arousal  dominance\n",
       "189      boss    0.310    0.627      0.954\n",
       "86   audacity    0.760    0.755      0.916\n",
       "205   teacher    0.760    0.404      0.885\n",
       "259     queen    0.875    0.692      0.860\n",
       "124    decide    0.656    0.540      0.855"
      ]
     },
     "execution_count": 125,
     "metadata": {},
     "output_type": "execute_result"
    }
   ],
   "source": [
    "df_NRC_woman.sort_values(\"dominance\", ascending=False).head()"
   ]
  },
  {
   "cell_type": "code",
   "execution_count": 126,
   "metadata": {},
   "outputs": [
    {
     "name": "stdout",
     "output_type": "stream",
     "text": [
      "0.06436397054891572 0.035926383532525856 0.02843336028448437\n"
     ]
    }
   ],
   "source": [
    "print(df_NRC_man[\"valence\"].var(),df_NRC_man[\"arousal\"].var(),df_NRC_man[\"dominance\"].var() )"
   ]
  },
  {
   "cell_type": "code",
   "execution_count": 127,
   "metadata": {},
   "outputs": [
    {
     "name": "stdout",
     "output_type": "stream",
     "text": [
      "0.05540919463601533 0.03526120621868553 0.02447201087533157\n"
     ]
    }
   ],
   "source": [
    "print(df_NRC_woman[\"valence\"].var(),df_NRC_woman[\"arousal\"].var(),df_NRC_woman[\"dominance\"].var() )"
   ]
  },
  {
   "cell_type": "code",
   "execution_count": 128,
   "metadata": {},
   "outputs": [],
   "source": [
    "def check_normal_dist(df,subject, gender):\n",
    "    import scipy.stats as stats\n",
    "    import numpy as np\n",
    "    import matplotlib.pyplot as plt\n",
    "    %matplotlib inline\n",
    "    from scipy import stats\n",
    "\n",
    "    z =  (df[\"valence\"]- np.mean(df[subject]))/np.std(df[subject])\n",
    "    stats.probplot(z, dist=\"norm\", plot=plt)\n",
    "    plt.title(f\"Normal Q-Q plot ({gender})\")\n",
    "    plt.show()\n",
    "\n",
    "    print(\"kolmogorv\", stats.kstest(df[subject],\n",
    "               stats.norm.cdf))"
   ]
  },
  {
   "cell_type": "code",
   "execution_count": 129,
   "metadata": {},
   "outputs": [
    {
     "data": {
      "image/png": "[encoded data removed]",
      "text/plain": [
       "<Figure size 432x288 with 1 Axes>"
      ]
     },
     "metadata": {
      "needs_background": "light"
     },
     "output_type": "display_data"
    },
    {
     "name": "stdout",
     "output_type": "stream",
     "text": [
      "kolmogorv KstestResult(statistic=0.5648545525871953, pvalue=3.9706904101649854e-79)\n"
     ]
    }
   ],
   "source": [
    "check_normal_dist(df_NRC_woman, \"arousal\", \"woman\")"
   ]
  },
  {
   "cell_type": "code",
   "execution_count": 130,
   "metadata": {},
   "outputs": [
    {
     "data": {
      "image/png": "[encoded data removed]",
      "text/plain": [
       "<Figure size 432x288 with 1 Axes>"
      ]
     },
     "metadata": {
      "needs_background": "light"
     },
     "output_type": "display_data"
    },
    {
     "name": "stdout",
     "output_type": "stream",
     "text": [
      "kolmogorv KstestResult(statistic=0.5549963430058545, pvalue=6.4487008890265276e-80)\n"
     ]
    }
   ],
   "source": [
    "check_normal_dist(df_NRC_man, \"arousal\",\"man\")"
   ]
  },
  {
   "cell_type": "code",
   "execution_count": null,
   "metadata": {},
   "outputs": [],
   "source": []
  },
  {
   "cell_type": "code",
   "execution_count": 131,
   "metadata": {},
   "outputs": [],
   "source": [
    "def apply_welch_test(df_1,df_2,score_type):\n",
    "    from scipy.stats import ttest_ind\n",
    "    import math\n",
    "    import statistics\n",
    "\n",
    "    stat, p = ttest_ind(df_1[score_type].tolist(),df_2[score_type].tolist(), nan_policy=\"omit\", alternative=\"two-sided\",equal_var=False )#, equal_var=False)\n",
    "    alpha = 0.05\n",
    "    print(\"welsh\")\n",
    "    print(\"Statistics=%3f, p=%.3f\" % (stat, p))\n",
    "    if p < alpha:\n",
    "        print(\"Different distributions (reject H0)\")\n",
    "    else:\n",
    "        print(\"Same distribution (fail to reject H0)\")\n",
    "    if p < alpha:\n",
    "        d = (df_1[score_type].mean() - df_2[score_type].mean())/math.sqrt(((df_1[score_type].var() + df_2[score_type].var())/2))\n",
    "        \n",
    "        print(d, \"Cohens D\")\n",
    "    print(len(df_1), len(df_2))"
   ]
  },
  {
   "cell_type": "code",
   "execution_count": 134,
   "metadata": {},
   "outputs": [
    {
     "name": "stdout",
     "output_type": "stream",
     "text": [
      "welsh\n",
      "Statistics=-2.447189, p=0.015\n",
      "Different distributions (reject H0)\n",
      "-0.21164086946776997 Cohens D\n",
      "261 274\n",
      "welsh\n",
      "Statistics=3.362393, p=0.001\n",
      "Different distributions (reject H0)\n",
      "0.29055947105156965 Cohens D\n",
      "261 274\n",
      "welsh\n",
      "Statistics=2.176929, p=0.030\n",
      "Different distributions (reject H0)\n",
      "0.1881178887473758 Cohens D\n",
      "261 274\n"
     ]
    }
   ],
   "source": [
    "apply_welch_test(df_NRC_woman, df_NRC_man,\"arousal\")\n",
    "apply_welch_test(df_NRC_woman, df_NRC_man,\"valence\")\n",
    "apply_welch_test(df_NRC_woman, df_NRC_man,\"dominance\")"
   ]
  },
  {
   "cell_type": "code",
   "execution_count": 133,
   "metadata": {},
   "outputs": [
    {
     "name": "stdout",
     "output_type": "stream",
     "text": [
      "0.4847992700729925 0.5299671532846716 0.4771970802919713\n",
      "0.5559042145593871 0.49003831417624544 0.5077931034482759\n"
     ]
    }
   ],
   "source": [
    "print(df_NRC_man[\"valence\"].mean(),df_NRC_man[\"arousal\"].mean(),df_NRC_man[\"dominance\"].mean() )\n",
    "print(df_NRC_woman[\"valence\"].mean(),df_NRC_woman[\"arousal\"].mean(),df_NRC_woman[\"dominance\"].mean() )"
   ]
  },
  {
   "cell_type": "code",
   "execution_count": null,
   "metadata": {},
   "outputs": [],
   "source": []
  }
 ],
 "metadata": {
  "kernelspec": {
   "display_name": "myenv",
   "language": "python",
   "name": "myenv"
  },
  "language_info": {
   "codemirror_mode": {
    "name": "ipython",
    "version": 3
   },
   "file_extension": ".py",
   "mimetype": "text/x-python",
   "name": "python",
   "nbconvert_exporter": "python",
   "pygments_lexer": "ipython3",
   "version": "3.8.5"
  }
 },
 "nbformat": 4,
 "nbformat_minor": 4
}
